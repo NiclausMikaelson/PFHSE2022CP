{
 "cells": [
  {
   "cell_type": "markdown",
   "metadata": {},
   "source": [
    "Before you turn this problem in, make sure everything runs as expected. First, **restart the kernel** (in the menubar, select Kernel$\\rightarrow$Restart) and then **run all cells** (in the menubar, select Cell$\\rightarrow$Run All).\n",
    "\n",
    "Make sure you fill in any place that says `YOUR CODE HERE` or \"YOUR ANSWER HERE\", as well as your github nickname below:"
   ]
  },
  {
   "cell_type": "code",
   "execution_count": null,
   "metadata": {},
   "outputs": [],
   "source": [
    "NICKNAME = \"\""
   ]
  },
  {
   "cell_type": "markdown",
   "metadata": {},
   "source": [
    "---"
   ]
  },
  {
   "cell_type": "markdown",
   "metadata": {
    "deletable": false,
    "editable": false,
    "nbgrader": {
     "cell_type": "markdown",
     "checksum": "6efb33090fabfc6a1f2cd087e5c642f7",
     "grade": false,
     "grade_id": "cell-9b523965d40334d3",
     "locked": true,
     "schema_version": 3,
     "solution": false,
     "task": false
    }
   },
   "source": [
    "# Задача Коши для ОДУ"
   ]
  },
  {
   "cell_type": "markdown",
   "metadata": {
    "deletable": false,
    "editable": false,
    "nbgrader": {
     "cell_type": "markdown",
     "checksum": "14f628d356e98eee68443f6b42d884bd",
     "grade": false,
     "grade_id": "cell-a23d606ae810688a",
     "locked": true,
     "schema_version": 3,
     "solution": false,
     "task": false
    }
   },
   "source": [
    "# I. Метод Эйлера для ОДУ первого порядка.\n",
    "\n",
    "Рассмотрим уравнение первого порядка\n",
    "\n",
    "$$\n",
    "\\frac{d u}{d t} = \\lambda u\n",
    "$$\n",
    "\n",
    "С начальным условием $u(t=0) = u_0$.\n",
    "\n",
    "Далее представлена простая иллюстрация явного метода Эйлера для решения такого уравнения."
   ]
  },
  {
   "cell_type": "code",
   "execution_count": 1,
   "metadata": {
    "ExecuteTime": {
     "end_time": "2022-10-07T20:13:23.574599Z",
     "start_time": "2022-10-07T20:13:23.136396Z"
    },
    "deletable": false,
    "editable": false,
    "nbgrader": {
     "cell_type": "code",
     "checksum": "09f6faad235fa2af62e3972bb4b5fa79",
     "grade": false,
     "grade_id": "cell-275adf71ea9912f4",
     "locked": true,
     "schema_version": 3,
     "solution": false,
     "task": false
    }
   },
   "outputs": [],
   "source": [
    "import numpy as np\n",
    "import matplotlib.pyplot as plt\n",
    "%matplotlib notebook"
   ]
  },
  {
   "cell_type": "code",
   "execution_count": null,
   "metadata": {
    "deletable": false,
    "editable": false,
    "nbgrader": {
     "cell_type": "code",
     "checksum": "b53215a198316ab99e2964e3a9c5947b",
     "grade": false,
     "grade_id": "cell-489aa147b6c22003",
     "locked": true,
     "schema_version": 3,
     "solution": false,
     "task": false
    }
   },
   "outputs": [],
   "source": [
    "def euler_solve(lam, u0, T, dt):\n",
    "    \"\"\"Решает $du/dt = \\lambda u$ на $0 < t < T$ с $u(t=0) = u0$ при помощи явного метода Эйлера с шагом dt\"\"\"\n",
    "    num_steps = int(T/dt)\n",
    "    tt = np.arange(num_steps+1)*dt\n",
    "    y = np.empty(num_steps+1)\n",
    "    y[0] = u0\n",
    "    for k in range(num_steps):\n",
    "        y[k+1] = y[k] + dt*lam*y[k]\n",
    "    return tt, y"
   ]
  },
  {
   "cell_type": "code",
   "execution_count": null,
   "metadata": {
    "deletable": false,
    "editable": false,
    "nbgrader": {
     "cell_type": "code",
     "checksum": "8abef8592639626467cad3d042cfc756",
     "grade": false,
     "grade_id": "cell-f544e90b58d49628",
     "locked": true,
     "schema_version": 3,
     "solution": false,
     "task": false
    }
   },
   "outputs": [],
   "source": [
    "lam = -0.5\n",
    "tt, y = euler_solve(lam, u0=1.0, T=5, dt=0.1)\n",
    "plt.plot(tt, y, 'o--', label='numeric solution')\n",
    "plt.plot(tt, np.exp(lam*tt), '-', lw=2, label='ground truth')\n",
    "plt.legend(loc='best')\n",
    "plt.grid(True)"
   ]
  },
  {
   "cell_type": "markdown",
   "metadata": {
    "deletable": false,
    "editable": false,
    "nbgrader": {
     "cell_type": "markdown",
     "checksum": "ec81c9065de90f00a05cf0a7d4c23bf3",
     "grade": false,
     "grade_id": "cell-280070433659bcea",
     "locked": true,
     "schema_version": 3,
     "solution": false,
     "task": false
    }
   },
   "source": [
    "### Тест I.1\n",
    "\n",
    "Постройте решения как в ячейке выше для различных $\\tau$ (в коде это `dt`), включая $|\\lambda| \\tau > 1$.\n",
    "\n",
    "(1 point)"
   ]
  },
  {
   "cell_type": "code",
   "execution_count": null,
   "metadata": {
    "deletable": false,
    "nbgrader": {
     "cell_type": "code",
     "checksum": "32df3b2b970c8b477e081aa10cf0ddb8",
     "grade": true,
     "grade_id": "cell-a4b2a8664c051974",
     "locked": false,
     "points": 1,
     "schema_version": 3,
     "solution": true,
     "task": false
    }
   },
   "outputs": [],
   "source": [
    "# YOUR CODE HERE\n",
    "raise NotImplementedError()"
   ]
  },
  {
   "cell_type": "markdown",
   "metadata": {
    "deletable": false,
    "editable": false,
    "nbgrader": {
     "cell_type": "markdown",
     "checksum": "daa7b64e56f295884674af5723eedd39",
     "grade": false,
     "grade_id": "cell-5ae1205a7f778578",
     "locked": true,
     "schema_version": 3,
     "solution": false,
     "task": false
    }
   },
   "source": [
    "### Тест I.2\n",
    "\n",
    "Решите то же самое уравнение $du/dt = \\lambda u$, используя неявную схему Эйлера. Сравните поведение неявной и явной схем Эйлера. Обсудите.\n",
    "\n",
    "(1 point)"
   ]
  },
  {
   "cell_type": "code",
   "execution_count": null,
   "metadata": {
    "deletable": false,
    "nbgrader": {
     "cell_type": "code",
     "checksum": "90cb047080fe9c757216479d7dc9a759",
     "grade": true,
     "grade_id": "cell-c0b39ab300b9ba9e",
     "locked": false,
     "points": 1,
     "schema_version": 3,
     "solution": true,
     "task": false
    }
   },
   "outputs": [],
   "source": [
    "# YOUR CODE HERE\n",
    "raise NotImplementedError()"
   ]
  },
  {
   "cell_type": "markdown",
   "metadata": {
    "deletable": false,
    "editable": false,
    "nbgrader": {
     "cell_type": "markdown",
     "checksum": "45419d307fb6448744a7aca866e92a2e",
     "grade": false,
     "grade_id": "cell-a1337f0a879c5260",
     "locked": true,
     "schema_version": 3,
     "solution": false,
     "task": false
    }
   },
   "source": [
    "## II. Жесткие системы."
   ]
  },
  {
   "cell_type": "markdown",
   "metadata": {
    "deletable": false,
    "editable": false,
    "nbgrader": {
     "cell_type": "markdown",
     "checksum": "c6fb77a1e79e816ad01f4b9b7da29575",
     "grade": false,
     "grade_id": "cell-8d6421cfcbcc65e7",
     "locked": true,
     "schema_version": 3,
     "solution": false,
     "task": false
    }
   },
   "source": [
    "Рассмотрим систему двух уравнений первого порядка.\n",
    "\n",
    "$$\n",
    "\\frac{d \\mathbf{u} }{d t} = A \\mathbf{u}\n",
    "$$\n",
    "\n",
    "где $\\mathbf{u}$ есть вектор длины 2, $A = const$ - известная матрица 2$\\times$2.\n",
    "\n",
    "Выполните обобщение алгоритма `euler_solve` для решения систем линейных уравнений первого порядка с матрицей $A$, не зависящей от времени, используя явную схему Эйлера."
   ]
  },
  {
   "cell_type": "code",
   "execution_count": null,
   "metadata": {
    "deletable": false,
    "nbgrader": {
     "cell_type": "code",
     "checksum": "7f9bf3821e6b97c7a06ab62110b0a05c",
     "grade": false,
     "grade_id": "cell-434639a2772a1867",
     "locked": false,
     "schema_version": 3,
     "solution": true,
     "task": false
    }
   },
   "outputs": [],
   "source": [
    "# YOUR CODE HERE\n",
    "raise NotImplementedError()"
   ]
  },
  {
   "cell_type": "markdown",
   "metadata": {
    "deletable": false,
    "editable": false,
    "nbgrader": {
     "cell_type": "markdown",
     "checksum": "78a48a001dd2e3eae8b001b7c5a385dd",
     "grade": false,
     "grade_id": "cell-19ab81ee9161f6c5",
     "locked": true,
     "schema_version": 3,
     "solution": false,
     "task": false
    }
   },
   "source": [
    "### Тест II.1\n",
    "\n",
    "Возьмите \n",
    "$$\n",
    "A = \\begin{bmatrix} -10 & 10 \\\\ 32 & -499 \\end{bmatrix}\n",
    "$$\n",
    "\n",
    "с начальным условием $\\mathbf{u} = (1, 0)^T$.\n",
    "\n",
    "Решите систему, используя фиксированный шаг $\\tau=0.01$. Стабилен ли метод на шаге такого размера?\n",
    "\n",
    "Найдите собственные значения $A$ (используя `np.linalg.eigvals`) и прокомментируйте, является ли система жесткой.\n",
    "\n",
    "(1 point)"
   ]
  },
  {
   "cell_type": "code",
   "execution_count": null,
   "metadata": {
    "deletable": false,
    "nbgrader": {
     "cell_type": "code",
     "checksum": "1b5cfcc8297c6e6fd0d78b71a6849f5f",
     "grade": true,
     "grade_id": "cell-c807f4452ea7853a",
     "locked": false,
     "points": 1,
     "schema_version": 3,
     "solution": true,
     "task": false
    }
   },
   "outputs": [],
   "source": [
    "# YOUR CODE HERE\n",
    "raise NotImplementedError()"
   ]
  },
  {
   "cell_type": "markdown",
   "metadata": {
    "deletable": false,
    "editable": false,
    "nbgrader": {
     "cell_type": "markdown",
     "checksum": "b482a9266c813015523157d175a15449",
     "grade": false,
     "grade_id": "cell-df4fb53cd32cb17f",
     "locked": true,
     "schema_version": 3,
     "solution": false,
     "task": false
    }
   },
   "source": [
    "### Тест II.2\n",
    "\n",
    "Реализуйте \\textit{неявную} схему Эйлера для системы уравнений первого порядка с постоянными коэффициентами. Заметьте, что на каждом шаге вам необходимо решать систему линейных алгебраических уравнений (используйте `np.linalg.solve`).\n",
    "\n",
    "Выполните те же самые шаги, что и в тесте II.1 с таким же шагом $\\tau=0.01$. Сравните решения, полученные явной и неявной схемами Эйлера.\n",
    "\n",
    "(1 point)"
   ]
  },
  {
   "cell_type": "code",
   "execution_count": null,
   "metadata": {
    "deletable": false,
    "nbgrader": {
     "cell_type": "code",
     "checksum": "090807a9204266b6eac0883d8e405846",
     "grade": true,
     "grade_id": "cell-924511124def49d2",
     "locked": false,
     "points": 1,
     "schema_version": 3,
     "solution": true,
     "task": false
    }
   },
   "outputs": [],
   "source": [
    "# YOUR CODE HERE\n",
    "raise NotImplementedError()"
   ]
  },
  {
   "cell_type": "markdown",
   "metadata": {
    "collapsed": true,
    "deletable": false,
    "editable": false,
    "nbgrader": {
     "cell_type": "markdown",
     "checksum": "a93280edee50647b57d864e82935155d",
     "grade": false,
     "grade_id": "cell-58e8135483477269",
     "locked": true,
     "schema_version": 3,
     "solution": false,
     "task": false
    }
   },
   "source": [
    "# III. Модель Ланкастера\n",
    "\n",
    "Рассмотрим модель Ланкастера: две армии, численность которых $x_1(t)$\n",
    "и $x_2(t)$ соответственно, истребляют друг друга:\n",
    "\n",
    "$$\n",
    "\\begin{cases}\n",
    "\\frac{d\\,x_1}{dt} = - c_2 x_2,\\\\\n",
    "\\frac{d\\,x_2}{dt} = - c_1 x_1\n",
    "\\end{cases}\n",
    "$$\n",
    "\n",
    "Война заканчивается в момент времени $T$, если численность какой-то из армий становится равна нулю $x_i(T)=0$ .\n",
    "\n",
    "\n",
    "Для удоства будем исчилять время в $1/c_1$, тогда далее везде считаем $c_1=1, c_2=c$.\n",
    "\n",
    "$$\n",
    "\\frac{d}{dt}\n",
    "\\begin{pmatrix}\n",
    "x_1\\\\\n",
    "x_2\n",
    "\\end{pmatrix}= \n",
    "\\begin{pmatrix}\n",
    "0& -c\\\\\n",
    "-1& 0\n",
    "\\end{pmatrix}\n",
    "\\begin{pmatrix}\n",
    "x_1\\\\\n",
    "x_2\n",
    "\\end{pmatrix}\n",
    "$$\n",
    "Можно явно выписать решение, найдя характеристические числа и собственные вектора\n",
    "$$\n",
    "\\mathbf{x} = \\sum_\\pm C_{\\pm}\\mathbf{e_\\pm} e^{\\lambda_{\\pm}t}, \\; \\lambda_{\\pm} = \\pm \\sqrt{c}, \\mathbf{e}_{\\pm} = (\\mp \\sqrt{c}, 1)\n",
    "$$\n",
    "\n",
    "### Тест III.1 \n",
    "Однако, если нас интересуют фазовые траектории(например кто победит), достаточно заметить, что у этой системы есть первый интеграл движения $I(x,y)=const$ (она Гамильтонова).\n",
    "\n",
    "Найдите его, какая начальная численность первой армии $x_1(0)$ необходима для её победы? $x_{1min}(c, x_2(0))$"
   ]
  },
  {
   "cell_type": "markdown",
   "metadata": {
    "collapsed": true,
    "deletable": false,
    "nbgrader": {
     "cell_type": "markdown",
     "checksum": "9922561d62b79a7d3a2ddf9c1b9a6023",
     "grade": true,
     "grade_id": "cell-1d935f818793fa57",
     "locked": false,
     "points": 1,
     "schema_version": 3,
     "solution": true,
     "task": false
    }
   },
   "source": [
    "YOUR ANSWER HERE"
   ]
  },
  {
   "cell_type": "markdown",
   "metadata": {
    "deletable": false,
    "editable": false,
    "nbgrader": {
     "cell_type": "markdown",
     "checksum": "44ec1f24c3850706a1f594a7fbdc7f0c",
     "grade": false,
     "grade_id": "cell-c685dcce3b8efd52",
     "locked": true,
     "schema_version": 3,
     "solution": false,
     "task": false
    }
   },
   "source": [
    "### Тест III.2\n",
    "\n",
    "Поробуем численно решить задачу для $c=2, x_2(0)=1$ при трёх начальных $x_1(0) = x_{1min}(c=2,x_2(0)=1)\\times[1+10^{-2}, 1+ 10^{-1}, 2]$. \n",
    "\n",
    "Подправьте явную или неявную схему Эйлера так, чтобы она интегрировала до момента победы.\n",
    "Реализуйте схему Рунге - Кутта второго порядка с тем же требованием.\n",
    "\n",
    "\n",
    "**Постройте в двойном логарифмическом масштабе отклонение $I(T)$ от истинного значения\n",
    "$\\delta I = |I(x(T),y(T)) - I(x_1(0),x_2(0)|$ , в зависимости от шага интегрирования $\\tau$** проинтегрировав \n",
    "* Методом Эйлера для трёх указнных $x_1(0)$ и различных $\\tau$\n",
    "* Методом Рунге - Кутта для трёх указанных $x_1(0)$ и различных $\\tau$\n",
    "\n",
    "(Должно быть 6 линий на графике - двумя методами каждую из $x_1(0)$)\n",
    "\n",
    "(Используйте сплошные линии для Эйлера и пунктирные для РК, цветом различайте начальные $x_1(0)$)\n",
    "\n",
    "(Шаги интегрирования $\\tau$ удобно уменьшать как $2^{-N}$ или сгенерировать как `np.logspace` )\n",
    "\n",
    "*Как полученные кривые соотносятся с теоретическим порядком аппроксимации схем?*\n",
    "\n",
    "\n",
    "(4 point)"
   ]
  },
  {
   "cell_type": "code",
   "execution_count": null,
   "metadata": {
    "deletable": false,
    "nbgrader": {
     "cell_type": "code",
     "checksum": "490fcdb48c17066bcda3bab74eba078e",
     "grade": true,
     "grade_id": "cell-fc2381a56a533f8f",
     "locked": false,
     "points": 4,
     "schema_version": 3,
     "solution": true,
     "task": false
    }
   },
   "outputs": [],
   "source": [
    "# YOUR CODE HERE\n",
    "raise NotImplementedError()"
   ]
  },
  {
   "cell_type": "markdown",
   "metadata": {
    "deletable": false,
    "editable": false,
    "nbgrader": {
     "cell_type": "markdown",
     "checksum": "67dcb073db70f39826e5582329ce7065",
     "grade": false,
     "grade_id": "cell-34682d652b489210",
     "locked": true,
     "schema_version": 3,
     "solution": false,
     "task": false
    }
   },
   "source": [
    "Вернёмся к аналитическому рассмотрению.\n",
    "Найдите явно решение $\\mathbf{x}(t)$ в зависимости от начальных $x_1(0), x_2(0)$, выразив через них $C_{\\pm}$.\n",
    "Получите формулу для времени окончания войны $T(x_1(0), x_2(0))$.\n",
    "Постройте на одном холсте при $c=\\frac{3}{2}$\n",
    "* Несколько фазовых траекторий (линий $I(x_1,x_2) = const$ с различными константами)\n",
    "* Несколько линий уровня $T(x_1(0), x_2(0))$ (ГМТ начальных данных, где время войны фиксированно)\n",
    "\n",
    "Итоговый график должен быть информативным, не забудьте в частности указать чему равны $T$ на изолиниях (лучше подписать на самих линиях как в `plt.clabel(curves)`, а не в легенде)\n",
    "\n",
    "Можете ли вы получить асимтотическое выражение для $T$ при $x_1(0) = x_{1min} + \\epsilon, \\epsilon\\ll1$?\n",
    "\n",
    "(3 point)"
   ]
  },
  {
   "cell_type": "code",
   "execution_count": null,
   "metadata": {
    "deletable": false,
    "nbgrader": {
     "cell_type": "code",
     "checksum": "9b9c901da65f98886ac23781c737716c",
     "grade": true,
     "grade_id": "cell-3d68c8d027527bd1",
     "locked": false,
     "points": 3,
     "schema_version": 3,
     "solution": true,
     "task": false
    }
   },
   "outputs": [],
   "source": [
    "# YOUR CODE HERE\n",
    "raise NotImplementedError()"
   ]
  }
 ],
 "metadata": {
  "kernelspec": {
   "display_name": "Python 3",
   "language": "python",
   "name": "python3"
  },
  "language_info": {
   "codemirror_mode": {
    "name": "ipython",
    "version": 3
   },
   "file_extension": ".py",
   "mimetype": "text/x-python",
   "name": "python",
   "nbconvert_exporter": "python",
   "pygments_lexer": "ipython3",
   "version": "3.8.8"
  },
  "latex_envs": {
   "LaTeX_envs_menu_present": true,
   "autoclose": false,
   "autocomplete": true,
   "bibliofile": "biblio.bib",
   "cite_by": "apalike",
   "current_citInitial": 1,
   "eqLabelWithNumbers": true,
   "eqNumInitial": 1,
   "hotkeys": {
    "equation": "Ctrl-E",
    "itemize": "Ctrl-I"
   },
   "labels_anchors": false,
   "latex_user_defs": false,
   "report_style_numbering": false,
   "user_envs_cfg": false
  },
  "toc": {
   "base_numbering": 1,
   "nav_menu": {},
   "number_sections": true,
   "sideBar": true,
   "skip_h1_title": false,
   "title_cell": "Table of Contents",
   "title_sidebar": "Contents",
   "toc_cell": false,
   "toc_position": {},
   "toc_section_display": true,
   "toc_window_display": false
  }
 },
 "nbformat": 4,
 "nbformat_minor": 2
}

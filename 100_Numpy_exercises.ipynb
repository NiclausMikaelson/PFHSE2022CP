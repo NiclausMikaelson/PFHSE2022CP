{
 "cells": [
  {
   "cell_type": "markdown",
   "id": "ad1d1330",
   "metadata": {},
   "source": [
    "# 100 numpy exercises\n",
    "\n",
    "This is a collection of exercises that have been collected in the numpy mailing list, on stack overflow\n",
    "and in the numpy documentation. The goal of this collection is to offer a quick reference for both old\n",
    "and new users but also to provide a set of exercises for those who teach.\n",
    "\n",
    "\n",
    "If you find an error or think you've a better way to solve some of them, feel\n",
    "free to open an issue at <https://github.com/rougier/numpy-100>."
   ]
  },
  {
   "cell_type": "markdown",
   "id": "1d620162",
   "metadata": {},
   "source": [
    "File automatically generated. See the documentation to update questions/answers/hints programmatically."
   ]
  },
  {
   "cell_type": "markdown",
   "id": "8574d627",
   "metadata": {},
   "source": [
    "Run the `initialize.py` module, then for each question you can query the\n",
    "answer or an hint with `hint(n)` or `answer(n)` for `n` question number."
   ]
  },
  {
   "cell_type": "code",
   "execution_count": 1,
   "id": "c6fe8a29",
   "metadata": {},
   "outputs": [
    {
     "ename": "Exception",
     "evalue": "File `'initialise.py'` not found.",
     "output_type": "error",
     "traceback": [
      "\u001b[1;31m--------------------------------------------------------------------\u001b[0m",
      "\u001b[1;31mOSError\u001b[0m                            Traceback (most recent call last)",
      "File \u001b[1;32m~\\anaconda3\\lib\\site-packages\\IPython\\core\\magics\\execution.py:696\u001b[0m, in \u001b[0;36mExecutionMagics.run\u001b[1;34m(self, parameter_s, runner, file_finder)\u001b[0m\n\u001b[0;32m    695\u001b[0m     fpath \u001b[38;5;241m=\u001b[39m arg_lst[\u001b[38;5;241m0\u001b[39m]\n\u001b[1;32m--> 696\u001b[0m     filename \u001b[38;5;241m=\u001b[39m \u001b[43mfile_finder\u001b[49m\u001b[43m(\u001b[49m\u001b[43mfpath\u001b[49m\u001b[43m)\u001b[49m\n\u001b[0;32m    697\u001b[0m \u001b[38;5;28;01mexcept\u001b[39;00m \u001b[38;5;167;01mIndexError\u001b[39;00m \u001b[38;5;28;01mas\u001b[39;00m e:\n",
      "File \u001b[1;32m~\\anaconda3\\lib\\site-packages\\IPython\\utils\\path.py:91\u001b[0m, in \u001b[0;36mget_py_filename\u001b[1;34m(name)\u001b[0m\n\u001b[0;32m     90\u001b[0m \u001b[38;5;28;01melse\u001b[39;00m:\n\u001b[1;32m---> 91\u001b[0m     \u001b[38;5;28;01mraise\u001b[39;00m \u001b[38;5;167;01mIOError\u001b[39;00m(\u001b[38;5;124m'\u001b[39m\u001b[38;5;124mFile `\u001b[39m\u001b[38;5;132;01m%r\u001b[39;00m\u001b[38;5;124m` not found.\u001b[39m\u001b[38;5;124m'\u001b[39m \u001b[38;5;241m%\u001b[39m name)\n",
      "\u001b[1;31mOSError\u001b[0m: File `'initialise.py'` not found.",
      "\nThe above exception was the direct cause of the following exception:\n",
      "\u001b[1;31mException\u001b[0m                          Traceback (most recent call last)",
      "Input \u001b[1;32mIn [1]\u001b[0m, in \u001b[0;36m<cell line: 1>\u001b[1;34m()\u001b[0m\n\u001b[1;32m----> 1\u001b[0m \u001b[43mget_ipython\u001b[49m\u001b[43m(\u001b[49m\u001b[43m)\u001b[49m\u001b[38;5;241;43m.\u001b[39;49m\u001b[43mrun_line_magic\u001b[49m\u001b[43m(\u001b[49m\u001b[38;5;124;43m'\u001b[39;49m\u001b[38;5;124;43mrun\u001b[39;49m\u001b[38;5;124;43m'\u001b[39;49m\u001b[43m,\u001b[49m\u001b[43m \u001b[49m\u001b[38;5;124;43m'\u001b[39;49m\u001b[38;5;124;43minitialise.py\u001b[39;49m\u001b[38;5;124;43m'\u001b[39;49m\u001b[43m)\u001b[49m\n",
      "File \u001b[1;32m~\\anaconda3\\lib\\site-packages\\IPython\\core\\interactiveshell.py:2294\u001b[0m, in \u001b[0;36mInteractiveShell.run_line_magic\u001b[1;34m(self, magic_name, line, _stack_depth)\u001b[0m\n\u001b[0;32m   2292\u001b[0m     kwargs[\u001b[38;5;124m'\u001b[39m\u001b[38;5;124mlocal_ns\u001b[39m\u001b[38;5;124m'\u001b[39m] \u001b[38;5;241m=\u001b[39m \u001b[38;5;28mself\u001b[39m\u001b[38;5;241m.\u001b[39mget_local_scope(stack_depth)\n\u001b[0;32m   2293\u001b[0m \u001b[38;5;28;01mwith\u001b[39;00m \u001b[38;5;28mself\u001b[39m\u001b[38;5;241m.\u001b[39mbuiltin_trap:\n\u001b[1;32m-> 2294\u001b[0m     result \u001b[38;5;241m=\u001b[39m fn(\u001b[38;5;241m*\u001b[39margs, \u001b[38;5;241m*\u001b[39m\u001b[38;5;241m*\u001b[39mkwargs)\n\u001b[0;32m   2295\u001b[0m \u001b[38;5;28;01mreturn\u001b[39;00m result\n",
      "File \u001b[1;32m~\\anaconda3\\lib\\site-packages\\IPython\\core\\magics\\execution.py:707\u001b[0m, in \u001b[0;36mExecutionMagics.run\u001b[1;34m(self, parameter_s, runner, file_finder)\u001b[0m\n\u001b[0;32m    705\u001b[0m     \u001b[38;5;28;01mif\u001b[39;00m os\u001b[38;5;241m.\u001b[39mname \u001b[38;5;241m==\u001b[39m \u001b[38;5;124m'\u001b[39m\u001b[38;5;124mnt\u001b[39m\u001b[38;5;124m'\u001b[39m \u001b[38;5;129;01mand\u001b[39;00m re\u001b[38;5;241m.\u001b[39mmatch(\u001b[38;5;124mr\u001b[39m\u001b[38;5;124m\"\u001b[39m\u001b[38;5;124m^\u001b[39m\u001b[38;5;124m'\u001b[39m\u001b[38;5;124m.*\u001b[39m\u001b[38;5;124m'\u001b[39m\u001b[38;5;124m$\u001b[39m\u001b[38;5;124m\"\u001b[39m,fpath):\n\u001b[0;32m    706\u001b[0m         warn(\u001b[38;5;124m'\u001b[39m\u001b[38;5;124mFor Windows, use double quotes to wrap a filename: \u001b[39m\u001b[38;5;132;01m%r\u001b[39;00m\u001b[38;5;124mun \u001b[39m\u001b[38;5;124m\"\u001b[39m\u001b[38;5;124mmypath\u001b[39m\u001b[38;5;130;01m\\\\\u001b[39;00m\u001b[38;5;124mmyfile.py\u001b[39m\u001b[38;5;124m\"\u001b[39m\u001b[38;5;124m'\u001b[39m)\n\u001b[1;32m--> 707\u001b[0m     \u001b[38;5;28;01mraise\u001b[39;00m \u001b[38;5;167;01mException\u001b[39;00m(msg) \u001b[38;5;28;01mfrom\u001b[39;00m \u001b[38;5;21;01me\u001b[39;00m\n\u001b[0;32m    708\u001b[0m \u001b[38;5;28;01mexcept\u001b[39;00m \u001b[38;5;167;01mTypeError\u001b[39;00m:\n\u001b[0;32m    709\u001b[0m     \u001b[38;5;28;01mif\u001b[39;00m fpath \u001b[38;5;129;01min\u001b[39;00m sys\u001b[38;5;241m.\u001b[39mmeta_path:\n",
      "\u001b[1;31mException\u001b[0m: File `'initialise.py'` not found."
     ]
    }
   ],
   "source": [
    "%run initialise.py"
   ]
  },
  {
   "cell_type": "markdown",
   "id": "954c5d8f",
   "metadata": {},
   "source": [
    "#### 1. Import the numpy package under the name `np` (★☆☆)"
   ]
  },
  {
   "cell_type": "code",
   "execution_count": 47,
   "id": "4006c08e",
   "metadata": {},
   "outputs": [],
   "source": [
    "import numpy as np"
   ]
  },
  {
   "cell_type": "markdown",
   "id": "88e34f09",
   "metadata": {},
   "source": [
    "#### 2. Print the numpy version and the configuration (★☆☆)"
   ]
  },
  {
   "cell_type": "code",
   "execution_count": 48,
   "id": "b1122a25",
   "metadata": {},
   "outputs": [
    {
     "name": "stdout",
     "output_type": "stream",
     "text": [
      "1.21.5\n",
      "blas_mkl_info:\n",
      "    libraries = ['mkl_rt']\n",
      "    library_dirs = ['C:/Users/nicla/anaconda3\\\\Library\\\\lib']\n",
      "    define_macros = [('SCIPY_MKL_H', None), ('HAVE_CBLAS', None)]\n",
      "    include_dirs = ['C:/Users/nicla/anaconda3\\\\Library\\\\include']\n",
      "blas_opt_info:\n",
      "    libraries = ['mkl_rt']\n",
      "    library_dirs = ['C:/Users/nicla/anaconda3\\\\Library\\\\lib']\n",
      "    define_macros = [('SCIPY_MKL_H', None), ('HAVE_CBLAS', None)]\n",
      "    include_dirs = ['C:/Users/nicla/anaconda3\\\\Library\\\\include']\n",
      "lapack_mkl_info:\n",
      "    libraries = ['mkl_rt']\n",
      "    library_dirs = ['C:/Users/nicla/anaconda3\\\\Library\\\\lib']\n",
      "    define_macros = [('SCIPY_MKL_H', None), ('HAVE_CBLAS', None)]\n",
      "    include_dirs = ['C:/Users/nicla/anaconda3\\\\Library\\\\include']\n",
      "lapack_opt_info:\n",
      "    libraries = ['mkl_rt']\n",
      "    library_dirs = ['C:/Users/nicla/anaconda3\\\\Library\\\\lib']\n",
      "    define_macros = [('SCIPY_MKL_H', None), ('HAVE_CBLAS', None)]\n",
      "    include_dirs = ['C:/Users/nicla/anaconda3\\\\Library\\\\include']\n",
      "Supported SIMD extensions in this NumPy install:\n",
      "    baseline = SSE,SSE2,SSE3\n",
      "    found = SSSE3,SSE41,POPCNT,SSE42,AVX,F16C,FMA3,AVX2\n",
      "    not found = AVX512F,AVX512CD,AVX512_SKX,AVX512_CLX,AVX512_CNL\n"
     ]
    }
   ],
   "source": [
    "print(np.__version__)\n",
    "np.show_config()"
   ]
  },
  {
   "cell_type": "markdown",
   "id": "37c21848",
   "metadata": {},
   "source": [
    "#### 3. Create a null vector of size 10 (★☆☆)"
   ]
  },
  {
   "cell_type": "code",
   "execution_count": 49,
   "id": "e090a462",
   "metadata": {},
   "outputs": [
    {
     "name": "stdout",
     "output_type": "stream",
     "text": [
      "[0. 0. 0. 0. 0. 0. 0. 0. 0. 0.]\n"
     ]
    }
   ],
   "source": [
    "A = np.zeros(10)\n",
    "print(A)"
   ]
  },
  {
   "cell_type": "markdown",
   "id": "7c0e6add",
   "metadata": {},
   "source": [
    "#### 4. How to find the memory size of any array (★☆☆)"
   ]
  },
  {
   "cell_type": "code",
   "execution_count": 50,
   "id": "8c96715d",
   "metadata": {},
   "outputs": [
    {
     "name": "stdout",
     "output_type": "stream",
     "text": [
      "800 bytes\n"
     ]
    }
   ],
   "source": [
    " A = np.zeros((10,10))\n",
    "print(\"%d bytes\" % (A.size * A.itemsize))"
   ]
  },
  {
   "cell_type": "markdown",
   "id": "4cf547db",
   "metadata": {},
   "source": [
    "#### 5. How to get the documentation of the numpy add function from the command line? (★☆☆)"
   ]
  },
  {
   "cell_type": "code",
   "execution_count": 51,
   "id": "2a24a1e9",
   "metadata": {},
   "outputs": [
    {
     "ename": "Exception",
     "evalue": "File `'`python.py'` not found.",
     "output_type": "error",
     "traceback": [
      "\u001b[1;31m---------------------------------------------------------------------------\u001b[0m",
      "\u001b[1;31mOSError\u001b[0m                                   Traceback (most recent call last)",
      "File \u001b[1;32m~\\anaconda3\\lib\\site-packages\\IPython\\core\\magics\\execution.py:696\u001b[0m, in \u001b[0;36mExecutionMagics.run\u001b[1;34m(self, parameter_s, runner, file_finder)\u001b[0m\n\u001b[0;32m    695\u001b[0m     fpath \u001b[38;5;241m=\u001b[39m arg_lst[\u001b[38;5;241m0\u001b[39m]\n\u001b[1;32m--> 696\u001b[0m     filename \u001b[38;5;241m=\u001b[39m \u001b[43mfile_finder\u001b[49m\u001b[43m(\u001b[49m\u001b[43mfpath\u001b[49m\u001b[43m)\u001b[49m\n\u001b[0;32m    697\u001b[0m \u001b[38;5;28;01mexcept\u001b[39;00m \u001b[38;5;167;01mIndexError\u001b[39;00m \u001b[38;5;28;01mas\u001b[39;00m e:\n",
      "File \u001b[1;32m~\\anaconda3\\lib\\site-packages\\IPython\\utils\\path.py:91\u001b[0m, in \u001b[0;36mget_py_filename\u001b[1;34m(name)\u001b[0m\n\u001b[0;32m     90\u001b[0m \u001b[38;5;28;01melse\u001b[39;00m:\n\u001b[1;32m---> 91\u001b[0m     \u001b[38;5;28;01mraise\u001b[39;00m \u001b[38;5;167;01mIOError\u001b[39;00m(\u001b[38;5;124m'\u001b[39m\u001b[38;5;124mFile `\u001b[39m\u001b[38;5;132;01m%r\u001b[39;00m\u001b[38;5;124m` not found.\u001b[39m\u001b[38;5;124m'\u001b[39m \u001b[38;5;241m%\u001b[39m name)\n",
      "\u001b[1;31mOSError\u001b[0m: File `'`python.py'` not found.",
      "\nThe above exception was the direct cause of the following exception:\n",
      "\u001b[1;31mException\u001b[0m                                 Traceback (most recent call last)",
      "Input \u001b[1;32mIn [51]\u001b[0m, in \u001b[0;36m<cell line: 1>\u001b[1;34m()\u001b[0m\n\u001b[1;32m----> 1\u001b[0m \u001b[43mget_ipython\u001b[49m\u001b[43m(\u001b[49m\u001b[43m)\u001b[49m\u001b[38;5;241;43m.\u001b[39;49m\u001b[43mrun_line_magic\u001b[49m\u001b[43m(\u001b[49m\u001b[38;5;124;43m'\u001b[39;49m\u001b[38;5;124;43mrun\u001b[39;49m\u001b[38;5;124;43m'\u001b[39;49m\u001b[43m,\u001b[49m\u001b[43m \u001b[49m\u001b[38;5;124;43m'\u001b[39;49m\u001b[38;5;124;43m`python -c \u001b[39;49m\u001b[38;5;124;43m\"\u001b[39;49m\u001b[38;5;124;43mimport numpy; numpy.info(numpy.add)\u001b[39;49m\u001b[38;5;124;43m\"\u001b[39;49m\u001b[38;5;124;43m`\u001b[39;49m\u001b[38;5;124;43m'\u001b[39;49m\u001b[43m)\u001b[49m\n",
      "File \u001b[1;32m~\\anaconda3\\lib\\site-packages\\IPython\\core\\interactiveshell.py:2294\u001b[0m, in \u001b[0;36mInteractiveShell.run_line_magic\u001b[1;34m(self, magic_name, line, _stack_depth)\u001b[0m\n\u001b[0;32m   2292\u001b[0m     kwargs[\u001b[38;5;124m'\u001b[39m\u001b[38;5;124mlocal_ns\u001b[39m\u001b[38;5;124m'\u001b[39m] \u001b[38;5;241m=\u001b[39m \u001b[38;5;28mself\u001b[39m\u001b[38;5;241m.\u001b[39mget_local_scope(stack_depth)\n\u001b[0;32m   2293\u001b[0m \u001b[38;5;28;01mwith\u001b[39;00m \u001b[38;5;28mself\u001b[39m\u001b[38;5;241m.\u001b[39mbuiltin_trap:\n\u001b[1;32m-> 2294\u001b[0m     result \u001b[38;5;241m=\u001b[39m fn(\u001b[38;5;241m*\u001b[39margs, \u001b[38;5;241m*\u001b[39m\u001b[38;5;241m*\u001b[39mkwargs)\n\u001b[0;32m   2295\u001b[0m \u001b[38;5;28;01mreturn\u001b[39;00m result\n",
      "File \u001b[1;32m~\\anaconda3\\lib\\site-packages\\IPython\\core\\magics\\execution.py:707\u001b[0m, in \u001b[0;36mExecutionMagics.run\u001b[1;34m(self, parameter_s, runner, file_finder)\u001b[0m\n\u001b[0;32m    705\u001b[0m     \u001b[38;5;28;01mif\u001b[39;00m os\u001b[38;5;241m.\u001b[39mname \u001b[38;5;241m==\u001b[39m \u001b[38;5;124m'\u001b[39m\u001b[38;5;124mnt\u001b[39m\u001b[38;5;124m'\u001b[39m \u001b[38;5;129;01mand\u001b[39;00m re\u001b[38;5;241m.\u001b[39mmatch(\u001b[38;5;124mr\u001b[39m\u001b[38;5;124m\"\u001b[39m\u001b[38;5;124m^\u001b[39m\u001b[38;5;124m'\u001b[39m\u001b[38;5;124m.*\u001b[39m\u001b[38;5;124m'\u001b[39m\u001b[38;5;124m$\u001b[39m\u001b[38;5;124m\"\u001b[39m,fpath):\n\u001b[0;32m    706\u001b[0m         warn(\u001b[38;5;124m'\u001b[39m\u001b[38;5;124mFor Windows, use double quotes to wrap a filename: \u001b[39m\u001b[38;5;132;01m%r\u001b[39;00m\u001b[38;5;124mun \u001b[39m\u001b[38;5;124m\"\u001b[39m\u001b[38;5;124mmypath\u001b[39m\u001b[38;5;130;01m\\\\\u001b[39;00m\u001b[38;5;124mmyfile.py\u001b[39m\u001b[38;5;124m\"\u001b[39m\u001b[38;5;124m'\u001b[39m)\n\u001b[1;32m--> 707\u001b[0m     \u001b[38;5;28;01mraise\u001b[39;00m \u001b[38;5;167;01mException\u001b[39;00m(msg) \u001b[38;5;28;01mfrom\u001b[39;00m \u001b[38;5;21;01me\u001b[39;00m\n\u001b[0;32m    708\u001b[0m \u001b[38;5;28;01mexcept\u001b[39;00m \u001b[38;5;167;01mTypeError\u001b[39;00m:\n\u001b[0;32m    709\u001b[0m     \u001b[38;5;28;01mif\u001b[39;00m fpath \u001b[38;5;129;01min\u001b[39;00m sys\u001b[38;5;241m.\u001b[39mmeta_path:\n",
      "\u001b[1;31mException\u001b[0m: File `'`python.py'` not found."
     ]
    }
   ],
   "source": [
    "%run `python -c \"import numpy; numpy.info(numpy.add)\"`"
   ]
  },
  {
   "cell_type": "markdown",
   "id": "bf6679c3",
   "metadata": {},
   "source": [
    "#### 6. Create a null vector of size 10 but the fifth value which is 1 (★☆☆)"
   ]
  },
  {
   "cell_type": "code",
   "execution_count": 53,
   "id": "f4cd59b6",
   "metadata": {},
   "outputs": [
    {
     "name": "stdout",
     "output_type": "stream",
     "text": [
      "[0. 0. 0. 0. 1. 0. 0. 0. 0. 0.]\n"
     ]
    }
   ],
   "source": [
    "A = np.zeros(10)\n",
    "A[4] = 1\n",
    "print(A)"
   ]
  },
  {
   "cell_type": "markdown",
   "id": "022451fb",
   "metadata": {},
   "source": [
    "#### 7. Create a vector with values ranging from 10 to 49 (★☆☆)"
   ]
  },
  {
   "cell_type": "code",
   "execution_count": 54,
   "id": "22c2f0a8",
   "metadata": {},
   "outputs": [
    {
     "name": "stdout",
     "output_type": "stream",
     "text": [
      "[10 11 12 13 14 15 16 17 18 19 20 21 22 23 24 25 26 27 28 29 30 31 32 33\n",
      " 34 35 36 37 38 39 40 41 42 43 44 45 46 47 48 49]\n"
     ]
    }
   ],
   "source": [
    "A = np.arange(10,50)\n",
    "print(A)"
   ]
  },
  {
   "cell_type": "markdown",
   "id": "aca8f6ee",
   "metadata": {},
   "source": [
    "#### 8. Reverse a vector (first element becomes last) (★☆☆)"
   ]
  },
  {
   "cell_type": "code",
   "execution_count": 55,
   "id": "15f37616",
   "metadata": {},
   "outputs": [
    {
     "name": "stdout",
     "output_type": "stream",
     "text": [
      "[49 48 47 46 45 44 43 42 41 40 39 38 37 36 35 34 33 32 31 30 29 28 27 26\n",
      " 25 24 23 22 21 20 19 18 17 16 15 14 13 12 11 10  9  8  7  6  5  4  3  2\n",
      "  1  0]\n"
     ]
    }
   ],
   "source": [
    "A = np.arange(50)\n",
    "A = A[::-1]\n",
    "print(A)"
   ]
  },
  {
   "cell_type": "markdown",
   "id": "97bfddd4",
   "metadata": {},
   "source": [
    "#### 9. Create a 3x3 matrix with values ranging from 0 to 8 (★☆☆)"
   ]
  },
  {
   "cell_type": "code",
   "execution_count": 56,
   "id": "8b93d83c",
   "metadata": {},
   "outputs": [
    {
     "name": "stdout",
     "output_type": "stream",
     "text": [
      "[[0 1 2]\n",
      " [3 4 5]\n",
      " [6 7 8]]\n"
     ]
    }
   ],
   "source": [
    "A = np.arange(9).reshape(3, 3)\n",
    "print(A)"
   ]
  },
  {
   "cell_type": "markdown",
   "id": "a073dad0",
   "metadata": {},
   "source": [
    "#### 10. Find indices of non-zero elements from [1,2,0,0,4,0] (★☆☆)"
   ]
  },
  {
   "cell_type": "code",
   "execution_count": 57,
   "id": "c21fb91c",
   "metadata": {},
   "outputs": [
    {
     "name": "stdout",
     "output_type": "stream",
     "text": [
      "(array([0, 1, 4], dtype=int64),)\n"
     ]
    }
   ],
   "source": [
    "n = np.nonzero([1,2,0,0,4,0])\n",
    "print(n)"
   ]
  },
  {
   "cell_type": "markdown",
   "id": "82b9a7a0",
   "metadata": {},
   "source": [
    "#### 11. Create a 3x3 identity matrix (★☆☆)"
   ]
  },
  {
   "cell_type": "code",
   "execution_count": 58,
   "id": "7ce1325a",
   "metadata": {},
   "outputs": [
    {
     "name": "stdout",
     "output_type": "stream",
     "text": [
      "[[1. 0. 0.]\n",
      " [0. 1. 0.]\n",
      " [0. 0. 1.]]\n"
     ]
    }
   ],
   "source": [
    "A = np.eye(3)\n",
    "print(A)"
   ]
  },
  {
   "cell_type": "markdown",
   "id": "0e6364d3",
   "metadata": {},
   "source": [
    "#### 12. Create a 3x3x3 array with random values (★☆☆)"
   ]
  },
  {
   "cell_type": "code",
   "execution_count": 59,
   "id": "8139c1c8",
   "metadata": {},
   "outputs": [
    {
     "name": "stdout",
     "output_type": "stream",
     "text": [
      "[[[0.5460515  0.79903921 0.43472892]\n",
      "  [0.46158135 0.05948214 0.46648953]\n",
      "  [0.18631868 0.63281092 0.67654982]]\n",
      "\n",
      " [[0.33134483 0.45086976 0.08409143]\n",
      "  [0.90885636 0.76786401 0.34698685]\n",
      "  [0.13679224 0.61834848 0.51392242]]\n",
      "\n",
      " [[0.42717021 0.02279953 0.83848942]\n",
      "  [0.40637147 0.77800232 0.79447571]\n",
      "  [0.70076801 0.05755305 0.33462196]]]\n"
     ]
    }
   ],
   "source": [
    "A = np.random.random((3,3,3))\n",
    "print(A)"
   ]
  },
  {
   "cell_type": "markdown",
   "id": "49ef36a6",
   "metadata": {},
   "source": [
    "#### 13. Create a 10x10 array with random values and find the minimum and maximum values (★☆☆)"
   ]
  },
  {
   "cell_type": "code",
   "execution_count": 60,
   "id": "5b4c73c7",
   "metadata": {},
   "outputs": [
    {
     "name": "stdout",
     "output_type": "stream",
     "text": [
      "0.0037867131017721434 0.9881825875108685\n"
     ]
    }
   ],
   "source": [
    "A = np.random.random((10,10))\n",
    "Amin, Amax = A.min(), A.max()\n",
    "print(Amin, Amax)"
   ]
  },
  {
   "cell_type": "markdown",
   "id": "625eb243",
   "metadata": {},
   "source": [
    "#### 14. Create a random vector of size 30 and find the mean value (★☆☆)"
   ]
  },
  {
   "cell_type": "code",
   "execution_count": 61,
   "id": "ba7b8300",
   "metadata": {},
   "outputs": [
    {
     "name": "stdout",
     "output_type": "stream",
     "text": [
      "0.5143435809210058\n"
     ]
    }
   ],
   "source": [
    "A = np.random.random(30)\n",
    "n = A.mean()\n",
    "print(n)"
   ]
  },
  {
   "cell_type": "markdown",
   "id": "19540b2f",
   "metadata": {},
   "source": [
    "#### 15. Create a 2d array with 1 on the border and 0 inside (★☆☆)"
   ]
  },
  {
   "cell_type": "code",
   "execution_count": 62,
   "id": "19e78d2c",
   "metadata": {},
   "outputs": [
    {
     "name": "stdout",
     "output_type": "stream",
     "text": [
      "[[1. 1. 1. 1. 1. 1. 1. 1. 1. 1.]\n",
      " [1. 0. 0. 0. 0. 0. 0. 0. 0. 1.]\n",
      " [1. 0. 0. 0. 0. 0. 0. 0. 0. 1.]\n",
      " [1. 0. 0. 0. 0. 0. 0. 0. 0. 1.]\n",
      " [1. 0. 0. 0. 0. 0. 0. 0. 0. 1.]\n",
      " [1. 0. 0. 0. 0. 0. 0. 0. 0. 1.]\n",
      " [1. 0. 0. 0. 0. 0. 0. 0. 0. 1.]\n",
      " [1. 0. 0. 0. 0. 0. 0. 0. 0. 1.]\n",
      " [1. 0. 0. 0. 0. 0. 0. 0. 0. 1.]\n",
      " [1. 1. 1. 1. 1. 1. 1. 1. 1. 1.]]\n"
     ]
    }
   ],
   "source": [
    "A = np.ones((10,10))\n",
    "A[1:-1,1:-1] = 0\n",
    "print(A)"
   ]
  },
  {
   "cell_type": "markdown",
   "id": "3f0fe171",
   "metadata": {},
   "source": [
    "#### 16. How to add a border (filled with 0's) around an existing array? (★☆☆)"
   ]
  },
  {
   "cell_type": "code",
   "execution_count": 63,
   "id": "662a99b4",
   "metadata": {},
   "outputs": [
    {
     "name": "stdout",
     "output_type": "stream",
     "text": [
      "[[0. 0. 0. 0. 0. 0. 0. 0. 0. 0.]\n",
      " [0. 0. 0. 0. 0. 0. 0. 0. 0. 0.]\n",
      " [0. 0. 0. 0. 0. 0. 0. 0. 0. 0.]\n",
      " [0. 0. 0. 0. 0. 0. 0. 0. 0. 0.]\n",
      " [0. 0. 0. 0. 0. 0. 0. 0. 0. 0.]\n",
      " [0. 0. 0. 0. 0. 0. 0. 0. 0. 0.]\n",
      " [0. 0. 0. 0. 0. 0. 0. 0. 0. 0.]\n",
      " [0. 0. 0. 0. 0. 0. 0. 0. 0. 0.]\n",
      " [0. 0. 0. 0. 0. 0. 0. 0. 0. 0.]\n",
      " [0. 0. 0. 0. 0. 0. 0. 0. 0. 0.]]\n"
     ]
    }
   ],
   "source": [
    "A[:, [0, -1]] = 0\n",
    "A[[0, -1], :] = 0\n",
    "print(A)"
   ]
  },
  {
   "cell_type": "markdown",
   "id": "0464c4af",
   "metadata": {},
   "source": [
    "#### 17. What is the result of the following expression? (★☆☆)\n",
    "```python\n",
    "0 * np.nan\n",
    "np.nan == np.nan\n",
    "np.inf > np.nan\n",
    "np.nan - np.nan\n",
    "np.nan in set([np.nan])\n",
    "0.3 == 3 * 0.1\n",
    "```"
   ]
  },
  {
   "cell_type": "code",
   "execution_count": 64,
   "id": "18926a29",
   "metadata": {},
   "outputs": [],
   "source": [
    "#nan\n",
    "#False\n",
    "#False\n",
    "#nan\n",
    "#True\n",
    "#False"
   ]
  },
  {
   "cell_type": "markdown",
   "id": "afb90e8b",
   "metadata": {},
   "source": [
    "#### 18. Create a 5x5 matrix with values 1,2,3,4 just below the diagonal (★☆☆)"
   ]
  },
  {
   "cell_type": "code",
   "execution_count": 65,
   "id": "8a988102",
   "metadata": {},
   "outputs": [
    {
     "name": "stdout",
     "output_type": "stream",
     "text": [
      "[[0 0 0 0 0]\n",
      " [1 0 0 0 0]\n",
      " [0 2 0 0 0]\n",
      " [0 0 3 0 0]\n",
      " [0 0 0 4 0]]\n"
     ]
    }
   ],
   "source": [
    "A = np.diag(1+np.arange(4),k=-1)\n",
    "print(A)"
   ]
  },
  {
   "cell_type": "markdown",
   "id": "ca611f9e",
   "metadata": {},
   "source": [
    "#### 19. Create a 8x8 matrix and fill it with a checkerboard pattern (★☆☆)"
   ]
  },
  {
   "cell_type": "code",
   "execution_count": 66,
   "id": "24049fc7",
   "metadata": {},
   "outputs": [
    {
     "name": "stdout",
     "output_type": "stream",
     "text": [
      "[[0 1 0 1 0 1 0 1]\n",
      " [1 0 1 0 1 0 1 0]\n",
      " [0 1 0 1 0 1 0 1]\n",
      " [1 0 1 0 1 0 1 0]\n",
      " [0 1 0 1 0 1 0 1]\n",
      " [1 0 1 0 1 0 1 0]\n",
      " [0 1 0 1 0 1 0 1]\n",
      " [1 0 1 0 1 0 1 0]]\n"
     ]
    }
   ],
   "source": [
    "A = np.zeros((8,8),dtype=int)\n",
    "A[1::2,::2] = 1\n",
    "A[::2,1::2] = 1\n",
    "print(A)"
   ]
  },
  {
   "cell_type": "markdown",
   "id": "9b77f7af",
   "metadata": {},
   "source": [
    "#### 20. Consider a (6,7,8) shape array, what is the index (x,y,z) of the 100th element? (★☆☆)"
   ]
  },
  {
   "cell_type": "code",
   "execution_count": 67,
   "id": "402efd68",
   "metadata": {},
   "outputs": [
    {
     "name": "stdout",
     "output_type": "stream",
     "text": [
      "(1, 5, 3)\n"
     ]
    }
   ],
   "source": [
    "print(np.unravel_index(99,(6,7,8)))\n"
   ]
  },
  {
   "cell_type": "markdown",
   "id": "07e399b8",
   "metadata": {},
   "source": [
    "#### 21. Create a checkerboard 8x8 matrix using the tile function (★☆☆)"
   ]
  },
  {
   "cell_type": "code",
   "execution_count": 68,
   "id": "867964a9",
   "metadata": {},
   "outputs": [
    {
     "name": "stdout",
     "output_type": "stream",
     "text": [
      "[[0 1 0 1 0 1 0 1]\n",
      " [1 0 1 0 1 0 1 0]\n",
      " [0 1 0 1 0 1 0 1]\n",
      " [1 0 1 0 1 0 1 0]\n",
      " [0 1 0 1 0 1 0 1]\n",
      " [1 0 1 0 1 0 1 0]\n",
      " [0 1 0 1 0 1 0 1]\n",
      " [1 0 1 0 1 0 1 0]]\n"
     ]
    }
   ],
   "source": [
    "A = np.tile( np.array([[0,1],[1,0]]), (4,4))\n",
    "print(A)"
   ]
  },
  {
   "cell_type": "markdown",
   "id": "bc92d88a",
   "metadata": {},
   "source": [
    "#### 22. Normalize a 5x5 random matrix (★☆☆)"
   ]
  },
  {
   "cell_type": "code",
   "execution_count": 69,
   "id": "a3709496",
   "metadata": {},
   "outputs": [
    {
     "name": "stdout",
     "output_type": "stream",
     "text": [
      "[[-0.94006569  1.57144808 -0.03921279  0.76475449  0.60428766]\n",
      " [-0.14723591 -0.65138268 -1.0565785  -0.13311104 -1.73570775]\n",
      " [ 0.98836015  1.45155373  0.44452344 -1.21124556 -0.04316949]\n",
      " [ 1.44800869 -0.45565793  1.42712456  0.06191351 -1.97265551]\n",
      " [ 0.24090505 -0.53987019 -0.17759169  1.21858367 -1.1179783 ]]\n"
     ]
    }
   ],
   "source": [
    "A = np.random.random((5,5))\n",
    "A = (A - np.mean (A)) / (np.std (A))\n",
    "print(A)"
   ]
  },
  {
   "cell_type": "markdown",
   "id": "9e2fd8ce",
   "metadata": {},
   "source": [
    "#### 23. Create a custom dtype that describes a color as four unsigned bytes (RGBA) (★☆☆)"
   ]
  },
  {
   "cell_type": "code",
   "execution_count": 70,
   "id": "5881b2b5",
   "metadata": {},
   "outputs": [
    {
     "name": "stderr",
     "output_type": "stream",
     "text": [
      "C:\\Users\\nicla\\AppData\\Local\\Temp\\ipykernel_38896\\2911720781.py:1: FutureWarning: Passing (type, 1) or '1type' as a synonym of type is deprecated; in a future version of numpy, it will be understood as (type, (1,)) / '(1,)type'.\n",
      "  color = np.dtype([(\"r\", np.ubyte, 1),\n"
     ]
    }
   ],
   "source": [
    "color = np.dtype([(\"r\", np.ubyte, 1),\n",
    "                  (\"g\", np.ubyte, 1),\n",
    "                  (\"b\", np.ubyte, 1),\n",
    "                  (\"a\", np.ubyte, 1)])"
   ]
  },
  {
   "cell_type": "markdown",
   "id": "d6904ab9",
   "metadata": {},
   "source": [
    "#### 24. Multiply a 5x3 matrix by a 3x2 matrix (real matrix product) (★☆☆)"
   ]
  },
  {
   "cell_type": "code",
   "execution_count": 71,
   "id": "cb3b6528",
   "metadata": {},
   "outputs": [
    {
     "name": "stdout",
     "output_type": "stream",
     "text": [
      "[[3. 3.]\n",
      " [3. 3.]\n",
      " [3. 3.]\n",
      " [3. 3.]\n",
      " [3. 3.]]\n"
     ]
    }
   ],
   "source": [
    "A = np.dot(np.ones((5,3)), np.ones((3,2)))\n",
    "print(A)"
   ]
  },
  {
   "cell_type": "markdown",
   "id": "c57116dd",
   "metadata": {},
   "source": [
    "#### 25. Given a 1D array, negate all elements which are between 3 and 8, in place. (★☆☆)"
   ]
  },
  {
   "cell_type": "code",
   "execution_count": 72,
   "id": "4fbf1b1e",
   "metadata": {},
   "outputs": [
    {
     "name": "stdout",
     "output_type": "stream",
     "text": [
      "[ 0  1  2  3 -4 -5 -6 -7  8  9 10]\n"
     ]
    }
   ],
   "source": [
    "A = np.arange(11)\n",
    "A[(3 < A) & (A < 8)] *= -1\n",
    "print(A)"
   ]
  },
  {
   "cell_type": "markdown",
   "id": "52707d61",
   "metadata": {},
   "source": [
    "#### 26. What is the output of the following script? (★☆☆)\n",
    "```python\n",
    "# Author: Jake VanderPlas\n",
    "\n",
    "print(sum(range(5),-1))\n",
    "from numpy import *\n",
    "print(sum(range(5),-1))\n",
    "```"
   ]
  },
  {
   "cell_type": "code",
   "execution_count": 73,
   "id": "18a238e6",
   "metadata": {},
   "outputs": [],
   "source": [
    "#9\n",
    "#10"
   ]
  },
  {
   "cell_type": "markdown",
   "id": "5ab377fd",
   "metadata": {},
   "source": [
    "#### 27. Consider an integer vector Z, which of these expressions are legal? (★☆☆)\n",
    "```python\n",
    "Z**Z\n",
    "2 << Z >> 2\n",
    "Z <- Z\n",
    "1j*Z\n",
    "Z/1/1\n",
    "Z<Z>Z\n",
    "```"
   ]
  },
  {
   "cell_type": "code",
   "execution_count": 74,
   "id": "36cc66a9",
   "metadata": {},
   "outputs": [],
   "source": [
    "#all of them"
   ]
  },
  {
   "cell_type": "markdown",
   "id": "654f223f",
   "metadata": {},
   "source": [
    "#### 28. What are the result of the following expressions? (★☆☆)\n",
    "```python\n",
    "np.array(0) / np.array(0)\n",
    "np.array(0) // np.array(0)\n",
    "np.array([np.nan]).astype(int).astype(float)\n",
    "```"
   ]
  },
  {
   "cell_type": "code",
   "execution_count": 75,
   "id": "6d9d3c21",
   "metadata": {
    "scrolled": true
   },
   "outputs": [],
   "source": [
    "#nan\n",
    "#0\n",
    "#[-2.14748365e+09]"
   ]
  },
  {
   "cell_type": "markdown",
   "id": "a7e00adf",
   "metadata": {},
   "source": [
    "#### 29. How to round away from zero a float array ? (★☆☆)"
   ]
  },
  {
   "cell_type": "code",
   "execution_count": 76,
   "id": "6ee5777d",
   "metadata": {},
   "outputs": [
    {
     "name": "stdout",
     "output_type": "stream",
     "text": [
      "[-5.  9. -9. -7.  1.  6. -9. -6.  3. -5.]\n"
     ]
    }
   ],
   "source": [
    "A = np.random.uniform(-10,+10,10)\n",
    "print(np.copysign(np.ceil(np.abs(A)), A))"
   ]
  },
  {
   "cell_type": "markdown",
   "id": "56be1f05",
   "metadata": {},
   "source": [
    "#### 30. How to find common values between two arrays? (★☆☆)"
   ]
  },
  {
   "cell_type": "code",
   "execution_count": 77,
   "id": "62eeedc0",
   "metadata": {},
   "outputs": [
    {
     "name": "stdout",
     "output_type": "stream",
     "text": [
      "[2 3 4 6 8]\n"
     ]
    }
   ],
   "source": [
    "A_1 = np.random.randint(0,10,10)\n",
    "A_2 = np.random.randint(0,10,10)\n",
    "print(np.intersect1d(A_1,A_2))"
   ]
  },
  {
   "cell_type": "markdown",
   "id": "83567c5c",
   "metadata": {},
   "source": [
    "#### 31. How to ignore all numpy warnings (not recommended)? (★☆☆)"
   ]
  },
  {
   "cell_type": "code",
   "execution_count": 78,
   "id": "fa02b423",
   "metadata": {},
   "outputs": [],
   "source": [
    "defaults = np.seterr(all=\"ignore\")\n",
    "A = np.ones(1) / 0"
   ]
  },
  {
   "cell_type": "markdown",
   "id": "0a7449b6",
   "metadata": {},
   "source": [
    "#### 32. Is the following expressions true? (★☆☆)\n",
    "```python\n",
    "np.sqrt(-1) == np.emath.sqrt(-1)\n",
    "```"
   ]
  },
  {
   "cell_type": "code",
   "execution_count": 79,
   "id": "69eb4456",
   "metadata": {},
   "outputs": [],
   "source": [
    "#False"
   ]
  },
  {
   "cell_type": "markdown",
   "id": "9d434219",
   "metadata": {},
   "source": [
    "#### 33. How to get the dates of yesterday, today and tomorrow? (★☆☆)"
   ]
  },
  {
   "cell_type": "code",
   "execution_count": 80,
   "id": "0b192943",
   "metadata": {},
   "outputs": [],
   "source": [
    "today = np.datetime64('today')\n",
    "yesterday = np.datetime64('today') - np.timedelta64(1)\n",
    "tomorrow  = np.datetime64('today') + np.timedelta64(1)"
   ]
  },
  {
   "cell_type": "markdown",
   "id": "b0e44339",
   "metadata": {},
   "source": [
    "#### 34. How to get all the dates corresponding to the month of July 2016? (★★☆)"
   ]
  },
  {
   "cell_type": "code",
   "execution_count": 81,
   "id": "8bf7daa6",
   "metadata": {},
   "outputs": [
    {
     "name": "stdout",
     "output_type": "stream",
     "text": [
      "['2016-07-01' '2016-07-02' '2016-07-03' '2016-07-04' '2016-07-05'\n",
      " '2016-07-06' '2016-07-07' '2016-07-08' '2016-07-09' '2016-07-10'\n",
      " '2016-07-11' '2016-07-12' '2016-07-13' '2016-07-14' '2016-07-15'\n",
      " '2016-07-16' '2016-07-17' '2016-07-18' '2016-07-19' '2016-07-20'\n",
      " '2016-07-21' '2016-07-22' '2016-07-23' '2016-07-24' '2016-07-25'\n",
      " '2016-07-26' '2016-07-27' '2016-07-28' '2016-07-29' '2016-07-30'\n",
      " '2016-07-31']\n"
     ]
    }
   ],
   "source": [
    "A = np.arange('2016-07', '2016-08', dtype='datetime64[D]')\n",
    "print(A)"
   ]
  },
  {
   "cell_type": "markdown",
   "id": "f9b3c24a",
   "metadata": {},
   "source": [
    "#### 35. How to compute ((A+B)*(-A/2)) in place (without copy)? (★★☆)"
   ]
  },
  {
   "cell_type": "code",
   "execution_count": 82,
   "id": "40da18c9",
   "metadata": {},
   "outputs": [
    {
     "data": {
      "text/plain": [
       "array([-1.5, -1.5, -1.5])"
      ]
     },
     "execution_count": 82,
     "metadata": {},
     "output_type": "execute_result"
    }
   ],
   "source": [
    "A = np.ones(3)*1\n",
    "B = np.ones(3)*2\n",
    "C = np.ones(3)*3\n",
    "np.add(A,B,out=B)\n",
    "np.divide(A,2,out=A)\n",
    "np.negative(A,out=A)\n",
    "np.multiply(A,B,out=A)"
   ]
  },
  {
   "cell_type": "markdown",
   "id": "cbb64ee9",
   "metadata": {},
   "source": [
    "#### 36. Extract the integer part of a random array of positive numbers using 4 different methods (★★☆)"
   ]
  },
  {
   "cell_type": "code",
   "execution_count": 83,
   "id": "f83748bd",
   "metadata": {},
   "outputs": [
    {
     "name": "stdout",
     "output_type": "stream",
     "text": [
      "[9. 8. 9. 8. 5. 7. 5. 0. 7. 6.]\n",
      "[9 8 9 8 5 7 5 0 7 6]\n",
      "[9. 8. 9. 8. 5. 7. 5. 0. 7. 6.]\n",
      "[9. 8. 9. 8. 5. 7. 5. 0. 7. 6.]\n"
     ]
    }
   ],
   "source": [
    "A = np.random.uniform(0,10,10)\n",
    "print(A // 1)\n",
    "print(A.astype(int))\n",
    "print(np.floor(A))\n",
    "print(np.trunc(A))"
   ]
  },
  {
   "cell_type": "markdown",
   "id": "8418e1e4",
   "metadata": {},
   "source": [
    "#### 37. Create a 5x5 matrix with row values ranging from 0 to 4 (★★☆)"
   ]
  },
  {
   "cell_type": "code",
   "execution_count": 84,
   "id": "08e726e4",
   "metadata": {},
   "outputs": [
    {
     "name": "stdout",
     "output_type": "stream",
     "text": [
      "[[0. 1. 2. 3. 4.]\n",
      " [0. 1. 2. 3. 4.]\n",
      " [0. 1. 2. 3. 4.]\n",
      " [0. 1. 2. 3. 4.]\n",
      " [0. 1. 2. 3. 4.]]\n"
     ]
    }
   ],
   "source": [
    "A = np.zeros((5,5))\n",
    "A = A + np.arange(5)\n",
    "print(A)"
   ]
  },
  {
   "cell_type": "markdown",
   "id": "a8420e2c",
   "metadata": {},
   "source": [
    "#### 38. Consider a generator function that generates 10 integers and use it to build an array (★☆☆)"
   ]
  },
  {
   "cell_type": "code",
   "execution_count": 85,
   "id": "c58e77ad",
   "metadata": {},
   "outputs": [
    {
     "name": "stdout",
     "output_type": "stream",
     "text": [
      "[0. 1. 2. 3. 4. 5. 6. 7. 8. 9.]\n"
     ]
    }
   ],
   "source": [
    "def generate():\n",
    "    for x in range(10):\n",
    "        yield x\n",
    "A = np.fromiter(generate(),dtype=float,count=-1)\n",
    "print(A)"
   ]
  },
  {
   "cell_type": "markdown",
   "id": "deab3e77",
   "metadata": {},
   "source": [
    "#### 39. Create a vector of size 10 with values ranging from 0 to 1, both excluded (★★☆)"
   ]
  },
  {
   "cell_type": "code",
   "execution_count": 86,
   "id": "2c5fafc8",
   "metadata": {},
   "outputs": [
    {
     "name": "stdout",
     "output_type": "stream",
     "text": [
      "[0.09090909 0.18181818 0.27272727 0.36363636 0.45454545 0.54545455\n",
      " 0.63636364 0.72727273 0.81818182 0.90909091]\n"
     ]
    }
   ],
   "source": [
    "A = np.linspace(0,1,11,endpoint=False)[1:]\n",
    "print(A)"
   ]
  },
  {
   "cell_type": "markdown",
   "id": "5bb5de9c",
   "metadata": {},
   "source": [
    "#### 40. Create a random vector of size 10 and sort it (★★☆)"
   ]
  },
  {
   "cell_type": "code",
   "execution_count": 87,
   "id": "b9916965",
   "metadata": {},
   "outputs": [
    {
     "name": "stdout",
     "output_type": "stream",
     "text": [
      "[0.30349559 0.34724435 0.37065445 0.53131742 0.61949258 0.72434574\n",
      " 0.72958644 0.78073941 0.87301167 0.94140763]\n"
     ]
    }
   ],
   "source": [
    "A = np.random.random(10)\n",
    "A.sort()\n",
    "print(A)"
   ]
  },
  {
   "cell_type": "markdown",
   "id": "ebc8ad64",
   "metadata": {},
   "source": [
    "#### 41. How to sum a small array faster than np.sum? (★★☆)"
   ]
  },
  {
   "cell_type": "code",
   "execution_count": 88,
   "id": "e7ac9923",
   "metadata": {},
   "outputs": [
    {
     "data": {
      "text/plain": [
       "45"
      ]
     },
     "execution_count": 88,
     "metadata": {},
     "output_type": "execute_result"
    }
   ],
   "source": [
    "A = np.arange(10)\n",
    "np.add.reduce(A)"
   ]
  },
  {
   "cell_type": "markdown",
   "id": "4abfb753",
   "metadata": {},
   "source": [
    "#### 42. Consider two random array A and B, check if they are equal (★★☆)"
   ]
  },
  {
   "cell_type": "code",
   "execution_count": 89,
   "id": "d265b5f6",
   "metadata": {},
   "outputs": [
    {
     "name": "stdout",
     "output_type": "stream",
     "text": [
      "True\n"
     ]
    }
   ],
   "source": [
    "A = np.random.randint(0,1,2)\n",
    "B = np.random.randint(0,1,2)\n",
    "equal = np.allclose(A,B)\n",
    "print(equal)"
   ]
  },
  {
   "cell_type": "markdown",
   "id": "c8fad2be",
   "metadata": {},
   "source": [
    "#### 43. Make an array immutable (read-only) (★★☆)"
   ]
  },
  {
   "cell_type": "code",
   "execution_count": 97,
   "id": "cadce095",
   "metadata": {},
   "outputs": [
    {
     "ename": "ValueError",
     "evalue": "assignment destination is read-only",
     "output_type": "error",
     "traceback": [
      "\u001b[1;31m---------------------------------------------------------------------------\u001b[0m",
      "\u001b[1;31mValueError\u001b[0m                                Traceback (most recent call last)",
      "Input \u001b[1;32mIn [97]\u001b[0m, in \u001b[0;36m<cell line: 3>\u001b[1;34m()\u001b[0m\n\u001b[0;32m      1\u001b[0m A \u001b[38;5;241m=\u001b[39m np\u001b[38;5;241m.\u001b[39mzeros(\u001b[38;5;241m10\u001b[39m)\n\u001b[0;32m      2\u001b[0m A\u001b[38;5;241m.\u001b[39mflags\u001b[38;5;241m.\u001b[39mwriteable \u001b[38;5;241m=\u001b[39m \u001b[38;5;28;01mFalse\u001b[39;00m\n\u001b[1;32m----> 3\u001b[0m A[\u001b[38;5;241m0\u001b[39m] \u001b[38;5;241m=\u001b[39m \u001b[38;5;241m1\u001b[39m\n",
      "\u001b[1;31mValueError\u001b[0m: assignment destination is read-only"
     ]
    }
   ],
   "source": [
    "A = np.zeros(10)\n",
    "A.flags.writeable = False\n",
    "A[0] = 1"
   ]
  },
  {
   "cell_type": "markdown",
   "id": "91b25fb1",
   "metadata": {},
   "source": [
    "#### 44. Consider a random 10x2 matrix representing cartesian coordinates, convert them to polar coordinates (★★☆)"
   ]
  },
  {
   "cell_type": "code",
   "execution_count": 98,
   "id": "3f5fb344",
   "metadata": {},
   "outputs": [
    {
     "name": "stdout",
     "output_type": "stream",
     "text": [
      "[0.80836056 0.11519802 1.23640857 1.08477384 0.19194617 0.58199255\n",
      " 0.92494851 0.42945423 0.97045913 0.89059895]\n",
      "[1.28391499 0.60520448 0.66558344 1.03708268 0.79388895 0.63878138\n",
      " 0.80630892 1.33093059 0.51067511 0.2025689 ]\n"
     ]
    }
   ],
   "source": [
    "A = np.random.random((10,2))\n",
    "X,Y = A[:,0], A[:,1]\n",
    "R = np.sqrt(X**2+Y**2)\n",
    "T = np.arctan2(Y,X)\n",
    "print(R)\n",
    "print(T)"
   ]
  },
  {
   "cell_type": "markdown",
   "id": "7e4116bc",
   "metadata": {},
   "source": [
    "#### 45. Create random vector of size 10 and replace the maximum value by 0 (★★☆)"
   ]
  },
  {
   "cell_type": "code",
   "execution_count": 99,
   "id": "b4e895f6",
   "metadata": {},
   "outputs": [
    {
     "name": "stdout",
     "output_type": "stream",
     "text": [
      "[0.02466123 0.         0.258792   0.31180074 0.29671104 0.76299393\n",
      " 0.74508541 0.32517045 0.82033117 0.45767001]\n"
     ]
    }
   ],
   "source": [
    "A = np.random.random(10)\n",
    "A[A.argmax()] = 0\n",
    "print(A)"
   ]
  },
  {
   "cell_type": "markdown",
   "id": "f5b68c55",
   "metadata": {},
   "source": [
    "#### 46. Create a structured array with `x` and `y` coordinates covering the [0,1]x[0,1] area (★★☆)"
   ]
  },
  {
   "cell_type": "code",
   "execution_count": 100,
   "id": "32fd3691",
   "metadata": {},
   "outputs": [
    {
     "name": "stdout",
     "output_type": "stream",
     "text": [
      "[[(0.  , 0.  ) (0.25, 0.  ) (0.5 , 0.  ) (0.75, 0.  ) (1.  , 0.  )]\n",
      " [(0.  , 0.25) (0.25, 0.25) (0.5 , 0.25) (0.75, 0.25) (1.  , 0.25)]\n",
      " [(0.  , 0.5 ) (0.25, 0.5 ) (0.5 , 0.5 ) (0.75, 0.5 ) (1.  , 0.5 )]\n",
      " [(0.  , 0.75) (0.25, 0.75) (0.5 , 0.75) (0.75, 0.75) (1.  , 0.75)]\n",
      " [(0.  , 1.  ) (0.25, 1.  ) (0.5 , 1.  ) (0.75, 1.  ) (1.  , 1.  )]]\n"
     ]
    }
   ],
   "source": [
    "A = np.zeros((5,5), [('x',float),('y',float)])\n",
    "A['x'], A['y'] = np.meshgrid(np.linspace(0,1,5),\n",
    "                             np.linspace(0,1,5))\n",
    "print(A)"
   ]
  },
  {
   "cell_type": "markdown",
   "id": "378bc4e9",
   "metadata": {},
   "source": [
    "#### 47. Given two arrays, X and Y, construct the Cauchy matrix C (Cij =1/(xi - yj)) (★★☆)"
   ]
  },
  {
   "cell_type": "code",
   "execution_count": 101,
   "id": "43282e51",
   "metadata": {},
   "outputs": [
    {
     "name": "stdout",
     "output_type": "stream",
     "text": [
      "3638.1636371179666\n"
     ]
    }
   ],
   "source": [
    "X = np.arange(8)\n",
    "Y = X + 0.5\n",
    "C = 1.0 / np.subtract.outer(X, Y)\n",
    "print(np.linalg.det(C))"
   ]
  },
  {
   "cell_type": "markdown",
   "id": "7f45d2f9",
   "metadata": {},
   "source": [
    "#### 48. Print the minimum and maximum representable value for each numpy scalar type (★★☆)"
   ]
  },
  {
   "cell_type": "code",
   "execution_count": 102,
   "id": "a7f37b9e",
   "metadata": {},
   "outputs": [
    {
     "name": "stdout",
     "output_type": "stream",
     "text": [
      "-128\n",
      "127\n",
      "-2147483648\n",
      "2147483647\n",
      "-9223372036854775808\n",
      "9223372036854775807\n",
      "-3.4028235e+38\n",
      "3.4028235e+38\n",
      "1.1920929e-07\n",
      "-1.7976931348623157e+308\n",
      "1.7976931348623157e+308\n",
      "2.220446049250313e-16\n"
     ]
    }
   ],
   "source": [
    "for dtype in [np.int8, np.int32, np.int64]:\n",
    "   print(np.iinfo(dtype).min)\n",
    "   print(np.iinfo(dtype).max)\n",
    "for dtype in [np.float32, np.float64]:\n",
    "   print(np.finfo(dtype).min)\n",
    "   print(np.finfo(dtype).max)\n",
    "   print(np.finfo(dtype).eps)"
   ]
  },
  {
   "cell_type": "markdown",
   "id": "1d269f07",
   "metadata": {},
   "source": [
    "#### 49. How to print all the values of an array? (★★☆)"
   ]
  },
  {
   "cell_type": "code",
   "execution_count": 103,
   "id": "fde90b07",
   "metadata": {},
   "outputs": [
    {
     "name": "stdout",
     "output_type": "stream",
     "text": [
      "[[0. 0. 0. 0. 0. 0. 0. 0. 0. 0. 0. 0. 0. 0. 0. 0.]\n",
      " [0. 0. 0. 0. 0. 0. 0. 0. 0. 0. 0. 0. 0. 0. 0. 0.]\n",
      " [0. 0. 0. 0. 0. 0. 0. 0. 0. 0. 0. 0. 0. 0. 0. 0.]\n",
      " [0. 0. 0. 0. 0. 0. 0. 0. 0. 0. 0. 0. 0. 0. 0. 0.]\n",
      " [0. 0. 0. 0. 0. 0. 0. 0. 0. 0. 0. 0. 0. 0. 0. 0.]\n",
      " [0. 0. 0. 0. 0. 0. 0. 0. 0. 0. 0. 0. 0. 0. 0. 0.]\n",
      " [0. 0. 0. 0. 0. 0. 0. 0. 0. 0. 0. 0. 0. 0. 0. 0.]\n",
      " [0. 0. 0. 0. 0. 0. 0. 0. 0. 0. 0. 0. 0. 0. 0. 0.]\n",
      " [0. 0. 0. 0. 0. 0. 0. 0. 0. 0. 0. 0. 0. 0. 0. 0.]\n",
      " [0. 0. 0. 0. 0. 0. 0. 0. 0. 0. 0. 0. 0. 0. 0. 0.]\n",
      " [0. 0. 0. 0. 0. 0. 0. 0. 0. 0. 0. 0. 0. 0. 0. 0.]\n",
      " [0. 0. 0. 0. 0. 0. 0. 0. 0. 0. 0. 0. 0. 0. 0. 0.]\n",
      " [0. 0. 0. 0. 0. 0. 0. 0. 0. 0. 0. 0. 0. 0. 0. 0.]\n",
      " [0. 0. 0. 0. 0. 0. 0. 0. 0. 0. 0. 0. 0. 0. 0. 0.]\n",
      " [0. 0. 0. 0. 0. 0. 0. 0. 0. 0. 0. 0. 0. 0. 0. 0.]\n",
      " [0. 0. 0. 0. 0. 0. 0. 0. 0. 0. 0. 0. 0. 0. 0. 0.]]\n"
     ]
    }
   ],
   "source": [
    "np.set_printoptions(threshold=float(\"inf\"))\n",
    "A = np.zeros((16,16))\n",
    "print(A)"
   ]
  },
  {
   "cell_type": "markdown",
   "id": "ed655678",
   "metadata": {},
   "source": [
    "#### 50. How to find the closest value (to a given scalar) in a vector? (★★☆)"
   ]
  },
  {
   "cell_type": "code",
   "execution_count": 104,
   "id": "55e0812f",
   "metadata": {},
   "outputs": [
    {
     "name": "stdout",
     "output_type": "stream",
     "text": [
      "40\n"
     ]
    }
   ],
   "source": [
    "A = np.arange(100)\n",
    "b = np.random.uniform(0,100)\n",
    "index = (np.abs(A - b)).argmin()\n",
    "print(A[index])"
   ]
  },
  {
   "cell_type": "markdown",
   "id": "3f73f88f",
   "metadata": {},
   "source": [
    "#### 51. Create a structured array representing a position (x,y) and a color (r,g,b) (★★☆)"
   ]
  },
  {
   "cell_type": "code",
   "execution_count": 105,
   "id": "74b51105",
   "metadata": {},
   "outputs": [
    {
     "name": "stdout",
     "output_type": "stream",
     "text": [
      "[((0., 0.), (0., 0., 0.)) ((0., 0.), (0., 0., 0.))\n",
      " ((0., 0.), (0., 0., 0.)) ((0., 0.), (0., 0., 0.))\n",
      " ((0., 0.), (0., 0., 0.)) ((0., 0.), (0., 0., 0.))\n",
      " ((0., 0.), (0., 0., 0.)) ((0., 0.), (0., 0., 0.))\n",
      " ((0., 0.), (0., 0., 0.)) ((0., 0.), (0., 0., 0.))]\n"
     ]
    },
    {
     "name": "stderr",
     "output_type": "stream",
     "text": [
      "C:\\Users\\nicla\\AppData\\Local\\Temp\\ipykernel_38896\\2208650056.py:1: FutureWarning: Passing (type, 1) or '1type' as a synonym of type is deprecated; in a future version of numpy, it will be understood as (type, (1,)) / '(1,)type'.\n",
      "  A = np.zeros(10, [ ('position', [ ('x', float, 1),\n"
     ]
    }
   ],
   "source": [
    "A = np.zeros(10, [ ('position', [ ('x', float, 1),\n",
    "                                  ('y', float, 1)]),\n",
    "                   ('color',    [ ('r', float, 1),\n",
    "                                  ('g', float, 1),\n",
    "                                  ('b', float, 1)])])\n",
    "print(A)"
   ]
  },
  {
   "cell_type": "markdown",
   "id": "db83eee0",
   "metadata": {},
   "source": [
    "#### 52. Consider a random vector with shape (100,2) representing coordinates, find point by point distances (★★☆)"
   ]
  },
  {
   "cell_type": "code",
   "execution_count": 106,
   "id": "10884922",
   "metadata": {},
   "outputs": [
    {
     "name": "stdout",
     "output_type": "stream",
     "text": [
      "[[0.         0.77317551 0.47359353 0.19371416 0.27520115 0.29766199\n",
      "  0.61133548 0.34739811 0.20167782 0.23669763 0.3365737  0.56536574\n",
      "  0.63484183 0.52691615 0.27859475 0.44811072 0.54706585 0.65917345\n",
      "  0.06167676 0.56769621 0.41303375 0.33694862 0.33519172 0.33379334\n",
      "  0.25472136 0.78883855 0.66800878 0.55779053 0.6453418  0.35789018\n",
      "  0.2425509  0.16050138 0.29807876 0.44183307 0.47430516 0.53404638\n",
      "  0.43403393 0.57006499 0.24522566 0.18182807 0.52211888 0.10521117\n",
      "  0.41735658 0.03267115 0.34832112 0.26834689 0.65550271 0.72284315\n",
      "  0.36677441 0.57464786 0.80417228 0.67080826 0.78216471 0.33000691\n",
      "  0.50937909 0.28452032 0.239357   0.10807175 0.21490896 0.31979606\n",
      "  0.18246562 0.27691932 0.48646388 0.35007587 0.26505671 0.73555872\n",
      "  0.3358877  0.19842283 0.27888437 0.44936204 0.73691172 0.77615215\n",
      "  0.54511904 0.69423936 0.27230865 0.16832326 0.70597021 0.4856233\n",
      "  0.83150928 0.34915984 0.37361812 0.72466024 0.69865616 0.3379582\n",
      "  0.59288345 0.11523348 0.13088995 0.59396164 0.47162228 0.23585469\n",
      "  0.23612636 0.17510921 0.42252232 0.34673447 0.4258481  0.52203275\n",
      "  0.27075521 0.14617335 0.75219782 0.64595864]\n",
      " [0.77317551 0.         0.33011183 0.92000982 0.86775152 0.92483543\n",
      "  0.9142486  0.79023191 0.57241254 0.53966293 0.44375456 0.85501378\n",
      "  0.14175629 0.42906073 0.76503501 1.106599   0.37331452 1.28706364\n",
      "  0.71159443 0.40362767 0.45149186 0.5245597  0.75371741 0.96141917\n",
      "  0.95020702 0.63569502 0.93481851 0.24822978 0.15057088 1.08453166\n",
      "  0.79189112 0.91849188 0.47510227 0.61713034 0.33780999 0.24001183\n",
      "  0.33915978 0.6041645  0.73141085 0.70282737 0.54014102 0.66806409\n",
      "  0.74920557 0.78804452 0.95172036 0.77497278 1.04113617 0.05264804\n",
      "  0.80551303 0.8733561  0.61248587 0.47754376 0.00900148 0.663304\n",
      "  0.47790806 0.50688586 0.97247662 0.66922004 0.92513564 1.07932992\n",
      "  0.70912815 0.91622209 1.10297598 1.09892859 0.96341425 0.34298065\n",
      "  0.60652897 0.60774523 0.51659814 0.96590645 0.69509743 0.0900201\n",
      "  0.82264276 0.77635449 0.51900155 0.89186557 0.72391449 0.66088316\n",
      "  0.68935063 0.42656519 1.02367063 0.66089919 0.43289889 0.89654916\n",
      "  0.27644548 0.88568885 0.66160832 1.2218635  0.59144751 1.00743067\n",
      "  0.54143174 0.94668177 1.00688616 1.05549777 0.35169102 0.82530131\n",
      "  0.81695818 0.84016316 0.3867131  1.19028471]\n",
      " [0.47359353 0.33011183 0.         0.59840603 0.63695283 0.68799946\n",
      "  0.62181558 0.60219753 0.28833325 0.23891789 0.20531142 0.56005834\n",
      "  0.22001151 0.1716271  0.43520987 0.77650062 0.13849982 0.95852312\n",
      "  0.4130132  0.18171914 0.1285127  0.19475755 0.56693083 0.63134098\n",
      "  0.68990678 0.48317155 0.65343989 0.08685055 0.2548839  0.75902534\n",
      "  0.56359086 0.60440861 0.1947141  0.3125637  0.23009602 0.1161936\n",
      "  0.11371744 0.34844262 0.40132867 0.37610992 0.27065834 0.37078714\n",
      "  0.43331859 0.4819091  0.72621483 0.558619   0.73929329 0.27752754\n",
      "  0.4804279  0.57810246 0.4780012  0.31099475 0.33847053 0.33681658\n",
      "  0.20624592 0.26661846 0.69776799 0.3814365  0.60096899 0.76179478\n",
      "  0.46491212 0.58675488 0.77362991 0.77756905 0.63680872 0.29393777\n",
      "  0.4325438  0.288177   0.19775536 0.64078718 0.49528758 0.31026754\n",
      "  0.52703834 0.53631826 0.20275354 0.61738441 0.501797   0.36677759\n",
      "  0.53982349 0.13681579 0.69365426 0.46545377 0.30471197 0.68189673\n",
      "  0.12679699 0.57899124 0.38647522 0.89287395 0.29738185 0.69912859\n",
      "  0.23857095 0.64829669 0.67794132 0.72825044 0.15334328 0.52397185\n",
      "  0.59478772 0.5713828  0.32529591 0.8681278 ]\n",
      " [0.19371416 0.92000982 0.59840603 0.         0.41659333 0.41523188\n",
      "  0.51856134 0.51848857 0.37096393 0.38559774 0.50590005 0.48809408\n",
      "  0.78829872 0.60048114 0.23699912 0.25683766 0.63538802 0.46752431\n",
      "  0.23924585 0.6438328  0.50468143 0.42119215 0.51339196 0.16600458\n",
      "  0.33983603 0.80166769 0.57678956 0.68525294 0.80561398 0.17005132\n",
      "  0.40992391 0.06349388 0.45537451 0.45678165 0.64901473 0.68100209\n",
      "  0.58747925 0.58277804 0.23581237 0.2260515  0.55875894 0.27590843\n",
      "  0.37479206 0.16312747 0.46445105 0.44100811 0.52662159 0.86788934\n",
      "  0.29506644 0.49165038 0.82440961 0.72058812 0.92882911 0.34086414\n",
      "  0.56895687 0.46387926 0.29025991 0.29205178 0.02812238 0.16656164\n",
      "  0.3716676  0.12180759 0.30252858 0.17924489 0.07448344 0.81843583\n",
      "  0.52937079 0.31235506 0.40372841 0.30772664 0.72887632 0.90866723\n",
      "  0.47798664 0.65784538 0.40102006 0.26667186 0.68677702 0.47968702\n",
      "  0.83409728 0.49577116 0.18890548 0.72547485 0.76003279 0.4764354\n",
      "  0.70236389 0.11345932 0.32144856 0.40347611 0.49390564 0.14396448\n",
      "  0.38275813 0.16764827 0.2567474  0.15354805 0.58809198 0.4516042\n",
      "  0.43117033 0.28405942 0.82527706 0.47041581]\n",
      " [0.27520115 0.86775152 0.63695283 0.41659333 0.         0.05822049\n",
      "  0.88635469 0.13312589 0.35796587 0.41633261 0.44154641 0.84049925\n",
      "  0.72716574 0.74168862 0.55375938 0.66283334 0.74626493 0.86633582\n",
      "  0.296058   0.77696168 0.62313259 0.5638463  0.15239762 0.58045456\n",
      "  0.12448995 1.03406686 0.9431613  0.70682354 0.72031866 0.53514732\n",
      "  0.07605405 0.35637091 0.44270478 0.69920246 0.53073355 0.65194783\n",
      "  0.55434782 0.82248209 0.51911166 0.45141253 0.76399162 0.31608639\n",
      "  0.69082185 0.30200916 0.08934918 0.096325   0.92496534 0.82497243\n",
      "  0.64184914 0.84984896 1.04456728 0.89580393 0.87644365 0.59539293\n",
      "  0.73678162 0.37548458 0.18320584 0.28861353 0.44425396 0.45395001\n",
      "  0.17223727 0.52880392 0.71663706 0.49835241 0.4893542  0.92725135\n",
      "  0.27362177 0.43042189 0.47832859 0.71223438 0.99392337 0.89779345\n",
      "  0.81981903 0.96213299 0.46883029 0.15389164 0.96812235 0.74890722\n",
      "  1.08133526 0.50029041 0.60419864 0.97788699 0.91287133 0.06285108\n",
      "  0.76373392 0.30314334 0.26541924 0.80726534 0.72408481 0.35250942\n",
      "  0.41942854 0.27287864 0.67180157 0.54407799 0.52773586 0.7970197\n",
      "  0.05376972 0.13545184 0.95297657 0.88661998]\n",
      " [0.29766199 0.92483543 0.68799946 0.41523188 0.05822049 0.\n",
      "  0.90363032 0.18208823 0.40502824 0.46233412 0.49560132 0.86050495\n",
      "  0.78399854 0.78634727 0.57429952 0.65188968 0.79350653 0.85059098\n",
      "  0.32815626 0.8227662  0.66777784 0.60484226 0.20618122 0.58108772\n",
      "  0.0880553  1.07278879 0.96112403 0.75975649 0.77780074 0.51794975\n",
      "  0.13305139 0.35266168 0.49331747 0.73293586 0.58819422 0.70702676\n",
      "  0.6085667  0.85839689 0.54274851 0.47849589 0.80287291 0.35354884\n",
      "  0.71485625 0.32062912 0.05114778 0.1544956  0.93421192 0.88162398\n",
      "  0.66016855 0.86882264 1.08468849 0.93916905 0.93355643 0.62529467\n",
      "  0.77895858 0.42937362 0.15082898 0.32848032 0.44332468 0.4307867\n",
      "  0.22361628 0.53244199 0.7094495  0.47618545 0.48533258 0.9763738\n",
      "  0.33179003 0.46843828 0.52288542 0.71828684 1.02850537 0.9535593\n",
      "  0.8415324  0.99115414 0.51364907 0.14903719 1.00039649 0.78026291\n",
      "  1.11869106 0.55118368 0.59900341 1.01388142 0.95838446 0.07485328\n",
      "  0.81476313 0.30354366 0.30943119 0.79386677 0.75965322 0.33240087\n",
      "  0.46502639 0.25875506 0.67197922 0.53132546 0.58299411 0.81785934\n",
      "  0.11179049 0.1515348  1.00086045 0.8812661 ]\n",
      " [0.61133548 0.9142486  0.62181558 0.51856134 0.88635469 0.90363032\n",
      "  0.         0.94742531 0.63174928 0.59118938 0.70130116 0.06201783\n",
      "  0.83630022 0.48528739 0.33387909 0.44181204 0.54099088 0.49852726\n",
      "  0.60227973 0.51232795 0.49652976 0.46339903 0.9273711  0.37737444\n",
      "  0.84269924 0.4403188  0.05830727 0.68003184 0.87491779 0.54881396\n",
      "  0.84958083 0.57850371 0.6391823  0.30949759 0.81623106 0.73796256\n",
      "  0.69938237 0.31820537 0.37312382 0.44618536 0.37428934 0.60099982\n",
      "  0.2160277  0.58461948 0.95477715 0.87065343 0.13375549 0.86680208\n",
      "  0.24456731 0.04468827 0.4754025  0.48301695 0.92069649 0.33457927\n",
      "  0.436687   0.71040484 0.80209635 0.63270756 0.49359327 0.6299346\n",
      "  0.76755461 0.39991063 0.3830255  0.6058703  0.47501842 0.63792814\n",
      "  0.86777479 0.51531218 0.5453758  0.23903148 0.33758285 0.85555095\n",
      "  0.0949002  0.22140077 0.55282541 0.75893587 0.28227737 0.25627504\n",
      "  0.44036072 0.62991218 0.40904907 0.35741864 0.53896237 0.94917859\n",
      "  0.63781542 0.61192618 0.66878886 0.4561277  0.32664113 0.65765557\n",
      "  0.58545992 0.68295431 0.32081488 0.50605353 0.72817036 0.10347257\n",
      "  0.87990072 0.75384234 0.61531432 0.34779055]\n",
      " [0.34739811 0.79023191 0.60219753 0.51848857 0.13312589 0.18208823\n",
      "  0.94742531 0.         0.35443573 0.41268042 0.39727545 0.89639595\n",
      "  0.6537582  0.73124091 0.6144698  0.77250797 0.72580406 0.98018363\n",
      "  0.34533146 0.76153704 0.61564484 0.57097103 0.03677819 0.67571018\n",
      "  0.25760951 1.03918638 1.00213039 0.66073171 0.63994518 0.65306483\n",
      "  0.10856566 0.46316194 0.41744754 0.72425392 0.45417817 0.5938635\n",
      "  0.50447241 0.83891535 0.57431417 0.50162439 0.77257209 0.3491189\n",
      "  0.74038258 0.37892223 0.18214358 0.07909193 1.00126186 0.7520114\n",
      "  0.70484948 0.90782767 1.04515897 0.88735511 0.79854755 0.63330118\n",
      "  0.73519984 0.33636431 0.31533077 0.31758072 0.54478278 0.57801685\n",
      "  0.18086098 0.62060666 0.82099223 0.62118157 0.5928931  0.89610493\n",
      "  0.18414791 0.45302748 0.47666051 0.79673174 1.01176736 0.83121221\n",
      "  0.87227846 0.99528202 0.46666848 0.2736195  0.99266492 0.77931163\n",
      "  1.09013607 0.47084604 0.70726538 0.99185931 0.89639431 0.12051794\n",
      "  0.72634449 0.40720815 0.2839355  0.9187138  0.74340777 0.47555175\n",
      "  0.41713935 0.39307943 0.76625812 0.65722142 0.47167993 0.85175536\n",
      "  0.0921676  0.23775397 0.92671359 0.98697055]\n",
      " [0.20167782 0.57241254 0.28833325 0.37096393 0.35796587 0.40502824\n",
      "  0.63174928 0.35443573 0.         0.05920129 0.13625753 0.57453788\n",
      "  0.43337453 0.38443801 0.32225884 0.60322637 0.38859242 0.80911474\n",
      "  0.14081172 0.41904529 0.26623734 0.21657093 0.32473439 0.46693811\n",
      "  0.4016701  0.68569426 0.68149077 0.36738945 0.44380264 0.54101524\n",
      "  0.28955534 0.35509872 0.09871621 0.37466555 0.27816489 0.33446356\n",
      "  0.23343768 0.48499791 0.27658453 0.20830399 0.4181762  0.0980991\n",
      "  0.41607147 0.22015498 0.44691757 0.29317476 0.71179301 0.5226343\n",
      "  0.40678586 0.58870262 0.6930705  0.53955886 0.58141153 0.29920749\n",
      "  0.38312026 0.09641588 0.41063791 0.09710296 0.38394074 0.51710577\n",
      "  0.18779075 0.41071198 0.62489347 0.54308512 0.43047976 0.57177993\n",
      "  0.23676917 0.11669763 0.12304074 0.54018645 0.65772782 0.57978171\n",
      "  0.54633702 0.64742572 0.11313992 0.32984186 0.64045285 0.43236942\n",
      "  0.73601482 0.15433554 0.52095076 0.63745294 0.5549918  0.40959259\n",
      "  0.41382013 0.31607225 0.09823385 0.74181319 0.39077687 0.43739032\n",
      "  0.06312974 0.37427029 0.54215845 0.52112948 0.22420968 0.52987024\n",
      "  0.3226215  0.28306329 0.59583434 0.76282098]\n",
      " [0.23669763 0.53966293 0.23891789 0.38559774 0.41633261 0.46233412\n",
      "  0.59118938 0.41268042 0.05920129 0.         0.12942451 0.53238695\n",
      "  0.40427312 0.32554266 0.29782013 0.60263135 0.33134647 0.80384208\n",
      "  0.17531139 0.36071016 0.20718692 0.15927624 0.3822704  0.46159302\n",
      "  0.4547583  0.62684645 0.63880639 0.32163173 0.42007298 0.55428752\n",
      "  0.34860654 0.37911646 0.0707019  0.3216652  0.27199622 0.29967891\n",
      "  0.20258223 0.42815369 0.2527324  0.19314665 0.36001495 0.13236438\n",
      "  0.37526296 0.24882031 0.50504987 0.3523385  0.67862834 0.48851734\n",
      "  0.37654552 0.54738543 0.63395965 0.48045787 0.54860845 0.25662077\n",
      "  0.32396032 0.11949836 0.45938432 0.14305764 0.39467798 0.54058563\n",
      "  0.24685202 0.40770864 0.61763366 0.56258695 0.43809259 0.51617232\n",
      "  0.2849815  0.08898238 0.06404914 0.5194779  0.60059488 0.53952785\n",
      "  0.50296175 0.59424186 0.05408681 0.37942499 0.58484618 0.38059478\n",
      "  0.67747145 0.11328128 0.51905749 0.57968979 0.49656658 0.46859473\n",
      "  0.36207346 0.34664035 0.15331025 0.7364207  0.33540426 0.46825107\n",
      "  0.00572947 0.41179838 0.5302212  0.53033405 0.20306873 0.48822646\n",
      "  0.38172632 0.33528065 0.53896157 0.74625109]\n",
      " [0.3365737  0.44375456 0.20531142 0.50590005 0.44154641 0.49560132\n",
      "  0.70130116 0.39727545 0.13625753 0.12942451 0.         0.64064662\n",
      "  0.30268518 0.3503157  0.42493997 0.73086584 0.33482004 0.93307969\n",
      "  0.27653773 0.37407867 0.24750591 0.24183455 0.36178575 0.59066287\n",
      "  0.5102861  0.66772918 0.74506985 0.26631097 0.30941823 0.67582906\n",
      "  0.366288   0.49135406 0.06371941 0.4099195  0.14397741 0.21286341\n",
      "  0.11297773 0.49444701 0.38045974 0.3225709  0.41839234 0.23428034\n",
      "  0.48790376 0.35628469 0.52987256 0.3576302  0.7972325  0.39591964\n",
      "  0.49978057 0.65678911 0.66793649 0.50363973 0.45273722 0.36993128\n",
      "  0.36650374 0.06624764 0.52922506 0.22931778 0.51756518 0.65334221\n",
      "  0.27287806 0.53627587 0.74699274 0.67919877 0.5628335  0.49897345\n",
      "  0.22882308 0.21814607 0.15680589 0.64695576 0.66053906 0.4608972\n",
      "  0.609559   0.67455625 0.15044594 0.44840837 0.65451895 0.47061696\n",
      "  0.7223749  0.08484281 0.64753233 0.63494142 0.50546541 0.48190914\n",
      "  0.32914491 0.45154912 0.21818448 0.86565223 0.41355892 0.57239291\n",
      "  0.13415965 0.50631662 0.65956997 0.65439022 0.09206481 0.59784313\n",
      "  0.39590381 0.39729617 0.53052609 0.87466654]\n",
      " [0.56536574 0.85501378 0.56005834 0.48809408 0.84049925 0.86050495\n",
      "  0.06201783 0.89639595 0.57453788 0.53238695 0.64064662 0.\n",
      "  0.77508488 0.42596418 0.28677552 0.44314956 0.48171721 0.52514125\n",
      "  0.55222795 0.45444136 0.4345566  0.40193435 0.87519271 0.3597029\n",
      "  0.80310946 0.40854925 0.10703337 0.6191921  0.81344421 0.53675423\n",
      "  0.80061615 0.54563781 0.578845   0.24761363 0.75446095 0.67623024\n",
      "  0.63741672 0.26453707 0.32300853 0.39484536 0.31589536 0.54832624\n",
      "  0.15865375 0.54010928 0.91160545 0.82045939 0.18733893 0.80711025\n",
      "  0.20092981 0.01834982 0.44224147 0.4332667  0.86159173 0.27596416\n",
      "  0.37712231 0.65128888 0.76549795 0.58006747 0.46471308 0.61149129\n",
      "  0.71588938 0.37381275 0.39107146 0.59136    0.45182667 0.5862143\n",
      "  0.81106974 0.45857256 0.48515713 0.23478645 0.30875573 0.79798978\n",
      "  0.03302631 0.20041992 0.49279926 0.71806041 0.25420312 0.19533123\n",
      "  0.4160097  0.56848923 0.39945966 0.32383667 0.48899828 0.90316878\n",
      "  0.57860228 0.57490712 0.61563939 0.47689381 0.26568984 0.63011511\n",
      "  0.52666067 0.64879599 0.31676779 0.49335723 0.66635511 0.04491146\n",
      "  0.83154848 0.70968419 0.56595087 0.38231753]\n",
      " [0.63484183 0.14175629 0.22001151 0.78829872 0.72716574 0.78399854\n",
      "  0.83630022 0.6537582  0.43337453 0.40427312 0.30268518 0.77508488\n",
      "  0.         0.35945435 0.64960309 0.98643824 0.30726151 1.17422553\n",
      "  0.57349034 0.34688693 0.348374   0.41123535 0.61705894 0.84137579\n",
      "  0.80846923 0.62359332 0.86408937 0.15802807 0.0450747  0.95507682\n",
      "  0.65119879 0.7832397  0.33743591 0.52907016 0.19959246 0.11012485\n",
      "  0.201803   0.54336185 0.61261687 0.57680344 0.4705283  0.53008231\n",
      "  0.65308923 0.65107998 0.81186378 0.635142   0.95694976 0.0983547\n",
      "  0.6995911  0.7933162  0.60733659 0.45127877 0.15066694 0.55580131\n",
      "  0.40477868 0.36527872 0.8308971  0.52970233 0.79517722 0.94485228\n",
      "  0.56746299 0.79332998 0.98823816 0.96635748 0.83554488 0.35293092\n",
      "  0.46961761 0.47764167 0.38799679 0.85964657 0.66358118 0.18060801\n",
      "  0.74210473 0.72702968 0.38912288 0.75036713 0.68251653 0.58003543\n",
      "  0.68031429 0.2925401  0.9027711  0.63044756 0.41936568 0.7575387\n",
      "  0.22065885 0.74833536 0.52081554 1.10796784 0.50969965 0.87001724\n",
      "  0.40653205 0.807369   0.89355622 0.92802661 0.21074101 0.74082197\n",
      "  0.67684496 0.69852874 0.39709524 1.08765035]\n",
      " [0.52691615 0.42906073 0.1716271  0.60048114 0.74168862 0.78634727\n",
      "  0.48528739 0.73124091 0.38443801 0.32554266 0.3503157  0.42596418\n",
      "  0.35945435 0.         0.3888464  0.72638401 0.05575364 0.88457891\n",
      "  0.47385311 0.0433879  0.11860501 0.19017617 0.69830094 0.5867055\n",
      "  0.7707188  0.31790667 0.50796551 0.2015529  0.40149401 0.74168848\n",
      "  0.67397375 0.62391056 0.31491213 0.19494134 0.40128266 0.27574144\n",
      "  0.28178388 0.18412077 0.3705352  0.37811199 0.1121625  0.43856159\n",
      "  0.33165614 0.52453532 0.83013037 0.67615069 0.6123549  0.38159091\n",
      "  0.40196317 0.44430383 0.31773802 0.15611535 0.4356293  0.27460297\n",
      "  0.04908347 0.3997291  0.76527521 0.45955084 0.59499417 0.76675565\n",
      "  0.57221517 0.55426241 0.70819922 0.77261065 0.61972809 0.21802451\n",
      "  0.57708022 0.32885797 0.26353707 0.55736797 0.32367276 0.37488092\n",
      "  0.39365654 0.37001602 0.27291733 0.68932598 0.33148544 0.2325222\n",
      "  0.37334114 0.26676766 0.64889727 0.29409734 0.17276693 0.79402728\n",
      "  0.15263897 0.61344257 0.47704813 0.82262651 0.16450433 0.7244596\n",
      "  0.32229332 0.69116634 0.61153359 0.70464903 0.3206309  0.39715146\n",
      "  0.70697274 0.65148248 0.22711561 0.77288972]\n",
      " [0.27859475 0.76503501 0.43520987 0.23699912 0.55375938 0.57429952\n",
      "  0.33387909 0.6144698  0.32225884 0.29782013 0.42493997 0.28677552\n",
      "  0.64960309 0.3888464  0.         0.34344299 0.43269763 0.52464678\n",
      "  0.26915432 0.431611   0.31687332 0.24049656 0.5957316  0.19981608\n",
      "  0.52019148 0.5646912  0.38990428 0.51769821 0.67739648 0.35538929\n",
      "  0.515717   0.28201228 0.36185877 0.22307187 0.56194175 0.53970541\n",
      "  0.46565609 0.3464316  0.04569042 0.11756245 0.32895218 0.27222995\n",
      "  0.14483166 0.25367782 0.62533237 0.53718492 0.39364515 0.71255253\n",
      "  0.09045454 0.29620505 0.58776972 0.49176381 0.77327497 0.11454871\n",
      "  0.35007445 0.41331818 0.48742043 0.30344977 0.22264156 0.39436171\n",
      "  0.43565907 0.16584071 0.33875865 0.39220456 0.23636854 0.60430751\n",
      "  0.54964032 0.20985303 0.27583807 0.2220194  0.49313504 0.73560923\n",
      "  0.26726607 0.4298315  0.2791534  0.43402108 0.45307989 0.24269181\n",
      "  0.5974512  0.37676578 0.26257772 0.48872801 0.53537605 0.61646343\n",
      "  0.51433054 0.29908342 0.3403618  0.45838584 0.26118017 0.37873798\n",
      "  0.29251614 0.37777542 0.244086   0.31678251 0.481511   0.24363654\n",
      "  0.54604262 0.42316589 0.60515114 0.4504715 ]\n",
      " [0.44811072 1.106599   0.77650062 0.25683766 0.66283334 0.65188968\n",
      "  0.44181204 0.77250797 0.60322637 0.60263135 0.73086584 0.44314956\n",
      "  0.98643824 0.72638401 0.34344299 0.         0.77335302 0.21106877\n",
      "  0.48601324 0.76796193 0.66029846 0.58261363 0.76918244 0.14523859\n",
      "  0.56816275 0.83622214 0.4918301  0.86025777 1.01086438 0.14626434\n",
      "  0.66414131 0.3093536  0.67295236 0.54200265 0.87445816 0.87635285\n",
      "  0.79382775 0.64221148 0.37519418 0.41275485 0.64975496 0.51650591\n",
      "  0.4137429  0.41620027 0.6975716  0.6960687  0.38433474 1.05398994\n",
      "  0.32957248 0.43677933 0.86646187 0.80762714 1.11497108 0.45371843\n",
      "  0.68373926 0.6994341  0.50925066 0.53804237 0.23337959 0.24570039\n",
      "  0.62823249 0.19511314 0.0714515  0.20484218 0.18326469 0.93632663\n",
      "  0.78366836 0.51685901 0.60106136 0.20856706 0.74347317 1.079034\n",
      "  0.45110428 0.642719   0.6016343  0.50912048 0.69138743 0.5353463\n",
      "  0.8527671  0.70157182 0.08394412 0.751924   0.85721173 0.71937916\n",
      "  0.85740256 0.36535976 0.57076752 0.14668855 0.57971306 0.32483614\n",
      "  0.59849109 0.39314928 0.1283266  0.12127385 0.80287721 0.4265944\n",
      "  0.68323756 0.53544661 0.93135374 0.23848686]\n",
      " [0.54706585 0.37331452 0.13849982 0.63538802 0.74626493 0.79350653\n",
      "  0.54099088 0.72580406 0.38859242 0.33134647 0.33482004 0.48171721\n",
      "  0.30726151 0.05575364 0.43269763 0.77335302 0.         0.9358738\n",
      "  0.49104465 0.04401092 0.13459287 0.21613167 0.69169075 0.63198088\n",
      "  0.78397381 0.34517023 0.56313172 0.15051496 0.35018241 0.78201429\n",
      "  0.67604166 0.65452492 0.30874632 0.24867981 0.36691589 0.23037075\n",
      "  0.25218694 0.23663619 0.41063356 0.41025995 0.16737004 0.45305156\n",
      "  0.38473041 0.54781111 0.83538218 0.67538613 0.66808264 0.32600407\n",
      "  0.45210668 0.50005645 0.33950238 0.17251863 0.37987568 0.31978662\n",
      "  0.10473523 0.39019463 0.78286009 0.47106225 0.63182577 0.80194859\n",
      "  0.57479096 0.59681872 0.75777358 0.81022848 0.65933402 0.18851754\n",
      "  0.56362574 0.34901618 0.27338368 0.60916685 0.36431499 0.32000771\n",
      "  0.44940683 0.41992165 0.2818803  0.70505936 0.37756275 0.28812791\n",
      "  0.40205423 0.25530117 0.69452776 0.33289682 0.17093865 0.79594972\n",
      "  0.09688538 0.63989979 0.4846413  0.87325695 0.21963114 0.7541727\n",
      "  0.32894042 0.71578817 0.66091734 0.74618398 0.29179638 0.45275349\n",
      "  0.70850338 0.66428584 0.20773466 0.82667436]\n",
      " [0.65917345 1.28706364 0.95852312 0.46752431 0.86633582 0.85059098\n",
      "  0.49852726 0.98018363 0.80911474 0.80384208 0.93307969 0.52514125\n",
      "  1.17422553 0.88457891 0.52464678 0.21106877 0.9358738  0.\n",
      "  0.69613486 0.92341814 0.83579292 0.76398153 0.97826421 0.34261163\n",
      "  0.76444412 0.93362554 0.53186245 1.03887829 1.20180019 0.33266154\n",
      "  0.87222119 0.51771326 0.8732296  0.69112942 1.07559327 1.06435205\n",
      "  0.98795165 0.76850913 0.56310133 0.61116051 0.79356766 0.72526839\n",
      "  0.55456476 0.62722386 0.89382685 0.90466613 0.39062447 1.23487384\n",
      "  0.48426921 0.51240259 0.96737435 0.94024771 1.29509784 0.62406619\n",
      "  0.83823568 0.90552984 0.70324525 0.7478051  0.44443068 0.42475888\n",
      "  0.83913571 0.39840594 0.18690864 0.37911572 0.39429582 1.08219435\n",
      "  0.99463936 0.71609532 0.79555747 0.32744999 0.8329015  1.25121147\n",
      "  0.54481718 0.71927134 0.79728688 0.71253807 0.77780882 0.66923074\n",
      "  0.93811757 0.89699586 0.28915413 0.84897634 0.99369732 0.92062872\n",
      "  1.02606096 0.57403248 0.78107313 0.06742888 0.72590162 0.51844453\n",
      "  0.79935298 0.5938382  0.28071206 0.32305226 1.00037035 0.52620112\n",
      "  0.8898986  0.7424938  1.07038818 0.16015045]\n",
      " [0.06167676 0.71159443 0.4130132  0.23924585 0.296058   0.32815626\n",
      "  0.60227973 0.34533146 0.14081172 0.17531139 0.27653773 0.55222795\n",
      "  0.57349034 0.47385311 0.26915432 0.48601324 0.49104465 0.69613486\n",
      "  0.         0.51368951 0.35799132 0.28527157 0.32705521 0.36105075\n",
      "  0.29858244 0.74646506 0.65737722 0.49674192 0.58460323 0.40790931\n",
      "  0.24874704 0.21588311 0.23649407 0.40480462 0.41608443 0.47238563\n",
      "  0.37248438 0.5305093  0.22938064 0.15784282 0.47740879 0.04354693\n",
      "  0.39825788 0.08026243 0.37703039 0.26840817 0.65853972 0.66120262\n",
      "  0.35956643 0.56315106 0.75990687 0.62111334 0.72058138 0.29934562\n",
      "  0.4595174  0.22734987 0.29192841 0.05282133 0.25647124 0.37734098\n",
      "  0.16719489 0.30322639 0.51781053 0.40517709 0.30566169 0.67924223\n",
      "  0.30163815 0.14561643 0.22008657 0.46199415 0.70034933 0.71460732\n",
      "  0.52925162 0.66608919 0.21298144 0.21555594 0.67280116 0.45310565\n",
      "  0.79128358 0.2875322  0.40749585 0.68593396 0.6463708  0.35710385\n",
      "  0.53346853 0.17526274 0.08507149 0.62979261 0.43172333 0.29668214\n",
      "  0.17493206 0.23657373 0.4457058  0.39247541 0.36497736 0.50784607\n",
      "  0.28036142 0.18156795 0.69742487 0.67020082]\n",
      " [0.56769621 0.40362767 0.18171914 0.6438328  0.77696168 0.8227662\n",
      "  0.51232795 0.76153704 0.41904529 0.36071016 0.37407867 0.45444136\n",
      "  0.34688693 0.0433879  0.431611   0.76796193 0.04401092 0.92341814\n",
      "  0.51368951 0.         0.15611979 0.23170938 0.72792392 0.62896022\n",
      "  0.80948764 0.30150673 0.5312248  0.19199081 0.39047739 0.78487249\n",
      "  0.70804428 0.66690834 0.34410833 0.23240976 0.4107506  0.27376382\n",
      "  0.29519251 0.20099098 0.41383188 0.42118319 0.13867213 0.47744548\n",
      "  0.36931037 0.56612723 0.86575645 0.70884767 0.6416379  0.35844093\n",
      "  0.44216005 0.47268758 0.29673442 0.13022858 0.40966073 0.31720948\n",
      "  0.08521363 0.42727484 0.8054688  0.49738426 0.63838178 0.81012755\n",
      "  0.60642229 0.59717802 0.7484378  0.81597868 0.66299987 0.17464104\n",
      "  0.60253169 0.36933934 0.30015346 0.59598838 0.32102814 0.34356064\n",
      "  0.4227532  0.38054079 0.30921746 0.72889098 0.33599913 0.26440917\n",
      "  0.35828421 0.29270113 0.69100714 0.28932246 0.13597264 0.82811578\n",
      "  0.12973476 0.65577809 0.5133457  0.86205147 0.19932945 0.76736707\n",
      "  0.35781749 0.73316356 0.65196138 0.74768496 0.33473887 0.42825498\n",
      "  0.74081532 0.69001104 0.18490441 0.80879318]\n",
      " [0.41303375 0.45149186 0.1285127  0.50468143 0.62313259 0.66777784\n",
      "  0.49652976 0.61564484 0.26623734 0.20718692 0.24750591 0.4345566\n",
      "  0.348374   0.11860501 0.31687332 0.66029846 0.13459287 0.83579292\n",
      "  0.35799132 0.15611979 0.         0.08349034 0.58343614 0.51611178\n",
      "  0.65336815 0.4255041  0.53099593 0.20328071 0.38324375 0.65647213\n",
      "  0.5557767  0.52115422 0.2031056  0.18725433 0.32890792 0.24383132\n",
      "  0.20756847 0.24832993 0.2881878  0.27868165 0.17120009 0.32134409\n",
      "  0.30480694 0.41325265 0.71153249 0.55868601 0.6116515  0.39955339\n",
      "  0.35434486 0.45239389 0.4297212  0.27333852 0.4594343  0.21182375\n",
      "  0.1209442  0.28915866 0.64990553 0.34142952 0.50287013 0.6710121\n",
      "  0.45401416 0.4758828  0.65253138 0.68142456 0.5334248  0.32296647\n",
      "  0.4680508  0.21471328 0.14493308 0.51485076 0.41304895 0.41873731\n",
      "  0.40163082 0.43249583 0.15432241 0.57293933 0.40812216 0.24447805\n",
      "  0.47852383 0.16281646 0.57887287 0.38782847 0.29083056 0.67578034\n",
      "  0.19974839 0.50541818 0.35844793 0.77091404 0.1779735  0.62034314\n",
      "  0.20381771 0.58119691 0.55606283 0.62252961 0.24136349 0.39715198\n",
      "  0.58885879 0.5339045  0.33945677 0.74099658]\n",
      " [0.33694862 0.5245597  0.19475755 0.42119215 0.5638463  0.60484226\n",
      "  0.46339903 0.57097103 0.21657093 0.15927624 0.24183455 0.40193435\n",
      "  0.41123535 0.19017617 0.24049656 0.58261363 0.21613167 0.76398153\n",
      "  0.28527157 0.23170938 0.08349034 0.         0.54119656 0.43769\n",
      "  0.58349573 0.47113459 0.50478392 0.27764466 0.4415946  0.57377219\n",
      "  0.50072411 0.43842948 0.18359701 0.16877669 0.35362454 0.30219612\n",
      "  0.24092051 0.26887964 0.20807029 0.19520955 0.20202798 0.25244807\n",
      "  0.25580735 0.33444893 0.65069289 0.50776555 0.56793919 0.47206118\n",
      "  0.28960505 0.41871311 0.48073586 0.33605925 0.53282153 0.14635243\n",
      "  0.17467467 0.26535818 0.57575142 0.27637088 0.41951053 0.58754021\n",
      "  0.39995446 0.39522445 0.57888604 0.59803616 0.45074263 0.40326573\n",
      "  0.44085432 0.13967026 0.09695975 0.44888046 0.44136179 0.49786957\n",
      "  0.37010788 0.43840972 0.10673466 0.50075916 0.42609882 0.22935965\n",
      "  0.52028991 0.16655879 0.50025661 0.42088998 0.36173921 0.61958227\n",
      "  0.28243403 0.42454698 0.29888616 0.69819679 0.17746083 0.53805241\n",
      "  0.15442779 0.50151337 0.48331876 0.54044761 0.26618048 0.3604856\n",
      "  0.53413873 0.46507619 0.41661203 0.67773782]\n",
      " [0.33519172 0.75371741 0.56693083 0.51339196 0.15239762 0.20618122\n",
      "  0.9273711  0.03677819 0.32473439 0.3822704  0.36178575 0.87519271\n",
      "  0.61705894 0.69830094 0.5957316  0.76918244 0.69169075 0.97826421\n",
      "  0.32705521 0.72792392 0.58343614 0.54119656 0.         0.66704821\n",
      "  0.27500766 1.00782318 0.98140814 0.6245626  0.60349619 0.65427011\n",
      "  0.10855768 0.46055313 0.383865   0.69697862 0.41747096 0.55722614\n",
      "  0.46828834 0.80972726 0.55446604 0.48118885 0.74226079 0.32688235\n",
      "  0.71822071 0.36740199 0.21261505 0.07453819 0.98524218 0.71532799\n",
      "  0.68618315 0.88710431 1.01314283 0.85436942 0.76205279 0.60905361\n",
      "  0.70345098 0.30173127 0.32956659 0.29514801 0.53893831 0.58323301\n",
      "  0.16007256 0.61105806 0.81520416 0.62539135 0.58786053 0.86074735\n",
      "  0.14744201 0.42699955 0.44603436 0.78386552 0.98245918 0.7944403\n",
      "  0.85032004 0.96881634 0.4360367  0.27994829 0.96456989 0.75287442\n",
      "  1.05925413 0.43649069 0.70140485 0.96194066 0.86244711 0.15157953\n",
      "  0.69067484 0.40423347 0.26010715 0.9157675  0.71500659 0.48074093\n",
      "  0.38691072 0.39745195 0.75688177 0.6559905  0.43522649 0.83040793\n",
      "  0.10330222 0.23873119 0.89174775 0.9791032 ]\n",
      " [0.33379334 0.96141917 0.63134098 0.16600458 0.58045456 0.58108772\n",
      "  0.37737444 0.67571018 0.46693811 0.46159302 0.59066287 0.3597029\n",
      "  0.84137579 0.5867055  0.19981608 0.14523859 0.63198088 0.34261163\n",
      "  0.36105075 0.62896022 0.51611178 0.43769    0.66704821 0.\n",
      "  0.5055589  0.7243253  0.43407572 0.71531133 0.86621544 0.17954625\n",
      "  0.56771367 0.22923481 0.5313521  0.4085921  0.73354303 0.73127008\n",
      "  0.64973278 0.51850809 0.23001243 0.26968172 0.51688937 0.3862006\n",
      "  0.29001782 0.30113254 0.63043492 0.59703248 0.36573927 0.90880248\n",
      "  0.20200432 0.3587917  0.75205159 0.67781692 0.9698051  0.3123807\n",
      "  0.54579791 0.56333127 0.45428389 0.41091621 0.13788232 0.2527376\n",
      "  0.51615534 0.05782549 0.15820167 0.23187418 0.1027892  0.79977018\n",
      "  0.66261464 0.37445187 0.45685542 0.1474289  0.63842585 0.93471852\n",
      "  0.35819451 0.54935783 0.45778309 0.43229904 0.58981547 0.41044634\n",
      "  0.74744095 0.55777234 0.06278427 0.64211942 0.72510625 0.64111063\n",
      "  0.71411065 0.27810265 0.44588346 0.27520052 0.44696382 0.28812239\n",
      "  0.45720406 0.3313338  0.09134919 0.13619825 0.65995268 0.33166721\n",
      "  0.59134743 0.44621082 0.797536   0.3122535 ]\n",
      " [0.25472136 0.95020702 0.68990678 0.33983603 0.12448995 0.0880553\n",
      "  0.84269924 0.25760951 0.4016701  0.4547583  0.5102861  0.80310946\n",
      "  0.80846923 0.7707188  0.52019148 0.56816275 0.78397381 0.76444412\n",
      "  0.29858244 0.80948764 0.65336815 0.58349573 0.27500766 0.5055589\n",
      "  0.         1.04299089 0.90073582 0.76705805 0.80701369 0.43184021\n",
      "  0.17895335 0.27639299 0.4969043  0.6965489  0.61875328 0.72306348\n",
      "  0.62213263 0.82471127 0.49333896 0.43539824 0.77508567 0.33216197\n",
      "  0.663831   0.27084462 0.12958378 0.20970536 0.86455996 0.90439936\n",
      "  0.60220242 0.8101054  1.05754125 0.91952324 0.95909244 0.58392301\n",
      "  0.7579806  0.44489278 0.06277414 0.31295393 0.36788776 0.34318561\n",
      "  0.24149075 0.45999469 0.62764775 0.38871262 0.4069186  0.97050487\n",
      "  0.38035432 0.44402266 0.51059395 0.64660551 0.99147689 0.97115258\n",
      "  0.78642614 0.94540799 0.50214114 0.08707277 0.95967556 0.73952534\n",
      "  1.08614493 0.55448973 0.51893748 0.97938068 0.9434789  0.16226587\n",
      "  0.81545455 0.23256152 0.30345323 0.70869014 0.72617467 0.246007\n",
      "  0.45644114 0.17661717 0.59549563 0.44710423 0.60115696 0.76178106\n",
      "  0.17210621 0.11969641 0.99155646 0.80013658]\n",
      " [0.78883855 0.63569502 0.48317155 0.80166769 1.03406686 1.07278879\n",
      "  0.4403188  1.03918638 0.68569426 0.62684645 0.66772918 0.40854925\n",
      "  0.62359332 0.31790667 0.5646912  0.83622214 0.34517023 0.93362554\n",
      "  0.74646506 0.30150673 0.4255041  0.47113459 1.00782318 0.7243253\n",
      "  1.04299089 0.         0.42388155 0.48245188 0.66866317 0.90205933\n",
      "  0.9718562  0.84331576 0.62839552 0.35062678 0.71204012 0.56931657\n",
      "  0.59640222 0.22109759 0.57134121 0.61289783 0.27009326 0.7193056\n",
      "  0.43592628 0.77718103 1.11989095 0.978429   0.56828837 0.60380497\n",
      "  0.52380618 0.42135169 0.03635458 0.17533424 0.63878658 0.46818372\n",
      "  0.30470171 0.71427458 1.0255376  0.74556579 0.78670257 0.95599541\n",
      "  0.8710091  0.71544148 0.7926365  0.94792234 0.79360601 0.29411792\n",
      "  0.89283139 0.60440565 0.56279752 0.63081091 0.10351123 0.55277974\n",
      "  0.39115537 0.22203724 0.57276387 0.95711971 0.15837201 0.32212758\n",
      "  0.05730786 0.58353712 0.77735003 0.08501816 0.20549707 1.09055059\n",
      "  0.40674328 0.85007275 0.76982402 0.88489808 0.31780438 0.94228107\n",
      "  0.62261028 0.93076765 0.70799446 0.85946582 0.63584213 0.41292125\n",
      "  1.00527241 0.92796441 0.25277821 0.78746558]\n",
      " [0.66800878 0.93481851 0.65343989 0.57678956 0.9431613  0.96112403\n",
      "  0.05830727 1.00213039 0.68149077 0.63880639 0.74506985 0.10703337\n",
      "  0.86408937 0.50796551 0.38990428 0.4918301  0.56313172 0.53186245\n",
      "  0.65737722 0.5312248  0.53099593 0.50478392 0.98140814 0.43407572\n",
      "  0.90073582 0.42388155 0.         0.70659434 0.9040011  0.60354568\n",
      "  0.90526008 0.6368036  0.6838251  0.34415013 0.85526799 0.76906135\n",
      "  0.73659643 0.33182894 0.42800017 0.50052503 0.39582709 0.65464495\n",
      "  0.2656871  0.64168438 1.0122714  0.92577375 0.14662448 0.88883233\n",
      "  0.30136262 0.09431551 0.45987867 0.48773242 0.94088546 0.38267742\n",
      "  0.46045471 0.75745198 0.86035697 0.68638538 0.55173162 0.68627637\n",
      "  0.82186483 0.4578791  0.43020491 0.66121203 0.5325159  0.64429173\n",
      "  0.91806937 0.56559368 0.59039481 0.29318823 0.32040475 0.87201265\n",
      "  0.13594802 0.20187288 0.59825831 0.8167903  0.26627436 0.28690698\n",
      "  0.41664741 0.6711346  0.46349452 0.34457862 0.54339513 1.00595323\n",
      "  0.65925059 0.67013898 0.72214206 0.49451055 0.356093   0.71558704\n",
      "  0.63308498 0.74126158 0.37397699 0.56109507 0.76697536 0.15189188\n",
      "  0.93584083 0.8110665  0.61820455 0.37591945]\n",
      " [0.55779053 0.24822978 0.08685055 0.68525294 0.70682354 0.75975649\n",
      "  0.68003184 0.66073171 0.36738945 0.32163173 0.26631097 0.6191921\n",
      "  0.15802807 0.2015529  0.51769821 0.86025777 0.15051496 1.03887829\n",
      "  0.49674192 0.19199081 0.20328071 0.27764466 0.6245626  0.71531133\n",
      "  0.76705805 0.48245188 0.70659434 0.         0.20001653 0.8455414\n",
      "  0.63205116 0.690914   0.27023649 0.37510943 0.2437205  0.08840133\n",
      "  0.15627462 0.38561238 0.48549298 0.46263341 0.31250772 0.45398906\n",
      "  0.5036687  0.56724276 0.79556269 0.62393688 0.80265391 0.19629439\n",
      "  0.55748251 0.63748818 0.47086991 0.30722641 0.25622176 0.41507767\n",
      "  0.2467995  0.33169414 0.77802008 0.46260417 0.68769849 0.84858862\n",
      "  0.53615993 0.67186518 0.85505831 0.86440733 0.72316982 0.24668636\n",
      "  0.48344685 0.37482534 0.28405645 0.71794798 0.51233463 0.22343581\n",
      "  0.58630419 0.57028778 0.2886393  0.69722404 0.52780127 0.42387266\n",
      "  0.53974952 0.21310987 0.77783259 0.48003104 0.28551239 0.74821579\n",
      "  0.07870941 0.66461489 0.46462449 0.97378059 0.35350275 0.78511794\n",
      "  0.32181456 0.73280222 0.75882725 0.81440487 0.1910535  0.58622107\n",
      "  0.66206355 0.64970577 0.28527721 0.94321709]\n",
      " [0.6453418  0.15057088 0.2548839  0.80561398 0.72031866 0.77780074\n",
      "  0.87491779 0.63994518 0.44380264 0.42007298 0.30941823 0.81344421\n",
      "  0.0450747  0.40149401 0.67739648 1.01086438 0.35018241 1.20180019\n",
      "  0.58460323 0.39047739 0.38324375 0.4415946  0.60349619 0.86621544\n",
      "  0.80701369 0.66866317 0.9040011  0.20001653 0.         0.97377147\n",
      "  0.64474946 0.79719176 0.35105944 0.56655986 0.18960656 0.13996515\n",
      "  0.21870709 0.58559784 0.63896819 0.59920169 0.51186259 0.54160039\n",
      "  0.68788185 0.66344792 0.80322191 0.62662383 0.99397592 0.11953822\n",
      "  0.73103739 0.83160606 0.65238155 0.49623428 0.15872324 0.58735462\n",
      "  0.44596574 0.36855835 0.83263062 0.53861928 0.81388996 0.95922996\n",
      "  0.56552421 0.8167429  1.0153042  0.98249431 0.85567611 0.39694469\n",
      "  0.45650247 0.49776693 0.41011526 0.89045884 0.70809103 0.20794533\n",
      "  0.78042617 0.77010405 0.4102529  0.75275883 0.7263682  0.61885996\n",
      "  0.72538884 0.31131742 0.92699271 0.6750469  0.46442278 0.74733817\n",
      "  0.26522446 0.75986517 0.52673395 1.13518639 0.54868268 0.88116056\n",
      "  0.42285597 0.81571483 0.92146283 0.94820203 0.21966216 0.77828698\n",
      "  0.66889338 0.70010831 0.44127281 1.11925871]\n",
      " [0.35789018 1.08453166 0.75902534 0.17005132 0.53514732 0.51794975\n",
      "  0.54881396 0.65306483 0.54101524 0.55428752 0.67582906 0.53675423\n",
      "  0.95507682 0.74168848 0.35538929 0.14626434 0.78201429 0.33266154\n",
      "  0.40790931 0.78487249 0.65647213 0.57377219 0.65427011 0.17954625\n",
      "  0.43184021 0.90205933 0.60354568 0.8455414  0.97377147 0.\n",
      "  0.54648585 0.20020048 0.62446286 0.57613383 0.81904798 0.84679843\n",
      "  0.7552198  0.69243651 0.37151408 0.38292033 0.68348321 0.44565861\n",
      "  0.46635577 0.32953538 0.56130203 0.57987584 0.51398986 1.0321306\n",
      "  0.37829532 0.53444661 0.92896758 0.84604686 1.09326525 0.46946663\n",
      "  0.70484039 0.63369199 0.37092828 0.46051483 0.15993438 0.09944114\n",
      "  0.52659517 0.19054544 0.21555892 0.06047795 0.12304814 0.95864629\n",
      "  0.68920659 0.47753897 0.56812822 0.31036731 0.81759012 1.06867337\n",
      "  0.53698702 0.7286739  0.5662715  0.38190538 0.76929638 0.58469082\n",
      "  0.92643296 0.66297524 0.14011206 0.82053481 0.8906326  0.5883525\n",
      "  0.85611731 0.25491844 0.48813544 0.2777662  0.61461193 0.18583872\n",
      "  0.55120972 0.26227    0.23105225 0.04349565 0.75719563 0.5106004\n",
      "  0.56163263 0.41588373 0.96048206 0.38467066]\n",
      " [0.2425509  0.79189112 0.56359086 0.40992391 0.07605405 0.13305139\n",
      "  0.84958083 0.10856566 0.28955534 0.34860654 0.366288   0.80061615\n",
      "  0.65119879 0.67397375 0.515717   0.66414131 0.67604166 0.87222119\n",
      "  0.24874704 0.70804428 0.5557767  0.50072411 0.10855768 0.56771367\n",
      "  0.17895335 0.9718562  0.90526008 0.63205116 0.64474946 0.54648585\n",
      "  0.         0.35484933 0.37010966 0.64364073 0.45514292 0.5761143\n",
      "  0.47891693 0.76387505 0.47760765 0.40658985 0.7022994  0.26065862\n",
      "  0.64698299 0.27321456 0.16358477 0.03432262 0.89800642 0.74896102\n",
      "  0.60558302 0.81118178 0.9808735  0.82906338 0.80059858 0.54515965\n",
      "  0.67163171 0.30041529 0.22720405 0.23071291 0.43625171 0.47467619\n",
      "  0.10176473 0.51300127 0.71243254 0.51687811 0.48432781 0.85515355\n",
      "  0.20281979 0.37203649 0.41176424 0.69088763 0.93629199 0.82177197\n",
      "  0.77796202 0.91092034 0.402039   0.17180075 0.91315323 0.69586298\n",
      "  1.02049069 0.42728863 0.5987148  0.91873591 0.84401078 0.12008288\n",
      "  0.69025419 0.29878798 0.20248613 0.81045182 0.66627321 0.37218965\n",
      "  0.35213023 0.28889594 0.65846546 0.54942654 0.45186778 0.75636991\n",
      "  0.03342797 0.13060972 0.88190938 0.87864989]\n",
      " [0.16050138 0.91849188 0.60440861 0.06349388 0.35637091 0.35266168\n",
      "  0.57850371 0.46316194 0.35509872 0.37911646 0.49135406 0.54563781\n",
      "  0.7832397  0.62391056 0.28201228 0.3093536  0.65452492 0.51771326\n",
      "  0.21588311 0.66690834 0.52115422 0.43842948 0.46055313 0.22923481\n",
      "  0.27639299 0.84331576 0.6368036  0.690914   0.79719176 0.20020048\n",
      "  0.35484933 0.         0.44636397 0.49450913 0.63191122 0.6784951\n",
      "  0.58143964 0.6227966  0.27221387 0.24585817 0.59231273 0.25713712\n",
      "  0.42446669 0.13562165 0.40153587 0.38702027 0.58983517 0.86703129\n",
      "  0.34900155 0.55008725 0.86436356 0.75207448 0.9274141  0.37683266\n",
      "  0.59619988 0.44312318 0.22707036 0.26696059 0.09149869 0.16210437\n",
      "  0.32677424 0.18479516 0.36038894 0.18970792 0.1331714  0.84065331\n",
      "  0.48900615 0.31631607 0.40688377 0.37108108 0.77494032 0.91336696\n",
      "  0.53378692 0.70938262 0.40270049 0.2047205  0.73499925 0.52292204\n",
      "  0.87832748 0.49194928 0.24785634 0.76951252 0.78847061 0.41528866\n",
      "  0.71486266 0.05635289 0.29137126 0.45560333 0.5303612  0.10102416\n",
      "  0.37713828 0.10499719 0.31960598 0.19594893 0.57778038 0.50771794\n",
      "  0.37407711 0.22628306 0.8506016  0.5303772 ]\n",
      " [0.29807876 0.47510227 0.1947141  0.45537451 0.44270478 0.49331747\n",
      "  0.6391823  0.41744754 0.09871621 0.0707019  0.06371941 0.578845\n",
      "  0.33743591 0.31491213 0.36185877 0.67295236 0.30874632 0.8732296\n",
      "  0.23649407 0.34410833 0.2031056  0.18359701 0.383865   0.5313521\n",
      "  0.4969043  0.62839552 0.6838251  0.27023649 0.35105944 0.62446286\n",
      "  0.37010966 0.44636397 0.         0.35237269 0.20239688 0.23621769\n",
      "  0.13601099 0.44445681 0.31767579 0.26207775 0.37059377 0.19297122\n",
      "  0.42508245 0.31364432 0.53203626 0.3673208  0.73379035 0.4248284\n",
      "  0.43607627 0.59476959 0.63147033 0.47078713 0.48409012 0.30679723\n",
      "  0.32404144 0.08609688 0.50853095 0.19570125 0.4650312  0.6083031\n",
      "  0.27050119 0.47792391 0.68674414 0.63153088 0.50872592 0.48505492\n",
      "  0.26505515 0.1571557  0.09386549 0.58386079 0.61370176 0.48106576\n",
      "  0.54807169 0.6205974  0.08700124 0.42756573 0.60412137 0.41292791\n",
      "  0.68162529 0.05795506 0.58928263 0.58977211 0.47903065 0.48928254\n",
      "  0.32144865 0.41096234 0.19454031 0.80583465 0.35902358 0.53268273\n",
      "  0.07452656 0.47202647 0.59817717 0.60091342 0.13274119 0.53571176\n",
      "  0.40187967 0.37951128 0.512509   0.8119738 ]\n",
      " [0.44183307 0.61713034 0.3125637  0.45678165 0.69920246 0.73293586\n",
      "  0.30949759 0.72425392 0.37466555 0.3216652  0.4099195  0.24761363\n",
      "  0.52907016 0.19494134 0.22307187 0.54200265 0.24867981 0.69112942\n",
      "  0.40480462 0.23240976 0.18725433 0.16877669 0.69697862 0.4085921\n",
      "  0.6965489  0.35062678 0.34415013 0.37510943 0.56655986 0.57613383\n",
      "  0.64364073 0.49450913 0.35237269 0.         0.5119185  0.42875695\n",
      "  0.39253613 0.12960403 0.22242554 0.26297142 0.108303   0.38372498\n",
      "  0.136936   0.42804597 0.78176771 0.65561517 0.42792066 0.56740002\n",
      "  0.21281556 0.26559178 0.37009808 0.2700205  0.62426426 0.11786604\n",
      "  0.14738988 0.43330202 0.67613531 0.41297013 0.44471199 0.61717182\n",
      "  0.54667303 0.38558861 0.51795126 0.61505538 0.45910388 0.3948867\n",
      "  0.60641995 0.27206788 0.26338946 0.36367949 0.29565538 0.56854438\n",
      "  0.21462111 0.27279642 0.27263358 0.60993308 0.26951253 0.06069759\n",
      "  0.39035357 0.33122918 0.46883086 0.28290067 0.31651922 0.75865087\n",
      "  0.34356621 0.49948811 0.44252739 0.63019964 0.03851252 0.59447856\n",
      "  0.31628664 0.58018393 0.42214457 0.53596034 0.42362158 0.21178036\n",
      "  0.67680405 0.58447463 0.38956315 0.57806237]\n",
      " [0.47430516 0.33780999 0.23009602 0.64901473 0.53073355 0.58819422\n",
      "  0.81623106 0.45417817 0.27816489 0.27199622 0.14397741 0.75446095\n",
      "  0.19959246 0.40128266 0.56194175 0.87445816 0.36691589 1.07559327\n",
      "  0.41608443 0.4107506  0.32890792 0.35362454 0.41747096 0.73354303\n",
      "  0.61875328 0.71204012 0.85526799 0.2437205  0.18960656 0.81904798\n",
      "  0.45514292 0.63191122 0.20239688 0.5119185  0.         0.15850354\n",
      "  0.12207755 0.5721052  0.51859649 0.46446452 0.49359941 0.37513226\n",
      "  0.60889647 0.49632709 0.61401442 0.43730715 0.92096842 0.29789593\n",
      "  0.63145299 0.77156229 0.70498112 0.53814961 0.34637212 0.49454622\n",
      "  0.43208918 0.19005317 0.64673163 0.36623435 0.66123339 0.79337518\n",
      "  0.37749999 0.67965333 0.88913984 0.8207514  0.70674432 0.48983524\n",
      "  0.27003212 0.3595514  0.28681513 0.78340541 0.72481613 0.37789537\n",
      "  0.72218303 0.75913083 0.28287127 0.56777772 0.72888935 0.57130527\n",
      "  0.76896853 0.18917713 0.79098154 0.69535704 0.52477699 0.55876523\n",
      "  0.32162026 0.58950362 0.34870893 1.00819002 0.50666062 0.70887694\n",
      "  0.27633919 0.63869192 0.80032394 0.79818148 0.08831091 0.71376016\n",
      "  0.47945388 0.5145017  0.52898998 1.01240509]\n",
      " [0.53404638 0.24001183 0.1161936  0.68100209 0.65194783 0.70702676\n",
      "  0.73796256 0.5938635  0.33446356 0.29967891 0.21286341 0.67623024\n",
      "  0.11012485 0.27574144 0.53970541 0.87635285 0.23037075 1.06435205\n",
      "  0.47238563 0.27376382 0.24383132 0.30219612 0.55722614 0.73127008\n",
      "  0.72306348 0.56931657 0.76906135 0.08840133 0.13996515 0.84679843\n",
      "  0.5761143  0.6784951  0.23621769 0.42875695 0.15850354 0.\n",
      "  0.1016778  0.45829461 0.50250925 0.46725883 0.38194898 0.42883991\n",
      "  0.54814606 0.54823203 0.73929221 0.56432847 0.85528455 0.1889284\n",
      "  0.59135689 0.69428463 0.55863594 0.39398364 0.24894687 0.44760631\n",
      "  0.31628903 0.27877026 0.7404028  0.43156054 0.68703264 0.83945636\n",
      "  0.4853124  0.6834111  0.87825091 0.85962493 0.72665744 0.33192359\n",
      "  0.41235192 0.36929096 0.27890123 0.75103139 0.59467448 0.24809728\n",
      "  0.643208   0.64543294 0.28052771 0.65937913 0.60668181 0.48266342\n",
      "  0.62662109 0.18655457 0.79271228 0.56308584 0.37384615 0.68859091\n",
      "  0.16705717 0.64595613 0.4268043  0.99801704 0.41298365 0.76767324\n",
      "  0.30142026 0.70823922 0.78373122 0.81906098 0.12427748 0.64012786\n",
      "  0.60433567 0.60913509 0.37194889 0.97958334]\n",
      " [0.43403393 0.33915978 0.11371744 0.58747925 0.55434782 0.6085667\n",
      "  0.69938237 0.50447241 0.23343768 0.20258223 0.11297773 0.63741672\n",
      "  0.201803   0.28178388 0.46565609 0.79382775 0.25218694 0.98795165\n",
      "  0.37248438 0.29519251 0.20756847 0.24092051 0.46828834 0.64973278\n",
      "  0.62213263 0.59640222 0.73659643 0.15627462 0.21870709 0.7552198\n",
      "  0.47891693 0.58143964 0.13601099 0.39253613 0.12207755 0.1016778\n",
      "  0.         0.45009088 0.42509982 0.38136052 0.37158912 0.32897311\n",
      "  0.49637004 0.44948793 0.64246919 0.46919252 0.80821999 0.28919674\n",
      "  0.52721968 0.6548301  0.59168272 0.42469961 0.34815246 0.38605573\n",
      "  0.31055888 0.1792245  0.63877796 0.33044159 0.59530501 0.74309716\n",
      "  0.38579836 0.59918788 0.80108463 0.76503864 0.63697221 0.39733469\n",
      "  0.32783664 0.27915208 0.19288022 0.68369053 0.60448362 0.34939226\n",
      "  0.60482726 0.63705342 0.19225445 0.55774333 0.60726362 0.45122482\n",
      "  0.65286743 0.092688   0.70988802 0.57564089 0.41732405 0.59361066\n",
      "  0.22549907 0.54692234 0.32512878 0.92095338 0.38553665 0.66865621\n",
      "  0.20499697 0.60762633 0.7087319  0.7294966  0.03963063 0.59780301\n",
      "  0.50813234 0.50765645 0.43229798 0.91338132]\n",
      " [0.57006499 0.6041645  0.34844262 0.58277804 0.82248209 0.85839689\n",
      "  0.31820537 0.83891535 0.48499791 0.42815369 0.49444701 0.26453707\n",
      "  0.54336185 0.18412077 0.3464316  0.64221148 0.23663619 0.76850913\n",
      "  0.5305093  0.20099098 0.24832993 0.26887964 0.80972726 0.51850809\n",
      "  0.82471127 0.22109759 0.33182894 0.38561238 0.58559784 0.69243651\n",
      "  0.76387505 0.6227966  0.44445681 0.12960403 0.5721052  0.45829461\n",
      "  0.45009088 0.         0.35062026 0.39236535 0.07850591 0.50640747\n",
      "  0.22931046 0.55717779 0.90655873 0.77349166 0.45074232 0.55942378\n",
      "  0.31664093 0.28212663 0.24174565 0.17211976 0.60999494 0.24709188\n",
      "  0.14235655 0.52966811 0.80542517 0.5343362  0.56906768 0.74016622\n",
      "  0.66479005 0.50299765 0.60821062 0.73500234 0.57941372 0.32192948\n",
      "  0.70761649 0.39232317 0.36538845 0.44686405 0.17287398 0.5401876\n",
      "  0.23548971 0.18788297 0.37529195 0.73835373 0.160072   0.10806283\n",
      "  0.26144447 0.41038664 0.57554222 0.15550157 0.22676791 0.88076685\n",
      "  0.33046273 0.62897747 0.56149308 0.71243823 0.0987916  0.72222376\n",
      "  0.42327406 0.70967178 0.51649668 0.65085038 0.48650561 0.24732586\n",
      "  0.79724515 0.7113176  0.30397054 0.63834398]\n",
      " [0.24522566 0.73141085 0.40132867 0.23581237 0.51911166 0.54274851\n",
      "  0.37312382 0.57431417 0.27658453 0.2527324  0.38045974 0.32300853\n",
      "  0.61261687 0.3705352  0.04569042 0.37519418 0.41063356 0.56310133\n",
      "  0.22938064 0.41383188 0.2881878  0.20807029 0.55446604 0.23001243\n",
      "  0.49333896 0.57134121 0.42800017 0.48549298 0.63896819 0.37151408\n",
      "  0.47760765 0.27221387 0.31767579 0.22242554 0.51859649 0.50250925\n",
      "  0.42509982 0.35062026 0.         0.07370325 0.32295216 0.22914951\n",
      "  0.17213244 0.22328733 0.59350674 0.49777382 0.43815949 0.67879794\n",
      "  0.13327861 0.33377138 0.5921497  0.48486836 0.73979318 0.10526009\n",
      "  0.33558604 0.36772727 0.46485259 0.26065292 0.22650629 0.39954025\n",
      "  0.39452082 0.18769981 0.37640027 0.40257428 0.24921642 0.58810589\n",
      "  0.50476874 0.16443162 0.23363076 0.26675227 0.5062917  0.70581974\n",
      "  0.30093429 0.45221144 0.2363222  0.40644728 0.46982539 0.25273921\n",
      "  0.60761172 0.33501199 0.29238448 0.49888588 0.52522232 0.58150572\n",
      "  0.48759795 0.2808704  0.29729212 0.4963054  0.25879637 0.3720534\n",
      "  0.24749094 0.36120935 0.28367211 0.33564929 0.43938432 0.2788281\n",
      "  0.50860145 0.39121482 0.59219098 0.49429843]\n",
      " [0.18182807 0.70282737 0.37610992 0.2260515  0.45141253 0.47849589\n",
      "  0.44618536 0.50162439 0.20830399 0.19314665 0.3225709  0.39484536\n",
      "  0.57680344 0.37811199 0.11756245 0.41275485 0.41025995 0.61116051\n",
      "  0.15784282 0.42118319 0.27868165 0.19520955 0.48118885 0.26968172\n",
      "  0.43539824 0.61289783 0.50052503 0.46263341 0.59920169 0.38292033\n",
      "  0.40658985 0.24585817 0.26207775 0.26297142 0.46446452 0.46725883\n",
      "  0.38136052 0.39236535 0.07370325 0.         0.35179055 0.15545225\n",
      "  0.24045308 0.16533928 0.5287214  0.42566284 0.51119471 0.65028035\n",
      "  0.20686424 0.40621476 0.63053059 0.50854393 0.71148139 0.14852697\n",
      "  0.35084963 0.30233281 0.41317283 0.18698552 0.22565433 0.39233158\n",
      "  0.32140366 0.21786356 0.42468525 0.40370074 0.26083013 0.59522471\n",
      "  0.43220744 0.10493509 0.18913305 0.33189897 0.55645539 0.68585179\n",
      "  0.37145688 0.51269551 0.18911322 0.34841158 0.52436994 0.30413407\n",
      "  0.65330697 0.28891371 0.32882456 0.54556802 0.54321065 0.51329113\n",
      "  0.47648554 0.24026986 0.22358974 0.54377387 0.2952124  0.34660872\n",
      "  0.1884716  0.32045126 0.33726663 0.35269321 0.39033661 0.3503077\n",
      "  0.43811828 0.32746742 0.60474406 0.55539207]\n",
      " [0.52211888 0.54014102 0.27065834 0.55875894 0.76399162 0.80287291\n",
      "  0.37428934 0.77257209 0.4181762  0.36001495 0.41839234 0.31589536\n",
      "  0.4705283  0.1121625  0.32895218 0.64975496 0.16737004 0.79356766\n",
      "  0.47740879 0.13867213 0.17120009 0.20202798 0.74226079 0.51688937\n",
      "  0.77508567 0.27009326 0.39582709 0.31250772 0.51186259 0.68348321\n",
      "  0.7022994  0.59231273 0.37059377 0.108303   0.49359941 0.38194898\n",
      "  0.37158912 0.07850591 0.32295216 0.35179055 0.         0.44933272\n",
      "  0.23989719 0.51284501 0.84982853 0.70978191 0.50300872 0.49332172\n",
      "  0.32022991 0.33417052 0.28251572 0.16281711 0.54649942 0.2180381\n",
      "  0.06594041 0.45639987 0.76059006 0.47547265 0.54843611 0.7214362\n",
      "  0.60183044 0.49299938 0.62373344 0.72108482 0.56531683 0.28900289\n",
      "  0.6350829  0.33443516 0.29625172 0.46675755 0.24310973 0.4822034\n",
      "  0.28410225 0.26606287 0.30624646 0.68991574 0.2371731  0.1270423\n",
      "  0.31830041 0.33389785 0.57709723 0.22008221 0.20821755 0.82068846\n",
      "  0.2638651  0.59194302 0.50002958 0.73404466 0.07009469 0.69310893\n",
      "  0.35546184 0.67223676 0.52861549 0.64367094 0.40808525 0.28981089\n",
      "  0.73572671 0.65897146 0.28159887 0.67350708]\n",
      " [0.10521117 0.66806409 0.37078714 0.27590843 0.31608639 0.35354884\n",
      "  0.60099982 0.3491189  0.0980991  0.13236438 0.23428034 0.54832624\n",
      "  0.53008231 0.43856159 0.27222995 0.51650591 0.45305156 0.72526839\n",
      "  0.04354693 0.47744548 0.32134409 0.25244807 0.32688235 0.3862006\n",
      "  0.33216197 0.7193056  0.65464495 0.45398906 0.54160039 0.44565861\n",
      "  0.26065862 0.25713712 0.19297122 0.38372498 0.37513226 0.42883991\n",
      "  0.32897311 0.50640747 0.22914951 0.15545225 0.44933272 0.\n",
      "  0.39147391 0.12205689 0.4006948  0.27553569 0.66547686 0.61765617\n",
      "  0.36215234 0.5603666  0.73120734 0.58830031 0.67705016 0.28515242\n",
      "  0.42710655 0.18803506 0.33035946 0.03174246 0.2909555  0.41906844\n",
      "  0.16826201 0.32864722 0.54415238 0.44562165 0.3390373  0.64070946\n",
      "  0.28184708 0.11490254 0.18032912 0.47682009 0.67791034 0.67128972\n",
      "  0.52351794 0.6502927  0.17263694 0.25200902 0.65310957 0.43523459\n",
      "  0.76571527 0.24413066 0.43611426 0.66183937 0.61132567 0.37496357\n",
      "  0.49229443 0.21838732 0.06816242 0.65842242 0.40800449 0.33997091\n",
      "  0.13228628 0.27992686 0.46747586 0.42796382 0.3219391  0.50352957\n",
      "  0.29356734 0.21301332 0.66019482 0.69131405]\n",
      " [0.41735658 0.74920557 0.43331859 0.37479206 0.69082185 0.71485625\n",
      "  0.2160277  0.74038258 0.41607147 0.37526296 0.48790376 0.15865375\n",
      "  0.65308923 0.33165614 0.14483166 0.4137429  0.38473041 0.55456476\n",
      "  0.39825788 0.36931037 0.30480694 0.25580735 0.71822071 0.29001782\n",
      "  0.663831   0.43592628 0.2656871  0.5036687  0.68788185 0.46635577\n",
      "  0.64698299 0.42446669 0.42508245 0.136936   0.60889647 0.54814606\n",
      "  0.49637004 0.22931046 0.17213244 0.24045308 0.23989719 0.39147391\n",
      "  0.         0.39495307 0.76563454 0.6653966  0.31216012 0.69856111\n",
      "  0.08816266 0.17264423 0.46262459 0.39421609 0.75661596 0.11881933\n",
      "  0.28432568 0.49459044 0.63216825 0.42316263 0.35649098 0.52186456\n",
      "  0.5595722  0.27986177 0.38412987 0.51215192 0.35868954 0.52888972\n",
      "  0.65248177 0.29994956 0.33124745 0.22722672 0.35571358 0.70394165\n",
      "  0.132134   0.28530618 0.33826486 0.57725841 0.31206992 0.12170808\n",
      "  0.46294006 0.42032741 0.3462756  0.35550104 0.44486422 0.75304398\n",
      "  0.47837414 0.4438451  0.45824784 0.49431488 0.17139601 0.51847732\n",
      "  0.36953423 0.52217324 0.28982693 0.42402062 0.52185746 0.1138503\n",
      "  0.6785711  0.56332751 0.52018259 0.44228375]\n",
      " [0.03267115 0.78804452 0.4819091  0.16312747 0.30200916 0.32062912\n",
      "  0.58461948 0.37892223 0.22015498 0.24882031 0.35628469 0.54010928\n",
      "  0.65107998 0.52453532 0.25367782 0.41620027 0.54781111 0.62722386\n",
      "  0.08026243 0.56612723 0.41325265 0.33444893 0.36740199 0.30113254\n",
      "  0.27084462 0.77718103 0.64168438 0.56724276 0.66344792 0.32953538\n",
      "  0.27321456 0.13562165 0.31364432 0.42804597 0.49632709 0.54823203\n",
      "  0.44948793 0.55717779 0.22328733 0.16533928 0.51284501 0.12205689\n",
      "  0.39495307 0.         0.37165455 0.29983133 0.62551369 0.73715198\n",
      "  0.34033967 0.54880677 0.79378465 0.66490158 0.79701012 0.31367153\n",
      "  0.50415234 0.30754272 0.24835709 0.13173667 0.18331708 0.29719003\n",
      "  0.21513228 0.24431103 0.45390205 0.32502172 0.23339671 0.73621129\n",
      "  0.36750317 0.1992817  0.28493408 0.41788078 0.72176572 0.78757609\n",
      "  0.5209039  0.67479348 0.27926516 0.18377508 0.68901978 0.46908034\n",
      "  0.81838299 0.36208414 0.34117782 0.7108176  0.69501665 0.36485978\n",
      "  0.59841395 0.09782905 0.15873342 0.56183591 0.45939406 0.21945568\n",
      "  0.24753765 0.16824759 0.38996943 0.31659033 0.44380138 0.49727786\n",
      "  0.30057419 0.16957574 0.75100796 0.61331487]\n",
      " [0.34832112 0.95172036 0.72621483 0.46445105 0.08934918 0.05114778\n",
      "  0.95477715 0.18214358 0.44691757 0.50504987 0.52987256 0.91160545\n",
      "  0.81186378 0.83013037 0.62533237 0.6975716  0.83538218 0.89382685\n",
      "  0.37703039 0.86575645 0.71153249 0.65069289 0.21261505 0.63043492\n",
      "  0.12958378 1.11989095 1.0122714  0.79556269 0.80322191 0.56130203\n",
      "  0.16358477 0.40153587 0.53203626 0.78176771 0.61401442 0.73929221\n",
      "  0.64246919 0.90655873 0.59350674 0.5287214  0.84982853 0.4006948\n",
      "  0.76563454 0.37165455 0.         0.17675613 0.98482851 0.90996863\n",
      "  0.7113029  0.91995491 1.13114415 0.98381731 0.96032907 0.67507075\n",
      "  0.82425917 0.46398031 0.19075751 0.37454111 0.49257016 0.47146608\n",
      "  0.26158526 0.5824511  0.75640793 0.51715985 0.53370184 1.01659382\n",
      "  0.35032982 0.51554164 0.56662717 0.76853913 1.07716917 0.98419826\n",
      "  0.89254088 1.04124281 0.55721306 0.19919999 1.04973379 0.82977061\n",
      "  1.1663758  0.58959127 0.64678955 1.06205951 1.00160952 0.06163333\n",
      "  0.8529829  0.35348101 0.35326328 0.83826976 0.80789924 0.37546768\n",
      "  0.50802885 0.30512629 0.72111113 0.57659404 0.61501506 0.86891744\n",
      "  0.13522312 0.20234748 1.042216   0.92863313]\n",
      " [0.26834689 0.77497278 0.558619   0.44100811 0.096325   0.1544956\n",
      "  0.87065343 0.07909193 0.29317476 0.3523385  0.3576302  0.82045939\n",
      "  0.635142   0.67615069 0.53718492 0.6960687  0.67538613 0.90466613\n",
      "  0.26840817 0.70884767 0.55868601 0.50776555 0.07453819 0.59703248\n",
      "  0.20970536 0.978429   0.92577375 0.62393688 0.62662383 0.57987584\n",
      "  0.03432262 0.38702027 0.3673208  0.65561517 0.43730715 0.56432847\n",
      "  0.46919252 0.77349166 0.49777382 0.42566284 0.70978191 0.27553569\n",
      "  0.6653966  0.29983133 0.17675613 0.         0.92265876 0.73328432\n",
      "  0.62743416 0.83153043 0.98622558 0.83189483 0.78358758 0.56066626\n",
      "  0.6762932  0.29281406 0.26017704 0.24452    0.46698403 0.5088203\n",
      "  0.10895271 0.5417313  0.743318   0.55087873 0.51548338 0.85166347\n",
      "  0.17729927 0.38355345 0.41619521 0.71765498 0.9462654  0.80809525\n",
      "  0.79696839 0.92491385 0.40631073 0.20612335 0.92489945 0.70923942\n",
      "  1.0280546  0.42347234 0.62952836 0.92768035 0.84462301 0.12442647\n",
      "  0.68477563 0.33079032 0.21310773 0.84253327 0.67669003 0.40636228\n",
      "  0.35628238 0.32301021 0.68744431 0.5821066  0.44015873 0.77596675\n",
      "  0.04282844 0.16420629 0.8798155  0.90856752]\n",
      " [0.65550271 1.04113617 0.73929329 0.52662159 0.92496534 0.93421192\n",
      "  0.13375549 1.00126186 0.71179301 0.67862834 0.7972325  0.18733893\n",
      "  0.95694976 0.6123549  0.39364515 0.38433474 0.66808264 0.39062447\n",
      "  0.65853972 0.6416379  0.6116515  0.56793919 0.98524218 0.36573927\n",
      "  0.86455996 0.56828837 0.14662448 0.80265391 0.99397592 0.51398986\n",
      "  0.89800642 0.58983517 0.73379035 0.42792066 0.92096842 0.85528455\n",
      "  0.80821999 0.45074232 0.43815949 0.51119471 0.50300872 0.66547686\n",
      "  0.31216012 0.62551369 0.98482851 0.92265876 0.         0.99269064\n",
      "  0.3054217  0.16923207 0.60397504 0.6167109  1.047847   0.4276985\n",
      "  0.56335662 0.79776395 0.81686593 0.69639622 0.49914747 0.60602179\n",
      "  0.82570357 0.40506514 0.31588212 0.57412836 0.46852816 0.77135259\n",
      "  0.94289289 0.59578707 0.64052211 0.21915856 0.46483162 0.98519792\n",
      "  0.21892151 0.34655272 0.64681984 0.78573506 0.40999107 0.38028751\n",
      "  0.5630318  0.73217375 0.37707989 0.48711968 0.6726499  0.98745339\n",
      "  0.76492767 0.63238168 0.73346506 0.35972279 0.4501013  0.6536564\n",
      "  0.67297444 0.69421535 0.28592418 0.47461517 0.83401685 0.21644375\n",
      "  0.92604684 0.78971728 0.74905632 0.23199398]\n",
      " [0.72284315 0.05264804 0.27752754 0.86788934 0.82497243 0.88162398\n",
      "  0.86680208 0.7520114  0.5226343  0.48851734 0.39591964 0.80711025\n",
      "  0.0983547  0.38159091 0.71255253 1.05398994 0.32600407 1.23487384\n",
      "  0.66120262 0.35844093 0.39955339 0.47206118 0.71532799 0.90880248\n",
      "  0.90439936 0.60380497 0.88883233 0.19629439 0.11953822 1.0321306\n",
      "  0.74896102 0.86703129 0.4248284  0.56740002 0.29789593 0.1889284\n",
      "  0.28919674 0.55942378 0.67879794 0.65028035 0.49332172 0.61765617\n",
      "  0.69856111 0.73715198 0.90996863 0.73328432 0.99269064 0.\n",
      "  0.75377094 0.82546001 0.58261259 0.44045677 0.06120762 0.61130189\n",
      "  0.43011949 0.45999346 0.92512814 0.61962211 0.87281046 1.02763957\n",
      "  0.66392109 0.86357471 1.05061616 1.04688761 0.91091566 0.31519519\n",
      "  0.56788714 0.55556511 0.46433308 0.91422473 0.65790356 0.08921979\n",
      "  0.77457656 0.73485124 0.46687172 0.84432793 0.68422196 0.61243119\n",
      "  0.65866386 0.37528702 0.97104039 0.62384695 0.39898674 0.85582935\n",
      "  0.22958175 0.83488371 0.61309635 1.16958263 0.54264857 0.95659784\n",
      "  0.49015623 0.89677547 0.95459929 1.00296406 0.30399177 0.77654613\n",
      "  0.77488584 0.79306065 0.3598078  1.13911723]\n",
      " [0.36677441 0.80551303 0.4804279  0.29506644 0.64184914 0.66016855\n",
      "  0.24456731 0.70484948 0.40678586 0.37654552 0.49978057 0.20092981\n",
      "  0.6995911  0.40196317 0.09045454 0.32957248 0.45210668 0.48426921\n",
      "  0.35956643 0.44216005 0.35434486 0.28960505 0.68618315 0.20200432\n",
      "  0.60220242 0.52380618 0.30136262 0.55748251 0.73103739 0.37829532\n",
      "  0.60558302 0.34900155 0.43607627 0.21281556 0.63145299 0.59135689\n",
      "  0.52721968 0.31664093 0.13327861 0.20686424 0.32022991 0.36215234\n",
      "  0.08816266 0.34033967 0.7113029  0.62743416 0.3054217  0.75377094\n",
      "  0.         0.20865742 0.55074723 0.47857071 0.8133381  0.14379766\n",
      "  0.35712781 0.49467792 0.56537792 0.3935183  0.27455324 0.43604408\n",
      "  0.52611064 0.19316981 0.30629324 0.424809   0.27260386 0.60766481\n",
      "  0.63759587 0.2914487  0.3452397  0.16051142 0.44160051 0.76708039\n",
      "  0.18549598 0.36323172 0.35022251 0.51714918 0.39589324 0.20861907\n",
      "  0.54961859 0.44295493 0.25921121 0.44278432 0.52767728 0.7046595\n",
      "  0.54180096 0.37493959 0.4303146  0.42116841 0.25024254 0.43895369\n",
      "  0.37099837 0.45039606 0.20984267 0.33588232 0.5475517  0.16005009\n",
      "  0.63562259 0.50979198 0.60181923 0.38822983]\n",
      " [0.57464786 0.8733561  0.57810246 0.49165038 0.84984896 0.86882264\n",
      "  0.04468827 0.90782767 0.58870262 0.54738543 0.65678911 0.01834982\n",
      "  0.7933162  0.44430383 0.29620505 0.43677933 0.50005645 0.51240259\n",
      "  0.56315106 0.47268758 0.45239389 0.41871311 0.88710431 0.3587917\n",
      "  0.8101054  0.42135169 0.09431551 0.63748818 0.83160606 0.53444661\n",
      "  0.81118178 0.55008725 0.59476959 0.26559178 0.77156229 0.69428463\n",
      "  0.6548301  0.28212663 0.33377138 0.40621476 0.33417052 0.5603666\n",
      "  0.17264423 0.54880677 0.91995491 0.83153043 0.16923207 0.82546001\n",
      "  0.20865742 0.         0.4554385  0.45023135 0.87992988 0.29078291\n",
      "  0.39546795 0.66647778 0.77140637 0.59210524 0.46769575 0.61124354\n",
      "  0.72754933 0.37568657 0.38275161 0.5898671  0.45289488 0.60359786\n",
      "  0.82501869 0.47247063 0.50099677 0.22922429 0.32059475 0.81622471\n",
      "  0.05121219 0.20960532 0.50851598 0.72548983 0.26565463 0.21364161\n",
      "  0.42690762 0.58523083 0.39615988 0.33694406 0.50602963 0.91259426\n",
      "  0.59694118 0.58084816 0.62791242 0.46548947 0.28398982 0.63283011\n",
      "  0.54165649 0.65378074 0.31157849 0.49118074 0.68351527 0.0591873\n",
      "  0.84187605 0.71833843 0.58289386 0.36763747]\n",
      " [0.80417228 0.61248587 0.4780012  0.82440961 1.04456728 1.08468849\n",
      "  0.4754025  1.04515897 0.6930705  0.63395965 0.66793649 0.44224147\n",
      "  0.60733659 0.31773802 0.58776972 0.86646187 0.33950238 0.96737435\n",
      "  0.75990687 0.29673442 0.4297212  0.48073586 1.01314283 0.75205159\n",
      "  1.05754125 0.03635458 0.45987867 0.47086991 0.65238155 0.92896758\n",
      "  0.9808735  0.86436356 0.63147033 0.37009808 0.70498112 0.55863594\n",
      "  0.59168272 0.24174565 0.5921497  0.63053059 0.28251572 0.73120734\n",
      "  0.46262459 0.79378465 1.13114415 0.98622558 0.60397504 0.58261259\n",
      "  0.55074723 0.4554385  0.         0.16705628 0.61519837 0.48796401\n",
      "  0.31009682 0.716894   1.04199914 0.75660557 0.81028152 0.98060991\n",
      "  0.87957961 0.74125779 0.82419329 0.97376283 0.81884841 0.26961291\n",
      "  0.89472222 0.61642056 0.57003433 0.6620652  0.13948356 0.52801407\n",
      "  0.42386181 0.25800586 0.57993165 0.97219221 0.19398596 0.34618643\n",
      "  0.07743501 0.58449723 0.8060602  0.11849669 0.18801695 1.10011809\n",
      "  0.39370879 0.86913684 0.7795533  0.91792987 0.33557978 0.963938\n",
      "  0.62994896 0.94979886 0.73840481 0.8866294  0.63128265 0.44499785\n",
      "  1.01423723 0.94146005 0.22674971 0.82214367]\n",
      " [0.67080826 0.47754376 0.31099475 0.72058812 0.89580393 0.93916905\n",
      "  0.48301695 0.88735511 0.53955886 0.48045787 0.50363973 0.4332667\n",
      "  0.45127877 0.15611535 0.49176381 0.80762714 0.17251863 0.94024771\n",
      "  0.62111334 0.13022858 0.27333852 0.33605925 0.85436942 0.67781692\n",
      "  0.91952324 0.17533424 0.48773242 0.30722641 0.49623428 0.84604686\n",
      "  0.82906338 0.75207448 0.47078713 0.2700205  0.53814961 0.39398364\n",
      "  0.42469961 0.17211976 0.48486836 0.50854393 0.16281711 0.58830031\n",
      "  0.39421609 0.66490158 0.98381731 0.83189483 0.6167109  0.44045677\n",
      "  0.47857071 0.45023135 0.16705628 0.         0.48177806 0.3804176\n",
      "  0.16161861 0.55517094 0.91015927 0.61109741 0.71087174 0.88393815\n",
      "  0.72730965 0.65551288 0.77725421 0.8839     0.72813094 0.15674874\n",
      "  0.73163581 0.47552994 0.41758094 0.6170078  0.21762824 0.40133599\n",
      "  0.40577399 0.30591071 0.42718917 0.83636088 0.24861467 0.27346726\n",
      "  0.23264067 0.42130234 0.73718786 0.18348238 0.05594956 0.94902592\n",
      "  0.23231345 0.74848415 0.63056424 0.88348848 0.23151    0.85306934\n",
      "  0.47697045 0.82808271 0.68391588 0.80597926 0.46431305 0.41900834\n",
      "  0.86217516 0.80110977 0.13268567 0.81022243]\n",
      " [0.78216471 0.00900148 0.33847053 0.92882911 0.87644365 0.93355643\n",
      "  0.92069649 0.79854755 0.58141153 0.54860845 0.45273722 0.86159173\n",
      "  0.15066694 0.4356293  0.77327497 1.11497108 0.37987568 1.29509784\n",
      "  0.72058138 0.40966073 0.4594343  0.53282153 0.76205279 0.9698051\n",
      "  0.95909244 0.63878658 0.94088546 0.25622176 0.15872324 1.09326525\n",
      "  0.80059858 0.9274141  0.48409012 0.62426426 0.34637212 0.24894687\n",
      "  0.34815246 0.60999494 0.73979318 0.71148139 0.54649942 0.67705016\n",
      "  0.75661596 0.79701012 0.96032907 0.78358758 1.047847   0.06120762\n",
      "  0.8133381  0.87992988 0.61519837 0.48177806 0.         0.67125721\n",
      "  0.48453677 0.51583612 0.98143314 0.67822094 0.93389724 1.08822608\n",
      "  0.71798809 0.92472726 1.11111806 1.10776639 0.97210009 0.34559779\n",
      "  0.61490861 0.61654703 0.52537517 0.97369837 0.69923256 0.09022259\n",
      "  0.82926914 0.78139176 0.52781417 0.90082995 0.72856907 0.6676405\n",
      "  0.69217986 0.43549688 1.03208276 0.66501866 0.43654259 0.90507649\n",
      "  0.28299033 0.89465991 0.67060153 1.22995276 0.59831544 1.01640097\n",
      "  0.55036679 0.95568048 1.01498266 1.06416176 0.36067447 0.83212008\n",
      "  0.82559987 0.84911198 0.38908892 1.19786055]\n",
      " [0.33000691 0.663304   0.33681658 0.34086414 0.59539293 0.62529467\n",
      "  0.33457927 0.63330118 0.29920749 0.25662077 0.36993128 0.27596416\n",
      "  0.55580131 0.27460297 0.11454871 0.45371843 0.31978662 0.62406619\n",
      "  0.29934562 0.31720948 0.21182375 0.14635243 0.60905361 0.3123807\n",
      "  0.58392301 0.46818372 0.38267742 0.41507767 0.58735462 0.46946663\n",
      "  0.54515965 0.37683266 0.30679723 0.11786604 0.49454622 0.44760631\n",
      "  0.38605573 0.24709188 0.10526009 0.14852697 0.2180381  0.28515242\n",
      "  0.11881933 0.31367153 0.67507075 0.56066626 0.4276985  0.61130189\n",
      "  0.14379766 0.29078291 0.48796401 0.3804176  0.67125721 0.\n",
      "  0.23556067 0.37584299 0.56074524 0.31620919 0.33046295 0.50352072\n",
      "  0.45281807 0.28036967 0.44160996 0.504353   0.34918359 0.4897627\n",
      "  0.53597231 0.18451142 0.21312635 0.30398173 0.40817395 0.62827283\n",
      "  0.24719815 0.36674358 0.21983959 0.49693786 0.37596414 0.15564028\n",
      "  0.50649341 0.30537834 0.37481485 0.39823179 0.42224256 0.65635526\n",
      "  0.40455526 0.38193284 0.3494114  0.55944127 0.15362204 0.47704075\n",
      "  0.25089137 0.46261942 0.3448659  0.43124747 0.40872643 0.23164617\n",
      "  0.57769524 0.47494357 0.49107128 0.53198742]\n",
      " [0.50937909 0.47790806 0.20624592 0.56895687 0.73678162 0.77895858\n",
      "  0.436687   0.73519984 0.38312026 0.32396032 0.36650374 0.37712231\n",
      "  0.40477868 0.04908347 0.35007445 0.68373926 0.10473523 0.83823568\n",
      "  0.4595174  0.08521363 0.1209442  0.17467467 0.70345098 0.54579791\n",
      "  0.7579806  0.30470171 0.46045471 0.2467995  0.44596574 0.70484039\n",
      "  0.67163171 0.59619988 0.32404144 0.14738988 0.43208918 0.31628903\n",
      "  0.31055888 0.14235655 0.33558604 0.35084963 0.06594041 0.42710655\n",
      "  0.28432568 0.50415234 0.82425917 0.6762932  0.56335662 0.43011949\n",
      "  0.35712781 0.39546795 0.31009682 0.16161861 0.48453677 0.23556067\n",
      "  0.         0.41007364 0.74869803 0.45054513 0.56173247 0.73441801\n",
      "  0.57010306 0.51591431 0.66336063 0.73809912 0.58384808 0.25430143\n",
      "  0.58891963 0.31396086 0.26014228 0.51082153 0.29565564 0.42383939\n",
      "  0.34473765 0.33014851 0.26999727 0.67474252 0.29680175 0.18344037\n",
      "  0.35758386 0.28169016 0.6075404  0.26877088 0.19236105 0.79123667\n",
      "  0.20157394 0.58957115 0.47136688 0.7768393  0.11567463 0.69716123\n",
      "  0.32003386 0.6685838  0.5669637  0.6668076  0.3480863  0.34807057\n",
      "  0.70492674 0.63972629 0.2566294  0.72472464]\n",
      " [0.28452032 0.50688586 0.26661846 0.46387926 0.37548458 0.42937362\n",
      "  0.71040484 0.33636431 0.09641588 0.11949836 0.06624764 0.65128888\n",
      "  0.36527872 0.3997291  0.41331818 0.6994341  0.39019463 0.90552984\n",
      "  0.22734987 0.42727484 0.28915866 0.26535818 0.30173127 0.56333127\n",
      "  0.44489278 0.71427458 0.75745198 0.33169414 0.36855835 0.63369199\n",
      "  0.30041529 0.44312318 0.08609688 0.43330202 0.19005317 0.27877026\n",
      "  0.1792245  0.52966811 0.36772727 0.30233281 0.45639987 0.18803506\n",
      "  0.49459044 0.30754272 0.46398031 0.29281406 0.79776395 0.45999346\n",
      "  0.49467792 0.66647778 0.716894   0.55517094 0.51583612 0.37584299\n",
      "  0.41007364 0.         0.46561838 0.17653304 0.47819873 0.60404796\n",
      "  0.2066737  0.50712594 0.72124192 0.63252661 0.52546224 0.56044551\n",
      "  0.17896031 0.20370844 0.17008873 0.6334242  0.69949758 0.52662459\n",
      "  0.62152047 0.70371484 0.16117427 0.38513733 0.68901547 0.49340644\n",
      "  0.76765013 0.13489358 0.61729804 0.67578017 0.56108449 0.41681385\n",
      "  0.39220548 0.3996299  0.15916629 0.83822901 0.4423871  0.51882396\n",
      "  0.12521146 0.44927329 0.63791571 0.61539636 0.15628095 0.60729591\n",
      "  0.33040156 0.33327812 0.59041109 0.85767524]\n",
      " [0.239357   0.97247662 0.69776799 0.29025991 0.18320584 0.15082898\n",
      "  0.80209635 0.31533077 0.41063791 0.45938432 0.52922506 0.76549795\n",
      "  0.8308971  0.76527521 0.48742043 0.50925066 0.78286009 0.70324525\n",
      "  0.29192841 0.8054688  0.64990553 0.57575142 0.32956659 0.45428389\n",
      "  0.06277414 1.0255376  0.86035697 0.77802008 0.83263062 0.37092828\n",
      "  0.22720405 0.22707036 0.50853095 0.67613531 0.64673163 0.7404028\n",
      "  0.63877796 0.80542517 0.46485259 0.41317283 0.76059006 0.33035946\n",
      "  0.63216825 0.24835709 0.19075751 0.26017704 0.81686593 0.92512814\n",
      "  0.56537792 0.77140637 1.04199914 0.91015927 0.98143314 0.56074524\n",
      "  0.74869803 0.46561838 0.         0.31640422 0.31788876 0.28086597\n",
      "  0.27124105 0.411862   0.57033422 0.32649823 0.35361937 0.97087143\n",
      "  0.42261913 0.43642596 0.51068337 0.59797235 0.96881187 0.98800407\n",
      "  0.75072067 0.91629101 0.50295585 0.08106149 0.93434417 0.71540606\n",
      "  1.06647951 0.56496558 0.4634744  0.95867272 0.93745502 0.22486906\n",
      "  0.82141662 0.19059481 0.31424446 0.64834637 0.7077461  0.18528149\n",
      "  0.46030376 0.12296412 0.54293464 0.38798936 0.62114929 0.72542797\n",
      "  0.22634886 0.13252877 0.98935034 0.74312544]\n",
      " [0.10807175 0.66922004 0.3814365  0.29205178 0.28861353 0.32848032\n",
      "  0.63270756 0.31758072 0.09710296 0.14305764 0.22931778 0.58006747\n",
      "  0.52970233 0.45955084 0.30344977 0.53804237 0.47106225 0.7478051\n",
      "  0.05282133 0.49738426 0.34142952 0.27637088 0.29514801 0.41091621\n",
      "  0.31295393 0.74556579 0.68638538 0.46260417 0.53861928 0.46051483\n",
      "  0.23071291 0.26696059 0.19570125 0.41297013 0.36623435 0.43156054\n",
      "  0.33044159 0.5343362  0.26065292 0.18698552 0.47547265 0.03174246\n",
      "  0.42316263 0.13173667 0.37454111 0.24452    0.69639622 0.61962211\n",
      "  0.3935183  0.59210524 0.75660557 0.61109741 0.67822094 0.31620919\n",
      "  0.45054513 0.17653304 0.31640422 0.         0.30920541 0.42753452\n",
      "  0.13676997 0.3531432  0.56833985 0.4566026  0.3582665  0.6576303\n",
      "  0.25356856 0.14201519 0.19773146 0.50582252 0.70631781 0.67667205\n",
      "  0.55522339 0.68069094 0.18919561 0.23636977 0.68247576 0.4653147\n",
      "  0.79273122 0.25023008 0.45886958 0.68959706 0.63218339 0.3464362\n",
      "  0.50512847 0.2232894  0.03715695 0.68127206 0.43625828 0.34335695\n",
      "  0.1442067  0.27766791 0.4939052  0.44529601 0.31963926 0.5352686\n",
      "  0.2638365  0.19325784 0.67871085 0.71815747]\n",
      " [0.21490896 0.92513564 0.60096899 0.02812238 0.44425396 0.44332468\n",
      "  0.49359327 0.54478278 0.38394074 0.39467798 0.51756518 0.46471308\n",
      "  0.79517722 0.59499417 0.22264156 0.23337959 0.63182577 0.44443068\n",
      "  0.25647124 0.63838178 0.50287013 0.41951053 0.53893831 0.13788232\n",
      "  0.36788776 0.78670257 0.55173162 0.68769849 0.81388996 0.15993438\n",
      "  0.43625171 0.09149869 0.4650312  0.44471199 0.66123339 0.68703264\n",
      "  0.59530501 0.56906768 0.22650629 0.22565433 0.54843611 0.2909555\n",
      "  0.35649098 0.18331708 0.49257016 0.46698403 0.49914747 0.87281046\n",
      "  0.27455324 0.46769575 0.81028152 0.71087174 0.93389724 0.33046295\n",
      "  0.56173247 0.47819873 0.31788876 0.30920541 0.         0.17309421\n",
      "  0.3949976  0.09495934 0.27634237 0.17857673 0.05015622 0.8129967\n",
      "  0.55074046 0.31774169 0.40856438 0.28011868 0.71170085 0.9110823\n",
      "  0.45570543 0.63778115 0.40651895 0.29470621 0.66850097 0.46458695\n",
      "  0.817756   0.50304099 0.16254501 0.70937521 0.7517274  0.50428162\n",
      "  0.70168532 0.14113895 0.34009488 0.37965207 0.4823384  0.16548531\n",
      "  0.3915037  0.19508701 0.22866172 0.13722237 0.59770577 0.42917851\n",
      "  0.45803538 0.31126176 0.8183511  0.44319891]\n",
      " [0.31979606 1.07932992 0.76179478 0.16656164 0.45395001 0.4307867\n",
      "  0.6299346  0.57801685 0.51710577 0.54058563 0.65334221 0.61149129\n",
      "  0.94485228 0.76675565 0.39436171 0.24570039 0.80194859 0.42475888\n",
      "  0.37734098 0.81012755 0.6710121  0.58754021 0.58323301 0.2527376\n",
      "  0.34318561 0.95599541 0.68627637 0.84858862 0.95922996 0.09944114\n",
      "  0.47467619 0.16210437 0.6083031  0.61717182 0.79337518 0.83945636\n",
      "  0.74309716 0.74016622 0.39954025 0.39233158 0.7214362  0.41906844\n",
      "  0.52186456 0.29719003 0.47146608 0.5088203  0.60602179 1.02763957\n",
      "  0.43604408 0.61124354 0.98060991 0.88393815 1.08822608 0.50352072\n",
      "  0.73441801 0.60404796 0.28086597 0.42753452 0.17309421 0.\n",
      "  0.46996641 0.24305777 0.31457893 0.04579491 0.16344378 0.98476071\n",
      "  0.63513489 0.47398308 0.5652894  0.3952301  0.87737929 1.07171907\n",
      "  0.60781987 0.7963006  0.56174123 0.30440113 0.83187059 0.63443242\n",
      "  0.98479133 0.65303806 0.22894192 0.87706932 0.92474816 0.50334203\n",
      "  0.86812806 0.20574257 0.44955187 0.37368304 0.65499192 0.10254055\n",
      "  0.53842656 0.18582445 0.32032721 0.1323932  0.73986879 0.58110131\n",
      "  0.48585581 0.34548633 0.9909643  0.4841051 ]\n",
      " [0.18246562 0.70912815 0.46491212 0.3716676  0.17223727 0.22361628\n",
      "  0.76755461 0.18086098 0.18779075 0.24685202 0.27287806 0.71588938\n",
      "  0.56746299 0.57221517 0.43565907 0.62823249 0.57479096 0.83913571\n",
      "  0.16719489 0.60642229 0.45401416 0.39995446 0.16007256 0.51615534\n",
      "  0.24149075 0.8710091  0.82186483 0.53615993 0.56552421 0.52659517\n",
      "  0.10176473 0.32677424 0.27050119 0.54667303 0.37749999 0.4853124\n",
      "  0.38579836 0.66479005 0.39452082 0.32140366 0.60183044 0.16826201\n",
      "  0.5595722  0.21513228 0.26158526 0.10895271 0.82570357 0.66392109\n",
      "  0.52611064 0.72754933 0.87957961 0.72730965 0.71798809 0.45281807\n",
      "  0.57010306 0.2066737  0.27124105 0.13676997 0.3949976  0.46996641\n",
      "  0.         0.45906502 0.66868236 0.50761875 0.44501007 0.75505304\n",
      "  0.16527318 0.27462114 0.31010776 0.62679591 0.83750613 0.73287269\n",
      "  0.6915231  0.81625198 0.30035452 0.19550284 0.81594688 0.60047731\n",
      "  0.92012623 0.32816618 0.55552324 0.81919174 0.74239467 0.22181553\n",
      "  0.59170886 0.27170751 0.10421901 0.77464448 0.56781994 0.37130261\n",
      "  0.25040956 0.29012224 0.60435398 0.52150975 0.36198354 0.67118485\n",
      "  0.13489395 0.14169971 0.78109521 0.82818584]\n",
      " [0.27691932 0.91622209 0.58675488 0.12180759 0.52880392 0.53244199\n",
      "  0.39991063 0.62060666 0.41071198 0.40770864 0.53627587 0.37381275\n",
      "  0.79332998 0.55426241 0.16584071 0.19511314 0.59681872 0.39840594\n",
      "  0.30322639 0.59717802 0.4758828  0.39522445 0.61105806 0.05782549\n",
      "  0.45999469 0.71544148 0.4578791  0.67186518 0.8167429  0.19054544\n",
      "  0.51300127 0.18479516 0.47792391 0.38558861 0.67965333 0.6834111\n",
      "  0.59918788 0.50299765 0.18769981 0.21786356 0.49299938 0.32864722\n",
      "  0.27986177 0.24431103 0.5824511  0.5417313  0.40506514 0.86357471\n",
      "  0.19316981 0.37568657 0.74125779 0.65551288 0.92472726 0.28036967\n",
      "  0.51591431 0.50712594 0.411862   0.3531432  0.09495934 0.24305777\n",
      "  0.45906502 0.         0.21551072 0.23252149 0.0797202  0.77013005\n",
      "  0.60480109 0.32175171 0.40665715 0.186612   0.63475172 0.89308425\n",
      "  0.36721258 0.55373195 0.40693414 0.38340905 0.58884546 0.39569428\n",
      "  0.74259422 0.50677681 0.11135923 0.63535973 0.70037327 0.59014859\n",
      "  0.67526558 0.22897012 0.38806138 0.33113145 0.42406679 0.25774977\n",
      "  0.40350597 0.28943007 0.14582445 0.15101479 0.60778317 0.34049634\n",
      "  0.53747094 0.39379975 0.77077769 0.36912119]\n",
      " [0.48646388 1.10297598 0.77362991 0.30252858 0.71663706 0.7094495\n",
      "  0.3830255  0.82099223 0.62489347 0.61763366 0.74699274 0.39107146\n",
      "  0.98823816 0.70819922 0.33875865 0.0714515  0.75777358 0.18690864\n",
      "  0.51781053 0.7484378  0.65253138 0.57888604 0.81520416 0.15820167\n",
      "  0.62764775 0.7926365  0.43020491 0.85505831 1.0153042  0.21555892\n",
      "  0.71243254 0.36038894 0.68674414 0.51795126 0.88913984 0.87825091\n",
      "  0.80108463 0.60821062 0.37640027 0.42468525 0.62373344 0.54415238\n",
      "  0.38412987 0.45390205 0.75640793 0.743318   0.31588212 1.05061616\n",
      "  0.30629324 0.38275161 0.82419329 0.77725421 1.11111806 0.44160996\n",
      "  0.66336063 0.72124192 0.57033422 0.56833985 0.27634237 0.31457893\n",
      "  0.66868236 0.21551072 0.         0.27509122 0.22825617 0.91247555\n",
      "  0.81884866 0.5295886  0.60865038 0.16242926 0.69680733 1.06987528\n",
      "  0.4028292  0.59148855 0.61038768 0.56393883 0.64343835 0.50379414\n",
      "  0.80546475 0.71008722 0.11380572 0.70775664 0.82874484 0.7748268\n",
      "  0.84568836 0.41496516 0.60283977 0.11990736 0.55442451 0.38796254\n",
      "  0.6130661  0.45128763 0.0969104  0.18552462 0.81350256 0.37989647\n",
      "  0.73350874 0.58603191 0.90429124 0.17285294]\n",
      " [0.35007587 1.09892859 0.77756905 0.17924489 0.49835241 0.47618545\n",
      "  0.6058703  0.62118157 0.54308512 0.56258695 0.67919877 0.59136\n",
      "  0.96635748 0.77261065 0.39220456 0.20484218 0.81022848 0.37911572\n",
      "  0.40517709 0.81597868 0.68142456 0.59803616 0.62539135 0.23187418\n",
      "  0.38871262 0.94792234 0.66121203 0.86440733 0.98249431 0.06047795\n",
      "  0.51687811 0.18970792 0.63153088 0.61505538 0.8207514  0.85962493\n",
      "  0.76503864 0.73500234 0.40257428 0.40370074 0.72108482 0.44562165\n",
      "  0.51215192 0.32502172 0.51715985 0.55087873 0.57412836 1.04688761\n",
      "  0.424809   0.5898671  0.97376283 0.8839     1.10776639 0.504353\n",
      "  0.73809912 0.63252661 0.32649823 0.4566026  0.17857673 0.04579491\n",
      "  0.50761875 0.23252149 0.27509122 0.         0.15596496 0.99047149\n",
      "  0.67233235 0.49147744 0.58289168 0.36834142 0.86609362 1.0878366\n",
      "  0.58997517 0.78056579 0.58004062 0.34767736 0.81900944 0.62801806\n",
      "  0.97438645 0.67387272 0.19875634 0.86753412 0.92659443 0.54847361\n",
      "  0.88007794 0.23885182 0.4808289  0.32880132 0.65330089 0.14595903\n",
      "  0.56004558 0.22818602 0.29024618 0.10040909 0.76389187 0.56339619\n",
      "  0.52908593 0.38697275 0.9946283  0.44241147]\n",
      " [0.26505671 0.96341425 0.63680872 0.07448344 0.4893542  0.48533258\n",
      "  0.47501842 0.5928931  0.43047976 0.43809259 0.5628335  0.45182667\n",
      "  0.83554488 0.61972809 0.23636854 0.18326469 0.65933402 0.39429582\n",
      "  0.30566169 0.66299987 0.5334248  0.45074263 0.58786053 0.1027892\n",
      "  0.4069186  0.79360601 0.5325159  0.72316982 0.85567611 0.12304814\n",
      "  0.48432781 0.1331714  0.50872592 0.45910388 0.70674432 0.72665744\n",
      "  0.63697221 0.57941372 0.24921642 0.26083013 0.56531683 0.3390373\n",
      "  0.35868954 0.23339671 0.53370184 0.51548338 0.46852816 0.91091566\n",
      "  0.27260386 0.45289488 0.81884841 0.72813094 0.97210009 0.34918359\n",
      "  0.58384808 0.52546224 0.35361937 0.3582665  0.05015622 0.16344378\n",
      "  0.44501007 0.0797202  0.22825617 0.15596496 0.         0.83712158\n",
      "  0.60086302 0.35808285 0.44775628 0.25002328 0.71402566 0.94612411\n",
      "  0.44628407 0.63341238 0.44642292 0.33784355 0.66843158 0.47278581\n",
      "  0.82161682 0.54438257 0.11494475 0.71410322 0.77131339 0.54845859\n",
      "  0.73307118 0.18682708 0.38967911 0.32965001 0.49737095 0.18551492\n",
      "  0.43463233 0.23105033 0.18934378 0.09253268 0.6410729  0.41954991\n",
      "  0.50525826 0.35785718 0.84007055 0.39727365]\n",
      " [0.73555872 0.34298065 0.29393777 0.81843583 0.92725135 0.9763738\n",
      "  0.63792814 0.89610493 0.57177993 0.51617232 0.49897345 0.5862143\n",
      "  0.35293092 0.21802451 0.60430751 0.93632663 0.18851754 1.08219435\n",
      "  0.67924223 0.17464104 0.32296647 0.40326573 0.86074735 0.79977018\n",
      "  0.97050487 0.29411792 0.64429173 0.24668636 0.39694469 0.95864629\n",
      "  0.85515355 0.84065331 0.48505492 0.3948867  0.48983524 0.33192359\n",
      "  0.39733469 0.32192948 0.58810589 0.59522471 0.28900289 0.64070946\n",
      "  0.52888972 0.73621129 1.01659382 0.85166347 0.77135259 0.31519519\n",
      "  0.60766481 0.60359786 0.26961291 0.15674874 0.34559779 0.4897627\n",
      "  0.25430143 0.56044551 0.97087143 0.6576303  0.8129967  0.98476071\n",
      "  0.75505304 0.77013005 0.91247555 0.99047149 0.83712158 0.\n",
      "  0.72429943 0.53752868 0.46051793 0.75570022 0.36398415 0.25871141\n",
      "  0.55741809 0.46114442 0.46863966 0.89263981 0.40156101 0.41331\n",
      "  0.34669907 0.42823853 0.86124825 0.33009223 0.10195243 0.97426482\n",
      "  0.17186569 0.82773695 0.66917073 1.02301363 0.35805269 0.94082996\n",
      "  0.51422806 0.90407057 0.81696395 0.92094631 0.43481006 0.56850766\n",
      "  0.88690393 0.85083675 0.04479107 0.9582785 ]\n",
      " [0.3358877  0.60652897 0.4325438  0.52937079 0.27362177 0.33179003\n",
      "  0.86777479 0.18414791 0.23676917 0.2849815  0.22882308 0.81106974\n",
      "  0.46961761 0.57708022 0.54964032 0.78366836 0.56362574 0.99463936\n",
      "  0.30163815 0.60253169 0.4680508  0.44085432 0.14744201 0.66261464\n",
      "  0.38035432 0.89283139 0.91806937 0.48344685 0.45650247 0.68920659\n",
      "  0.20281979 0.48900615 0.26505515 0.60641995 0.27003212 0.41235192\n",
      "  0.32783664 0.70761649 0.50476874 0.43220744 0.6350829  0.28184708\n",
      "  0.65248177 0.36750317 0.35032982 0.17729927 0.94289289 0.56788714\n",
      "  0.63759587 0.82501869 0.89472222 0.73163581 0.61490861 0.53597231\n",
      "  0.58891963 0.17896031 0.42261913 0.25356856 0.55074046 0.63513489\n",
      "  0.16527318 0.60480109 0.81884866 0.67233235 0.60086302 0.72429943\n",
      "  0.         0.35254893 0.34403044 0.75865128 0.87810918 0.64723535\n",
      "  0.78306428 0.8786098  0.33443943 0.35376304 0.86641669 0.66556205\n",
      "  0.94645064 0.31040997 0.70742986 0.85465842 0.734283   0.29225848\n",
      "  0.55282086 0.43502049 0.21732583 0.92900008 0.61830549 0.53653865\n",
      "  0.29046998 0.45501206 0.74706661 0.68158235 0.29257696 0.76632819\n",
      "  0.22002975 0.3015075  0.75756415 0.97147399]\n",
      " [0.19842283 0.60774523 0.288177   0.31235506 0.43042189 0.46843828\n",
      "  0.51531218 0.45302748 0.11669763 0.08898238 0.21814607 0.45857256\n",
      "  0.47764167 0.32885797 0.20985303 0.51685901 0.34901618 0.71609532\n",
      "  0.14561643 0.36933934 0.21471328 0.13967026 0.42699955 0.37445187\n",
      "  0.44402266 0.60440565 0.56559368 0.37482534 0.49776693 0.47753897\n",
      "  0.37203649 0.31631607 0.1571557  0.27206788 0.3595514  0.36929096\n",
      "  0.27915208 0.39232317 0.16443162 0.10493509 0.33443516 0.11490254\n",
      "  0.29994956 0.1992817  0.51554164 0.38355345 0.59578707 0.55556511\n",
      "  0.2914487  0.47247063 0.61642056 0.47552994 0.61654703 0.18451142\n",
      "  0.31396086 0.20370844 0.43642596 0.14201519 0.31774169 0.47398308\n",
      "  0.27462114 0.32175171 0.5295886  0.49147744 0.35808285 0.53752868\n",
      "  0.35254893 0.         0.09144398 0.43097465 0.56440103 0.59776313\n",
      "  0.43090455 0.54225481 0.08879944 0.36109033 0.54145088 0.3262901\n",
      "  0.65099167 0.1864711  0.43301515 0.54758999 0.50109446 0.48844414\n",
      "  0.40030381 0.2938136  0.17045953 0.64870885 0.29433329 0.41220443\n",
      "  0.08403124 0.36752554 0.4414397  0.45061106 0.28604494 0.4137998\n",
      "  0.40532116 0.326041   0.5537756  0.65733365]\n",
      " [0.27888437 0.51659814 0.19775536 0.40372841 0.47832859 0.52288542\n",
      "  0.5453758  0.47666051 0.12304074 0.06404914 0.15680589 0.48515713\n",
      "  0.38799679 0.26353707 0.27583807 0.60106136 0.27338368 0.79555747\n",
      "  0.22008657 0.30015346 0.14493308 0.09695975 0.44603436 0.45685542\n",
      "  0.51059395 0.56279752 0.59039481 0.28405645 0.41011526 0.56812822\n",
      "  0.41176424 0.40688377 0.09386549 0.26338946 0.28681513 0.27890123\n",
      "  0.19288022 0.36538845 0.23363076 0.18913305 0.29625172 0.18032912\n",
      "  0.33124745 0.28493408 0.56662717 0.41619521 0.64052211 0.46433308\n",
      "  0.3452397  0.50099677 0.57003433 0.41758094 0.52537517 0.21312635\n",
      "  0.26014228 0.17008873 0.51068337 0.19773146 0.40856438 0.5652894\n",
      "  0.31010776 0.40665715 0.60865038 0.58289168 0.44775628 0.46051793\n",
      "  0.34403044 0.09144398 0.         0.4967392  0.53747172 0.50661666\n",
      "  0.45454702 0.53476024 0.00999813 0.43213212 0.52303656 0.32335599\n",
      "  0.61347558 0.10148174 0.51713534 0.51611619 0.43554015 0.53159154\n",
      "  0.31405098 0.38154568 0.21351763 0.72845184 0.27431099 0.50140196\n",
      "  0.05991469 0.45234978 0.51712818 0.5401698  0.20578739 0.44191147\n",
      "  0.444991   0.39091121 0.48098631 0.72600813]\n",
      " [0.44936204 0.96590645 0.64078718 0.30772664 0.71223438 0.71828684\n",
      "  0.23903148 0.79673174 0.54018645 0.5194779  0.64695576 0.23478645\n",
      "  0.85964657 0.55736797 0.2220194  0.20856706 0.60916685 0.32744999\n",
      "  0.46199415 0.59598838 0.51485076 0.44888046 0.78386552 0.1474289\n",
      "  0.64660551 0.63081091 0.29318823 0.71794798 0.89045884 0.31036731\n",
      "  0.69088763 0.37108108 0.58386079 0.36367949 0.78340541 0.75103139\n",
      "  0.68369053 0.44686405 0.26675227 0.33189897 0.46675755 0.47682009\n",
      "  0.22722672 0.41788078 0.76853913 0.71765498 0.21915856 0.91422473\n",
      "  0.16051142 0.22922429 0.6620652  0.6170078  0.97369837 0.30398173\n",
      "  0.51082153 0.6334242  0.59797235 0.50582252 0.28011868 0.3952301\n",
      "  0.62679591 0.186612   0.16242926 0.36834142 0.25002328 0.75570022\n",
      "  0.75865128 0.43097465 0.4967392  0.         0.53615066 0.9261863\n",
      "  0.24283997 0.43415281 0.50054377 0.56935667 0.48348525 0.3440191\n",
      "  0.645221   0.59682178 0.17030777 0.54605935 0.66933631 0.7741923\n",
      "  0.70057488 0.41519764 0.54276293 0.26732702 0.39862101 0.43549976\n",
      "  0.51424314 0.47520492 0.08241115 0.2680577  0.70173684 0.2188579\n",
      "  0.71725504 0.57679949 0.74548231 0.2296959 ]\n",
      " [0.73691172 0.69509743 0.49528758 0.72887632 0.99392337 1.02850537\n",
      "  0.33758285 1.01176736 0.65772782 0.60059488 0.66053906 0.30875573\n",
      "  0.66358118 0.32367276 0.49313504 0.74347317 0.36431499 0.8329015\n",
      "  0.70034933 0.32102814 0.41304895 0.44136179 0.98245918 0.63842585\n",
      "  0.99147689 0.10351123 0.32040475 0.51233463 0.70809103 0.81759012\n",
      "  0.93629199 0.77494032 0.61370176 0.29565538 0.72481613 0.59467448\n",
      "  0.60448362 0.17287398 0.5062917  0.55645539 0.24310973 0.67791034\n",
      "  0.35571358 0.72176572 1.07716917 0.9462654  0.46483162 0.65790356\n",
      "  0.44160051 0.32059475 0.13948356 0.21762824 0.69923256 0.40817395\n",
      "  0.29565564 0.69949758 0.96881187 0.70631781 0.71170085 0.87737929\n",
      "  0.83750613 0.63475172 0.69680733 0.86609362 0.71402566 0.36398415\n",
      "  0.87810918 0.56440103 0.53747172 0.53615066 0.         0.61756043\n",
      "  0.29398897 0.11853851 0.54741854 0.90464421 0.05531784 0.25370628\n",
      "  0.10942366 0.57577344 0.68863972 0.03423253 0.26455934 1.05270135\n",
      "  0.44292261 0.78716202 0.73403753 0.7856449  0.27006868 0.87169122\n",
      "  0.5957862  0.86744585 0.61518468 0.77447845 0.64273108 0.31729578\n",
      "  0.96962928 0.88009875 0.32795572 0.68517103]\n",
      " [0.77615215 0.0900201  0.31026754 0.90866723 0.89779345 0.9535593\n",
      "  0.85555095 0.83121221 0.57978171 0.53952785 0.4608972  0.79798978\n",
      "  0.18060801 0.37488092 0.73560923 1.079034   0.32000771 1.25121147\n",
      "  0.71460732 0.34356064 0.41873731 0.49786957 0.7944403  0.93471852\n",
      "  0.97115258 0.55277974 0.87201265 0.22343581 0.20794533 1.06867337\n",
      "  0.82177197 0.91336696 0.48106576 0.56854438 0.37789537 0.24809728\n",
      "  0.34939226 0.5401876  0.70581974 0.68585179 0.4822034  0.67128972\n",
      "  0.70394165 0.78757609 0.98419826 0.80809525 0.98519792 0.08921979\n",
      "  0.76708039 0.81622471 0.52801407 0.40133599 0.09022259 0.62827283\n",
      "  0.42383939 0.52662459 0.98800407 0.67667205 0.9110823  1.07171907\n",
      "  0.73287269 0.89308425 1.06987528 1.0878366  0.94612411 0.25871141\n",
      "  0.64723535 0.59776313 0.50661666 0.9261863  0.61756043 0.\n",
      "  0.76630426 0.70483607 0.51067054 0.90694744 0.64970796 0.60690718\n",
      "  0.6052635  0.42721595 0.99744629 0.58334031 0.35329281 0.93167889\n",
      "  0.22572606 0.8853     0.67397157 1.18730926 0.53938026 1.00639928\n",
      "  0.54036723 0.95118015 0.9730841  1.03704574 0.37091949 0.77132762\n",
      "  0.8489834  0.85704659 0.30133615 1.14619835]\n",
      " [0.54511904 0.82264276 0.52703834 0.47798664 0.81981903 0.8415324\n",
      "  0.0949002  0.87227846 0.54633702 0.50296175 0.609559   0.03302631\n",
      "  0.74210473 0.39365654 0.26726607 0.45110428 0.44940683 0.54481718\n",
      "  0.52925162 0.4227532  0.40163082 0.37010788 0.85032004 0.35819451\n",
      "  0.78642614 0.39115537 0.13594802 0.58630419 0.78042617 0.53698702\n",
      "  0.77796202 0.53378692 0.54807169 0.21462111 0.72218303 0.643208\n",
      "  0.60482726 0.23548971 0.30093429 0.37145688 0.28410225 0.52351794\n",
      "  0.132134   0.5209039  0.89254088 0.79696839 0.21892151 0.77457656\n",
      "  0.18549598 0.05121219 0.42386181 0.40577399 0.82926914 0.24719815\n",
      "  0.34473765 0.62152047 0.75072067 0.55522339 0.45570543 0.60781987\n",
      "  0.6915231  0.36721258 0.4028292  0.58997517 0.44628407 0.55741809\n",
      "  0.78306428 0.43090455 0.45454702 0.24283997 0.29398897 0.76630426\n",
      "  0.         0.19265566 0.46235805 0.70073394 0.24076417 0.1624963\n",
      "  0.40269837 0.53665421 0.40202743 0.3061387  0.46125944 0.88231827\n",
      "  0.54628651 0.56037946 0.59037634 0.494109   0.23281803 0.62112813\n",
      "  0.49724347 0.6357893  0.32328677 0.49349159 0.63402194 0.02673628\n",
      "  0.80926153 0.69029139 0.5383866  0.4061141 ]\n",
      " [0.69423936 0.77635449 0.53631826 0.65784538 0.96213299 0.99115414\n",
      "  0.22140077 0.99528202 0.64742572 0.59424186 0.67455625 0.20041992\n",
      "  0.72702968 0.37001602 0.4298315  0.642719   0.41992165 0.71927134\n",
      "  0.66608919 0.38054079 0.43249583 0.43840972 0.96881634 0.54935783\n",
      "  0.94540799 0.22203724 0.20187288 0.57028778 0.77010405 0.7286739\n",
      "  0.91092034 0.70938262 0.6205974  0.27279642 0.75913083 0.64543294\n",
      "  0.63705342 0.18788297 0.45221144 0.51269551 0.26606287 0.6502927\n",
      "  0.28530618 0.67479348 1.04124281 0.92491385 0.34655272 0.73485124\n",
      "  0.36323172 0.20960532 0.25800586 0.30591071 0.78139176 0.36674358\n",
      "  0.33014851 0.70371484 0.91629101 0.68069094 0.63778115 0.7963006\n",
      "  0.81625198 0.55373195 0.59148855 0.78056579 0.63341238 0.46114442\n",
      "  0.8786098  0.54225481 0.53476024 0.43415281 0.11853851 0.70483607\n",
      "  0.19265566 0.         0.54424813 0.85841949 0.06488485 0.21598176\n",
      "  0.21898881 0.59197246 0.59459926 0.14382883 0.35922886 1.02305687\n",
      "  0.50959398 0.72889478 0.71208247 0.67447376 0.26157385 0.80180977\n",
      "  0.58891167 0.80746124 0.51540571 0.68519611 0.67283852 0.21850945\n",
      "  0.94370253 0.84014357 0.42994037 0.56909649]\n",
      " [0.27230865 0.51900155 0.20275354 0.40102006 0.46883029 0.51364907\n",
      "  0.55282541 0.46666848 0.11313992 0.05408681 0.15044594 0.49279926\n",
      "  0.38912288 0.27291733 0.2791534  0.6016343  0.2818803  0.79728688\n",
      "  0.21298144 0.30921746 0.15432241 0.10673466 0.4360367  0.45778309\n",
      "  0.50214114 0.57276387 0.59825831 0.2886393  0.4102529  0.5662715\n",
      "  0.402039   0.40270049 0.08700124 0.27263358 0.28287127 0.28052771\n",
      "  0.19225445 0.37529195 0.2363222  0.18911322 0.30624646 0.17263694\n",
      "  0.33826486 0.27926516 0.55721306 0.40631073 0.64681984 0.46687172\n",
      "  0.35022251 0.50851598 0.57993165 0.42718917 0.52781417 0.21983959\n",
      "  0.26999727 0.16117427 0.50295585 0.18919561 0.40651895 0.56174123\n",
      "  0.30035452 0.40693414 0.61038768 0.58004062 0.44642292 0.46863966\n",
      "  0.33443943 0.08879944 0.00999813 0.50054377 0.54741854 0.51067054\n",
      "  0.46235805 0.54424813 0.         0.42414592 0.5328331  0.33246923\n",
      "  0.62346771 0.09998969 0.51769052 0.52610132 0.44473602 0.52190527\n",
      "  0.32061928 0.37623844 0.20422985 0.73010159 0.28398343 0.49649357\n",
      "  0.05003689 0.44625823 0.51943445 0.53891236 0.20328204 0.44938799\n",
      "  0.43524557 0.3824453  0.48956702 0.72956942]\n",
      " [0.16832326 0.89186557 0.61738441 0.26667186 0.15389164 0.14903719\n",
      "  0.75893587 0.2736195  0.32984186 0.37942499 0.44840837 0.71806041\n",
      "  0.75036713 0.68932598 0.43402108 0.50912048 0.70505936 0.71253807\n",
      "  0.21555594 0.72889098 0.57293933 0.50075916 0.27994829 0.43229904\n",
      "  0.08707277 0.95711971 0.8167903  0.69722404 0.75275883 0.38190538\n",
      "  0.17180075 0.2047205  0.42756573 0.60993308 0.56777772 0.65937913\n",
      "  0.55774333 0.73835373 0.40644728 0.34841158 0.68991574 0.25200902\n",
      "  0.57725841 0.18377508 0.19919999 0.20612335 0.78573506 0.84432793\n",
      "  0.51714918 0.72548983 0.97219221 0.83636088 0.90082995 0.49693786\n",
      "  0.67474252 0.38513733 0.08106149 0.23636977 0.29470621 0.30440113\n",
      "  0.19550284 0.38340905 0.56393883 0.34767736 0.33784355 0.89263981\n",
      "  0.35376304 0.36109033 0.43213212 0.56935667 0.90464421 0.90694744\n",
      "  0.70073394 0.85841949 0.42414592 0.         0.87263162 0.65251708\n",
      "  0.99979678 0.48413117 0.45224332 0.89281865 0.86190413 0.21089128\n",
      "  0.74148567 0.1545155  0.23320447 0.65337863 0.63994246 0.20193664\n",
      "  0.38053142 0.11998634 0.52333916 0.39018653 0.54038897 0.67632298\n",
      "  0.18146702 0.05388013 0.91210736 0.73481159]\n",
      " [0.70597021 0.72391449 0.501797   0.68677702 0.96812235 1.00039649\n",
      "  0.28227737 0.99266492 0.64045285 0.58484618 0.65451895 0.25420312\n",
      "  0.68251653 0.33148544 0.45307989 0.69138743 0.37756275 0.77780882\n",
      "  0.67280116 0.33599913 0.40812216 0.42609882 0.96456989 0.58981547\n",
      "  0.95967556 0.15837201 0.26627436 0.52780127 0.7263682  0.76929638\n",
      "  0.91315323 0.73499925 0.60412137 0.26951253 0.72888935 0.60668181\n",
      "  0.60726362 0.160072   0.46982539 0.52436994 0.2371731  0.65310957\n",
      "  0.31206992 0.68901978 1.04973379 0.92489945 0.40999107 0.68422196\n",
      "  0.39589324 0.26565463 0.19398596 0.24861467 0.72856907 0.37596414\n",
      "  0.29680175 0.68901547 0.93434417 0.68247576 0.66850097 0.83187059\n",
      "  0.81594688 0.58884546 0.64343835 0.81900944 0.66843158 0.40156101\n",
      "  0.86641669 0.54145088 0.52303656 0.48348525 0.05531784 0.64970796\n",
      "  0.24076417 0.06488485 0.5328331  0.87263162 0.         0.22036766\n",
      "  0.16205851 0.57041788 0.63851912 0.07897583 0.30008357 1.02791429\n",
      "  0.46279708 0.75006995 0.71188162 0.73096578 0.24967602 0.83028468\n",
      "  0.57977748 0.82983968 0.56324347 0.72601025 0.64444348 0.26479768\n",
      "  0.94631187 0.85063456 0.36858931 0.62985404]\n",
      " [0.4856233  0.66088316 0.36677759 0.47968702 0.74890722 0.78026291\n",
      "  0.25627504 0.77931163 0.43236942 0.38059478 0.47061696 0.19533123\n",
      "  0.58003543 0.2325222  0.24269181 0.5353463  0.28812791 0.66923074\n",
      "  0.45310565 0.26440917 0.24447805 0.22935965 0.75287442 0.41044634\n",
      "  0.73952534 0.32212758 0.28690698 0.42387266 0.61885996 0.58469082\n",
      "  0.69586298 0.52292204 0.41292791 0.06069759 0.57130527 0.48266342\n",
      "  0.45122482 0.10806283 0.25273921 0.30413407 0.1270423  0.43523459\n",
      "  0.12170808 0.46908034 0.82977061 0.70923942 0.38028751 0.61243119\n",
      "  0.20861907 0.21364161 0.34618643 0.27346726 0.6676405  0.15564028\n",
      "  0.18344037 0.49340644 0.71540606 0.4653147  0.46458695 0.63443242\n",
      "  0.60047731 0.39569428 0.50379414 0.62801806 0.47278581 0.41331\n",
      "  0.66556205 0.3262901  0.32335599 0.3440191  0.25370628 0.60690718\n",
      "  0.1624963  0.21598176 0.33246923 0.65251708 0.22036766 0.\n",
      "  0.35540933 0.39174608 0.46765943 0.24659417 0.32532372 0.80922075\n",
      "  0.38484991 0.53356596 0.49627302 0.61107378 0.07038012 0.62100147\n",
      "  0.37513746 0.61394832 0.41065252 0.54295878 0.48307539 0.16463082\n",
      "  0.72880159 0.63030332 0.40152404 0.54661981]\n",
      " [0.83150928 0.68935063 0.53982349 0.83409728 1.08133526 1.11869106\n",
      "  0.44036072 1.09013607 0.73601482 0.67747145 0.7223749  0.4160097\n",
      "  0.68031429 0.37334114 0.5974512  0.8527671  0.40205423 0.93811757\n",
      "  0.79128358 0.35828421 0.47852383 0.52028991 1.05925413 0.74744095\n",
      "  1.08614493 0.05730786 0.41664741 0.53974952 0.72538884 0.92643296\n",
      "  1.02049069 0.87832748 0.68162529 0.39035357 0.76896853 0.62662109\n",
      "  0.65286743 0.26144447 0.60761172 0.65330697 0.31830041 0.76571527\n",
      "  0.46294006 0.81838299 1.1663758  1.0280546  0.5630318  0.65866386\n",
      "  0.54961859 0.42690762 0.07743501 0.23264067 0.69217986 0.50649341\n",
      "  0.35758386 0.76765013 1.06647951 0.79273122 0.817756   0.98479133\n",
      "  0.92012623 0.74259422 0.80546475 0.97438645 0.82161682 0.34669907\n",
      "  0.94645064 0.65099167 0.61347558 0.645221   0.10942366 0.6052635\n",
      "  0.40269837 0.21898881 0.62346771 0.99979678 0.16205851 0.35540933\n",
      "  0.         0.63792937 0.79799979 0.10881529 0.26150915 1.13860262\n",
      "  0.46393305 0.8879355  0.81811191 0.89239664 0.36001877 0.9761443\n",
      "  0.67307859 0.96851905 0.72450339 0.88339872 0.69224239 0.42638274\n",
      "  1.05391846 0.97241243 0.30409699 0.78791963]\n",
      " [0.34915984 0.42656519 0.13681579 0.49577116 0.50029041 0.55118368\n",
      "  0.62991218 0.47084604 0.15433554 0.11328128 0.08484281 0.56848923\n",
      "  0.2925401  0.26676766 0.37676578 0.70157182 0.25530117 0.89699586\n",
      "  0.2875322  0.29270113 0.16281646 0.16655879 0.43649069 0.55777234\n",
      "  0.55448973 0.58353712 0.6711346  0.21310987 0.31131742 0.66297524\n",
      "  0.42728863 0.49194928 0.05795506 0.33122918 0.18917713 0.18655457\n",
      "  0.092688   0.41038664 0.33501199 0.28891371 0.33389785 0.24413066\n",
      "  0.42032741 0.36208414 0.58959127 0.42347234 0.73217375 0.37528702\n",
      "  0.44295493 0.58523083 0.58449723 0.42130234 0.43549688 0.30537834\n",
      "  0.28169016 0.13489358 0.56496558 0.25023008 0.50304099 0.65303806\n",
      "  0.32816618 0.50677681 0.71008722 0.67387272 0.54438257 0.42823853\n",
      "  0.31040997 0.1864711  0.10148174 0.59682178 0.57577344 0.42721595\n",
      "  0.53665421 0.59197246 0.09998969 0.48413117 0.57041788 0.39174608\n",
      "  0.63792937 0.         0.61762795 0.55009971 0.42619611 0.54608907\n",
      "  0.26359284 0.45989344 0.25158544 0.82986339 0.33199845 0.58152634\n",
      "  0.11487785 0.52405726 0.61858412 0.63691326 0.10491528 0.52688087\n",
      "  0.45879239 0.43671331 0.45670163 0.82636509]\n",
      " [0.37361812 1.02367063 0.69365426 0.18890548 0.60419864 0.59900341\n",
      "  0.40904907 0.70726538 0.52095076 0.51905749 0.64753233 0.39945966\n",
      "  0.9027711  0.64889727 0.26257772 0.08394412 0.69452776 0.28915413\n",
      "  0.40749585 0.69100714 0.57887287 0.50025661 0.70140485 0.06278427\n",
      "  0.51893748 0.77735003 0.46349452 0.77783259 0.92699271 0.14011206\n",
      "  0.5987148  0.24785634 0.58928263 0.46883086 0.79098154 0.79271228\n",
      "  0.70988802 0.57554222 0.29238448 0.32882456 0.57709723 0.43611426\n",
      "  0.3462756  0.34117782 0.64678955 0.62952836 0.37707989 0.97104039\n",
      "  0.25921121 0.39615988 0.8060602  0.73718786 1.03208276 0.37481485\n",
      "  0.6075404  0.61729804 0.4634744  0.45886958 0.16254501 0.22894192\n",
      "  0.55552324 0.11135923 0.11380572 0.19875634 0.11494475 0.86124825\n",
      "  0.70742986 0.43301515 0.51713534 0.17030777 0.68863972 0.99744629\n",
      "  0.40202743 0.59459926 0.51769052 0.45224332 0.63851912 0.46765943\n",
      "  0.79799979 0.61762795 0.         0.69418876 0.78524784 0.6630381\n",
      "  0.7768887  0.30176096 0.49254188 0.22241286 0.50704341 0.28568055\n",
      "  0.51486373 0.34234386 0.09165052 0.09837101 0.71900315 0.37610363\n",
      "  0.62005136 0.47275949 0.85823734 0.28257245]\n",
      " [0.72466024 0.66089919 0.46545377 0.72547485 0.97788699 1.01388142\n",
      "  0.35741864 0.99185931 0.63745294 0.57968979 0.63494142 0.32383667\n",
      "  0.63044756 0.29409734 0.48872801 0.751924   0.33289682 0.84897634\n",
      "  0.68593396 0.28932246 0.38782847 0.42088998 0.96194066 0.64211942\n",
      "  0.97938068 0.08501816 0.34457862 0.48003104 0.6750469  0.82053481\n",
      "  0.91873591 0.76951252 0.58977211 0.28290067 0.69535704 0.56308584\n",
      "  0.57564089 0.15550157 0.49888588 0.54556802 0.22008221 0.66183937\n",
      "  0.35550104 0.7108176  1.06205951 0.92768035 0.48711968 0.62384695\n",
      "  0.44278432 0.33694406 0.11849669 0.18348238 0.66501866 0.39823179\n",
      "  0.26877088 0.67578017 0.95867272 0.68959706 0.70937521 0.87706932\n",
      "  0.81919174 0.63535973 0.70775664 0.86753412 0.71410322 0.33009223\n",
      "  0.85465842 0.54758999 0.51611619 0.54605935 0.03423253 0.58334031\n",
      "  0.3061387  0.14382883 0.52610132 0.89281865 0.07897583 0.24659417\n",
      "  0.10881529 0.55009971 0.69418876 0.         0.23040158 1.03597987\n",
      "  0.40982485 0.77934771 0.71626456 0.79994631 0.25423093 0.86738257\n",
      "  0.5750302  0.85989585 0.62363554 0.7777091  0.61418861 0.32796278\n",
      "  0.95213366 0.86656779 0.29457326 0.70374419]\n",
      " [0.69865616 0.43289889 0.30471197 0.76003279 0.91287133 0.95838446\n",
      "  0.53896237 0.89639431 0.5549918  0.49656658 0.50546541 0.48899828\n",
      "  0.41936568 0.17276693 0.53537605 0.85721173 0.17093865 0.99369732\n",
      "  0.6463708  0.13597264 0.29083056 0.36173921 0.86244711 0.72510625\n",
      "  0.9434789  0.20549707 0.54339513 0.28551239 0.46442278 0.8906326\n",
      "  0.84401078 0.78847061 0.47903065 0.31651922 0.52477699 0.37384615\n",
      "  0.41732405 0.22676791 0.52522232 0.54321065 0.20821755 0.61132567\n",
      "  0.44486422 0.69501665 1.00160952 0.84462301 0.6726499  0.39898674\n",
      "  0.52767728 0.50602963 0.18801695 0.05594956 0.43654259 0.42224256\n",
      "  0.19236105 0.56108449 0.93745502 0.63218339 0.7517274  0.92474816\n",
      "  0.74239467 0.70037327 0.82874484 0.92659443 0.77131339 0.10195243\n",
      "  0.734283   0.50109446 0.43554015 0.66933631 0.26455934 0.35329281\n",
      "  0.46125944 0.35922886 0.44473602 0.86190413 0.30008357 0.32532372\n",
      "  0.26150915 0.42619611 0.78524784 0.23040158 0.         0.96407924\n",
      "  0.20729726 0.78167824 0.64895785 0.93626646 0.27821279 0.88945571\n",
      "  0.49359905 0.86040157 0.73466349 0.85126117 0.45677005 0.47403281\n",
      "  0.87676616 0.82424774 0.07721069 0.86511179]\n",
      " [0.3379582  0.89654916 0.68189673 0.4764354  0.06285108 0.07485328\n",
      "  0.94917859 0.12051794 0.40959259 0.46859473 0.48190914 0.90316878\n",
      "  0.7575387  0.79402728 0.61646343 0.71937916 0.79594972 0.92062872\n",
      "  0.35710385 0.82811578 0.67578034 0.61958227 0.15157953 0.64111063\n",
      "  0.16226587 1.09055059 1.00595323 0.74821579 0.74733817 0.5883525\n",
      "  0.12008288 0.41528866 0.48928254 0.75865087 0.55876523 0.68859091\n",
      "  0.59361066 0.88076685 0.58150572 0.51329113 0.82068846 0.37496357\n",
      "  0.75304398 0.36485978 0.06163333 0.12442647 0.98745339 0.85582935\n",
      "  0.7046595  0.91259426 1.10011809 0.94902592 0.90507649 0.65635526\n",
      "  0.79123667 0.41681385 0.22486906 0.3464362  0.50428162 0.50334203\n",
      "  0.22181553 0.59014859 0.7748268  0.54847361 0.54845859 0.97426482\n",
      "  0.29225848 0.48844414 0.53159154 0.7741923  1.05270135 0.93167889\n",
      "  0.88231827 1.02305687 0.52190527 0.21089128 1.02791429 0.80922075\n",
      "  1.13860262 0.54608907 0.6630381  1.03597987 0.96407924 0.\n",
      "  0.80831643 0.36319363 0.32073191 0.86274778 0.78266565 0.40363119\n",
      "  0.47205757 0.32698775 0.73241244 0.5996331  0.56448101 0.85962137\n",
      "  0.08746983 0.19774136 1.00152005 0.94560836]\n",
      " [0.59288345 0.27644548 0.12679699 0.70236389 0.76373392 0.81476313\n",
      "  0.63781542 0.72634449 0.41382013 0.36207346 0.32914491 0.57860228\n",
      "  0.22065885 0.15263897 0.51433054 0.85740256 0.09688538 1.02606096\n",
      "  0.53346853 0.12973476 0.19974839 0.28243403 0.69067484 0.71411065\n",
      "  0.81545455 0.40674328 0.65925059 0.07870941 0.26522446 0.85611731\n",
      "  0.69025419 0.71486266 0.32144865 0.34356621 0.32162026 0.16705717\n",
      "  0.22549907 0.33046273 0.48759795 0.47648554 0.2638651  0.49229443\n",
      "  0.47837414 0.59841395 0.8529829  0.68477563 0.76492767 0.22958175\n",
      "  0.54180096 0.59694118 0.39370879 0.23231345 0.28299033 0.40455526\n",
      "  0.20157394 0.39220548 0.82141662 0.50512847 0.70168532 0.86812806\n",
      "  0.59170886 0.67526558 0.84568836 0.88007794 0.73307118 0.17186569\n",
      "  0.55282086 0.40030381 0.31405098 0.70057488 0.44292261 0.22572606\n",
      "  0.54628651 0.50959398 0.32061928 0.74148567 0.46279708 0.38484991\n",
      "  0.46393305 0.26359284 0.7768887  0.40982485 0.20729726 0.80831643\n",
      "  0.         0.69404804 0.51205372 0.96252673 0.3159361  0.8122234\n",
      "  0.36111896 0.76624575 0.74879908 0.82227542 0.26298507 0.54943905\n",
      "  0.72131715 0.69651173 0.20823833 0.92065787]\n",
      " [0.11523348 0.88568885 0.57899124 0.11345932 0.30314334 0.30354366\n",
      "  0.61192618 0.40720815 0.31607225 0.34664035 0.45154912 0.57490712\n",
      "  0.74833536 0.61344257 0.29908342 0.36535976 0.63989979 0.57403248\n",
      "  0.17526274 0.65577809 0.50541818 0.42454698 0.40423347 0.27810265\n",
      "  0.23256152 0.85007275 0.67013898 0.66461489 0.75986517 0.25491844\n",
      "  0.29878798 0.05635289 0.41096234 0.49948811 0.58950362 0.64595613\n",
      "  0.54692234 0.62897747 0.2808704  0.24026986 0.59194302 0.21838732\n",
      "  0.4438451  0.09782905 0.35348101 0.33079032 0.63238168 0.83488371\n",
      "  0.37493959 0.58084816 0.86913684 0.74848415 0.89465991 0.38193284\n",
      "  0.58957115 0.3996299  0.19059481 0.2232894  0.14113895 0.20574257\n",
      "  0.27170751 0.22897012 0.41496516 0.23885182 0.18682708 0.82773695\n",
      "  0.43502049 0.2938136  0.38154568 0.41519764 0.78716202 0.8853\n",
      "  0.56037946 0.72889478 0.37623844 0.1545155  0.75006995 0.53356596\n",
      "  0.8879355  0.45989344 0.30176096 0.77934771 0.78167824 0.36319363\n",
      "  0.69404804 0.         0.24387623 0.51175115 0.53359084 0.12174544\n",
      "  0.34536524 0.08069608 0.36932001 0.25223776 0.54023146 0.53497239\n",
      "  0.31866162 0.1710671  0.84053098 0.58376798]\n",
      " [0.13088995 0.66160832 0.38647522 0.32144856 0.26541924 0.30943119\n",
      "  0.66878886 0.2839355  0.09823385 0.15331025 0.21818448 0.61563939\n",
      "  0.52081554 0.47704813 0.3403618  0.57076752 0.4846413  0.78107313\n",
      "  0.08507149 0.5133457  0.35844793 0.29888616 0.26010715 0.44588346\n",
      "  0.30345323 0.76982402 0.72214206 0.46462449 0.52673395 0.48813544\n",
      "  0.20248613 0.29137126 0.19454031 0.44252739 0.34870893 0.4268043\n",
      "  0.32512878 0.56149308 0.29729212 0.22358974 0.50002958 0.06816242\n",
      "  0.45824784 0.15873342 0.35326328 0.21310773 0.73346506 0.61309635\n",
      "  0.4303146  0.62791242 0.7795533  0.63056424 0.67060153 0.3494114\n",
      "  0.47136688 0.15916629 0.31424446 0.03715695 0.34009488 0.44955187\n",
      "  0.10421901 0.38806138 0.60283977 0.4808289  0.38967911 0.66917073\n",
      "  0.21732583 0.17045953 0.21351763 0.54276293 0.73403753 0.67397157\n",
      "  0.59037634 0.71208247 0.20422985 0.23320447 0.71188162 0.49627302\n",
      "  0.81811191 0.25158544 0.49254188 0.71626456 0.64895785 0.32073191\n",
      "  0.51205372 0.24387623 0.         0.71480086 0.46413506 0.36096639\n",
      "  0.15575543 0.29012216 0.52975992 0.47499596 0.31008182 0.57078862\n",
      "  0.23589883 0.1851367  0.6922718  0.75414982]\n",
      " [0.59396164 1.2218635  0.89287395 0.40347611 0.80726534 0.79386677\n",
      "  0.4561277  0.9187138  0.74181319 0.7364207  0.86565223 0.47689381\n",
      "  1.10796784 0.82262651 0.45838584 0.14668855 0.87325695 0.06742888\n",
      "  0.62979261 0.86205147 0.77091404 0.69819679 0.9157675  0.27520052\n",
      "  0.70869014 0.88489808 0.49451055 0.97378059 1.13518639 0.2777662\n",
      "  0.81045182 0.45560333 0.80583465 0.63019964 1.00819002 0.99801704\n",
      "  0.92095338 0.71243823 0.4963054  0.54377387 0.73404466 0.65842242\n",
      "  0.49431488 0.56183591 0.83826976 0.84253327 0.35972279 1.16958263\n",
      "  0.42116841 0.46548947 0.91792987 0.88348848 1.22995276 0.55944127\n",
      "  0.7768393  0.83822901 0.64834637 0.68127206 0.37965207 0.37368304\n",
      "  0.77464448 0.33113145 0.11990736 0.32880132 0.32965001 1.02301363\n",
      "  0.92900008 0.64870885 0.72845184 0.26732702 0.7856449  1.18730926\n",
      "  0.494109   0.67447376 0.73010159 0.65337863 0.73096578 0.61107378\n",
      "  0.89239664 0.82986339 0.22241286 0.79994631 0.93626646 0.86274778\n",
      "  0.96252673 0.51175115 0.71480086 0.         0.66566181 0.46306681\n",
      "  0.731937   0.53579143 0.21498379 0.26321644 0.93312515 0.47392168\n",
      "  0.82905618 0.6813514  1.01259776 0.14433289]\n",
      " [0.47162228 0.59144751 0.29738185 0.49390564 0.72408481 0.75965322\n",
      "  0.32664113 0.74340777 0.39077687 0.33540426 0.41355892 0.26568984\n",
      "  0.50969965 0.16450433 0.26118017 0.57971306 0.21963114 0.72590162\n",
      "  0.43172333 0.19932945 0.1779735  0.17746083 0.71500659 0.44696382\n",
      "  0.72617467 0.31780438 0.356093   0.35350275 0.54868268 0.61461193\n",
      "  0.66627321 0.5303612  0.35902358 0.03851252 0.50666062 0.41298365\n",
      "  0.38553665 0.0987916  0.25879637 0.2952124  0.07009469 0.40800449\n",
      "  0.17139601 0.45939406 0.80789924 0.67669003 0.4501013  0.54264857\n",
      "  0.25024254 0.28398982 0.33557978 0.23151    0.59831544 0.15362204\n",
      "  0.11567463 0.4423871  0.7077461  0.43625828 0.4823384  0.65499192\n",
      "  0.56781994 0.42406679 0.55442451 0.65330089 0.49737095 0.35805269\n",
      "  0.61830549 0.29433329 0.27431099 0.39862101 0.27006868 0.53938026\n",
      "  0.23281803 0.26157385 0.28398343 0.63994246 0.24967602 0.07038012\n",
      "  0.36001877 0.33199845 0.50704341 0.25423093 0.27821279 0.78266565\n",
      "  0.3159361  0.53359084 0.46413506 0.66566181 0.         0.63065555\n",
      "  0.33027579 0.61423799 0.45899947 0.5744695  0.4187932  0.23390571\n",
      "  0.69959539 0.61254332 0.35165384 0.60947678]\n",
      " [0.23585469 1.00743067 0.69912859 0.14396448 0.35250942 0.33240087\n",
      "  0.65765557 0.47555175 0.43739032 0.46825107 0.57239291 0.63011511\n",
      "  0.87001724 0.7244596  0.37873798 0.32483614 0.7541727  0.51844453\n",
      "  0.29668214 0.76736707 0.62034314 0.53805241 0.48074093 0.28812239\n",
      "  0.246007   0.94228107 0.71558704 0.78511794 0.88116056 0.18583872\n",
      "  0.37218965 0.10102416 0.53268273 0.59447856 0.70887694 0.76767324\n",
      "  0.66865621 0.72222376 0.3720534  0.34660872 0.69310893 0.33997091\n",
      "  0.51847732 0.21945568 0.37546768 0.40636228 0.6536564  0.95659784\n",
      "  0.43895369 0.63283011 0.963938   0.85306934 1.01640097 0.47704075\n",
      "  0.69716123 0.51882396 0.18528149 0.34335695 0.16548531 0.10254055\n",
      "  0.37130261 0.25774977 0.38796254 0.14595903 0.18551492 0.94082996\n",
      "  0.53653865 0.41220443 0.50140196 0.43549976 0.87169122 1.00639928\n",
      "  0.62112813 0.80180977 0.49649357 0.20193664 0.83028468 0.62100147\n",
      "  0.9761443  0.58152634 0.28568055 0.86738257 0.88945571 0.40363119\n",
      "  0.8122234  0.12174544 0.36096639 0.46306681 0.63065555 0.\n",
      "  0.46688492 0.083523   0.37108963 0.20365804 0.66159999 0.59462778\n",
      "  0.38340359 0.24336824 0.95129571 0.56072436]\n",
      " [0.23612636 0.54143174 0.23857095 0.38275813 0.41942854 0.46502639\n",
      "  0.58545992 0.41713935 0.06312974 0.00572947 0.13415965 0.52666067\n",
      "  0.40653205 0.32229332 0.29251614 0.59849109 0.32894042 0.79935298\n",
      "  0.17493206 0.35781749 0.20381771 0.15442779 0.38691072 0.45720406\n",
      "  0.45644114 0.62261028 0.63308498 0.32181456 0.42285597 0.55120972\n",
      "  0.35213023 0.37713828 0.07452656 0.31628664 0.27633919 0.30142026\n",
      "  0.20499697 0.42327406 0.24749094 0.1884716  0.35546184 0.13228628\n",
      "  0.36953423 0.24753765 0.50802885 0.35628238 0.67297444 0.49015623\n",
      "  0.37099837 0.54165649 0.62994896 0.47697045 0.55036679 0.25089137\n",
      "  0.32003386 0.12521146 0.46030376 0.1442067  0.3915037  0.53842656\n",
      "  0.25040956 0.40350597 0.6130661  0.56004558 0.43463233 0.51422806\n",
      "  0.29046998 0.08403124 0.05991469 0.51424314 0.5957862  0.54036723\n",
      "  0.49724347 0.58891167 0.05003689 0.38053142 0.57977748 0.37513746\n",
      "  0.67307859 0.11487785 0.51486373 0.5750302  0.49359905 0.47205757\n",
      "  0.36111896 0.34536524 0.15575543 0.731937   0.33027579 0.46688492\n",
      "  0.         0.41122932 0.52541356 0.5269397  0.20644105 0.48249784\n",
      "  0.38530308 0.33687375 0.53662684 0.74116065]\n",
      " [0.17510921 0.94668177 0.64829669 0.16764827 0.27287864 0.25875506\n",
      "  0.68295431 0.39307943 0.37427029 0.41179838 0.50631662 0.64879599\n",
      "  0.807369   0.69116634 0.37777542 0.39314928 0.71578817 0.5938382\n",
      "  0.23657373 0.73316356 0.58119691 0.50151337 0.39745195 0.3313338\n",
      "  0.17661717 0.93076765 0.74126158 0.73280222 0.81571483 0.26227\n",
      "  0.28889594 0.10499719 0.47202647 0.58018393 0.63869192 0.70823922\n",
      "  0.60762633 0.70967178 0.36120935 0.32045126 0.67223676 0.27992686\n",
      "  0.52217324 0.16824759 0.30512629 0.32301021 0.69421535 0.89677547\n",
      "  0.45039606 0.65378074 0.94979886 0.82808271 0.95568048 0.46261942\n",
      "  0.6685838  0.44927329 0.12296412 0.27766791 0.19508701 0.18582445\n",
      "  0.29012224 0.28943007 0.45128763 0.22818602 0.23105033 0.90407057\n",
      "  0.45501206 0.36752554 0.45234978 0.47520492 0.86744585 0.95118015\n",
      "  0.6357893  0.80746124 0.44625823 0.11998634 0.82983968 0.61394832\n",
      "  0.96851905 0.52405726 0.34234386 0.85989585 0.86040157 0.32698775\n",
      "  0.76624575 0.08069608 0.29012216 0.53579143 0.61423799 0.083523\n",
      "  0.41122932 0.         0.42023115 0.2728053  0.59720349 0.60999754\n",
      "  0.30105623 0.15984776 0.91805579 0.62362085]\n",
      " [0.42252232 1.00688616 0.67794132 0.2567474  0.67180157 0.67197922\n",
      "  0.32081488 0.76625812 0.54215845 0.5302212  0.65956997 0.31676779\n",
      "  0.89355622 0.61153359 0.244086   0.1283266  0.66091734 0.28071206\n",
      "  0.4457058  0.65196138 0.55606283 0.48331876 0.75688177 0.09134919\n",
      "  0.59549563 0.70799446 0.37397699 0.75882725 0.92146283 0.23105225\n",
      "  0.65846546 0.31960598 0.59817717 0.42214457 0.80032394 0.78373122\n",
      "  0.7087319  0.51649668 0.28367211 0.33726663 0.52861549 0.46747586\n",
      "  0.28982693 0.38996943 0.72111113 0.68744431 0.28592418 0.95459929\n",
      "  0.20984267 0.31157849 0.73840481 0.68391588 1.01498266 0.3448659\n",
      "  0.5669637  0.63791571 0.54293464 0.4939052  0.22866172 0.32032721\n",
      "  0.60435398 0.14582445 0.0969104  0.29024618 0.18934378 0.81696395\n",
      "  0.74706661 0.4414397  0.51712818 0.08241115 0.61518468 0.9730841\n",
      "  0.32328677 0.51540571 0.51943445 0.52333916 0.56324347 0.41065252\n",
      "  0.72450339 0.61858412 0.09165052 0.62363554 0.73466349 0.73241244\n",
      "  0.74879908 0.36932001 0.52975992 0.21498379 0.45899947 0.37108963\n",
      "  0.52541356 0.42023115 0.         0.18994724 0.7227049  0.29850676\n",
      "  0.68242764 0.53753021 0.8097474  0.22450418]\n",
      " [0.34673447 1.05549777 0.72825044 0.15354805 0.54407799 0.53132546\n",
      "  0.50605353 0.65722142 0.52112948 0.53033405 0.65439022 0.49335723\n",
      "  0.92802661 0.70464903 0.31678251 0.12127385 0.74618398 0.32305226\n",
      "  0.39247541 0.74768496 0.62252961 0.54044761 0.6559905  0.13619825\n",
      "  0.44710423 0.85946582 0.56109507 0.81440487 0.94820203 0.04349565\n",
      "  0.54942654 0.19594893 0.60091342 0.53596034 0.79818148 0.81906098\n",
      "  0.7294966  0.65085038 0.33564929 0.35269321 0.64367094 0.42796382\n",
      "  0.42402062 0.31659033 0.57659404 0.5821066  0.47461517 1.00296406\n",
      "  0.33588232 0.49118074 0.8866294  0.80597926 1.06416176 0.43124747\n",
      "  0.6668076  0.61539636 0.38798936 0.44529601 0.13722237 0.1323932\n",
      "  0.52150975 0.15101479 0.18552462 0.10040909 0.09253268 0.92094631\n",
      "  0.68158235 0.45061106 0.5401698  0.2680577  0.77447845 1.03704574\n",
      "  0.49349159 0.68519611 0.53891236 0.39018653 0.72601025 0.54295878\n",
      "  0.88339872 0.63691326 0.09837101 0.7777091  0.85126117 0.5996331\n",
      "  0.82227542 0.25223776 0.47499596 0.26321644 0.5744695  0.20365804\n",
      "  0.5269397  0.2728053  0.18994724 0.         0.73337198 0.46710538\n",
      "  0.56684641 0.41948883 0.92179221 0.35771147]\n",
      " [0.4258481  0.35169102 0.15334328 0.58809198 0.52773586 0.58299411\n",
      "  0.72817036 0.47167993 0.22420968 0.20306873 0.09206481 0.66635511\n",
      "  0.21074101 0.3206309  0.481511   0.80287721 0.29179638 1.00037035\n",
      "  0.36497736 0.33473887 0.24136349 0.26618048 0.43522649 0.65995268\n",
      "  0.60115696 0.63584213 0.76697536 0.1910535  0.21966216 0.75719563\n",
      "  0.45186778 0.57778038 0.13274119 0.42362158 0.08831091 0.12427748\n",
      "  0.03963063 0.48650561 0.43938432 0.39033661 0.40808525 0.3219391\n",
      "  0.52185746 0.44380138 0.61501506 0.44015873 0.83401685 0.30399177\n",
      "  0.5475517  0.68351527 0.63128265 0.46431305 0.36067447 0.40872643\n",
      "  0.3480863  0.15628095 0.62114929 0.31963926 0.59770577 0.73986879\n",
      "  0.36198354 0.60778317 0.81350256 0.76389187 0.6410729  0.43481006\n",
      "  0.29257696 0.28604494 0.20578739 0.70173684 0.64273108 0.37091949\n",
      "  0.63402194 0.67283852 0.20328204 0.54038897 0.64444348 0.48307539\n",
      "  0.69224239 0.10491528 0.71900315 0.61418861 0.45677005 0.56448101\n",
      "  0.26298507 0.54023146 0.31008182 0.93312515 0.4187932  0.66159999\n",
      "  0.20644105 0.59720349 0.7227049  0.73337198 0.         0.62585633\n",
      "  0.48006697 0.48907592 0.47051666 0.93127103]\n",
      " [0.52203275 0.82530131 0.52397185 0.4516042  0.7970197  0.81785934\n",
      "  0.10347257 0.85175536 0.52987024 0.48822646 0.59784313 0.04491146\n",
      "  0.74082197 0.39715146 0.24363654 0.4265944  0.45275349 0.52620112\n",
      "  0.50784607 0.42825498 0.39715198 0.3604856  0.83040793 0.33166721\n",
      "  0.76178106 0.41292125 0.15189188 0.58622107 0.77828698 0.5106004\n",
      "  0.75636991 0.50771794 0.53571176 0.21178036 0.71376016 0.64012786\n",
      "  0.59780301 0.24732586 0.2788281  0.3503077  0.28981089 0.50352957\n",
      "  0.1138503  0.49727786 0.86891744 0.77596675 0.21644375 0.77654613\n",
      "  0.16005009 0.0591873  0.44499785 0.41900834 0.83212008 0.23164617\n",
      "  0.34807057 0.60729591 0.72542797 0.5352686  0.42917851 0.58110131\n",
      "  0.67118485 0.34049634 0.37989647 0.56339619 0.41954991 0.56850766\n",
      "  0.76632819 0.4137998  0.44191147 0.2188579  0.31729578 0.77132762\n",
      "  0.02673628 0.21850945 0.44938799 0.67632298 0.26479768 0.16463082\n",
      "  0.42638274 0.52688087 0.37610363 0.32796278 0.47403281 0.85962137\n",
      "  0.54943905 0.53497239 0.57078862 0.47392168 0.23390571 0.59462778\n",
      "  0.48249784 0.60999754 0.29850676 0.46710538 0.62585633 0.\n",
      "  0.78742921 0.66679797 0.5512435  0.39124013]\n",
      " [0.27075521 0.81695818 0.59478772 0.43117033 0.05376972 0.11179049\n",
      "  0.87990072 0.0921676  0.3226215  0.38172632 0.39590381 0.83154848\n",
      "  0.67684496 0.70697274 0.54604262 0.68323756 0.70850338 0.8898986\n",
      "  0.28036142 0.74081532 0.58885879 0.53413873 0.10330222 0.59134743\n",
      "  0.17210621 1.00527241 0.93584083 0.66206355 0.66889338 0.56163263\n",
      "  0.03342797 0.37407711 0.40187967 0.67680405 0.47945388 0.60433567\n",
      "  0.50813234 0.79724515 0.50860145 0.43811828 0.73572671 0.29356734\n",
      "  0.6785711  0.30057419 0.13522312 0.04282844 0.92604684 0.77488584\n",
      "  0.63562259 0.84187605 1.01423723 0.86217516 0.82559987 0.57769524\n",
      "  0.70492674 0.33040156 0.22634886 0.2638365  0.45803538 0.48585581\n",
      "  0.13489395 0.53747094 0.73350874 0.52908593 0.50525826 0.88690393\n",
      "  0.22002975 0.40532116 0.444991   0.71725504 0.96962928 0.8489834\n",
      "  0.80926153 0.94370253 0.43524557 0.18146702 0.94631187 0.72880159\n",
      "  1.05391846 0.45879239 0.62005136 0.95213366 0.87676616 0.08746983\n",
      "  0.72131715 0.31866162 0.23589883 0.82905618 0.69959539 0.38340359\n",
      "  0.38530308 0.30105623 0.68242764 0.56684641 0.48006697 0.78742921\n",
      "  0.         0.14780495 0.91405672 0.90114201]\n",
      " [0.14617335 0.84016316 0.5713828  0.28405942 0.13545184 0.1515348\n",
      "  0.75384234 0.23775397 0.28306329 0.33528065 0.39729617 0.70968419\n",
      "  0.69852874 0.65148248 0.42316589 0.53544661 0.66428584 0.7424938\n",
      "  0.18156795 0.69001104 0.5339045  0.46507619 0.23873119 0.44621082\n",
      "  0.11969641 0.92796441 0.8110665  0.64970577 0.70010831 0.41588373\n",
      "  0.13060972 0.22628306 0.37951128 0.58447463 0.5145017  0.60913509\n",
      "  0.50765645 0.7113176  0.39121482 0.32746742 0.65897146 0.21301332\n",
      "  0.56332751 0.16957574 0.20234748 0.16420629 0.78971728 0.79306065\n",
      "  0.50979198 0.71833843 0.94146005 0.80110977 0.84911198 0.47494357\n",
      "  0.63972629 0.33327812 0.13252877 0.19325784 0.31126176 0.34548633\n",
      "  0.14169971 0.39379975 0.58603191 0.38697275 0.35785718 0.85083675\n",
      "  0.3015075  0.326041   0.39091121 0.57679949 0.88009875 0.85704659\n",
      "  0.69029139 0.84014357 0.3824453  0.05388013 0.85063456 0.63030332\n",
      "  0.97241243 0.43671331 0.47275949 0.86656779 0.82424774 0.19774136\n",
      "  0.69651173 0.1710671  0.1851367  0.6813514  0.61254332 0.24336824\n",
      "  0.33687375 0.15984776 0.53753021 0.41948883 0.48907592 0.66679797\n",
      "  0.14780495 0.         0.87188714 0.75443254]\n",
      " [0.75219782 0.3867131  0.32529591 0.82527706 0.95297657 1.00086045\n",
      "  0.61531432 0.92671359 0.59583434 0.53896157 0.53052609 0.56595087\n",
      "  0.39709524 0.22711561 0.60515114 0.93135374 0.20773466 1.07038818\n",
      "  0.69742487 0.18490441 0.33945677 0.41661203 0.89174775 0.797536\n",
      "  0.99155646 0.25277821 0.61820455 0.28527721 0.44127281 0.96048206\n",
      "  0.88190938 0.8506016  0.512509   0.38956315 0.52898998 0.37194889\n",
      "  0.43229798 0.30397054 0.59219098 0.60474406 0.28159887 0.66019482\n",
      "  0.52018259 0.75100796 1.042216   0.8798155  0.74905632 0.3598078\n",
      "  0.60181923 0.58289386 0.22674971 0.13268567 0.38908892 0.49107128\n",
      "  0.2566294  0.59041109 0.98935034 0.67871085 0.8183511  0.9909643\n",
      "  0.78109521 0.77077769 0.90429124 0.9946283  0.84007055 0.04479107\n",
      "  0.75756415 0.5537756  0.48098631 0.74548231 0.32795572 0.30133615\n",
      "  0.5383866  0.42994037 0.48956702 0.91210736 0.36858931 0.40152404\n",
      "  0.30409699 0.45670163 0.85823734 0.29457326 0.07721069 1.00152005\n",
      "  0.20823833 0.84053098 0.6922718  1.01259776 0.35165384 0.95129571\n",
      "  0.53662684 0.91805579 0.8097474  0.92179221 0.47051666 0.5512435\n",
      "  0.91405672 0.87188714 0.         0.94231161]\n",
      " [0.64595864 1.19028471 0.8681278  0.47041581 0.88661998 0.8812661\n",
      "  0.34779055 0.98697055 0.76282098 0.74625109 0.87466654 0.38231753\n",
      "  1.08765035 0.77288972 0.4504715  0.23848686 0.82667436 0.16015045\n",
      "  0.67020082 0.80879318 0.74099658 0.67773782 0.9791032  0.3122535\n",
      "  0.80013658 0.78746558 0.37591945 0.94321709 1.11925871 0.38467066\n",
      "  0.87864989 0.5303772  0.8119738  0.57806237 1.01240509 0.97958334\n",
      "  0.91338132 0.63834398 0.49429843 0.55539207 0.67350708 0.69131405\n",
      "  0.44228375 0.61331487 0.92863313 0.90856752 0.23199398 1.13911723\n",
      "  0.38822983 0.36763747 0.82214367 0.81022243 1.19786055 0.53198742\n",
      "  0.72472464 0.85767524 0.74312544 0.71815747 0.44319891 0.4841051\n",
      "  0.82818584 0.36912119 0.17285294 0.44241147 0.39727365 0.9582785\n",
      "  0.97147399 0.65733365 0.72600813 0.2296959  0.68517103 1.14619835\n",
      "  0.4061141  0.56909649 0.72956942 0.73481159 0.62985404 0.54661981\n",
      "  0.78791963 0.82636509 0.28257245 0.70374419 0.86511179 0.94560836\n",
      "  0.92065787 0.58376798 0.75414982 0.14433289 0.60947678 0.56072436\n",
      "  0.74116065 0.62362085 0.22450418 0.35771147 0.93127103 0.39124013\n",
      "  0.90114201 0.75443254 0.94231161 0.        ]]\n"
     ]
    }
   ],
   "source": [
    "A = np.random.random((100,2))\n",
    "X,Y = np.atleast_2d(A[:,0], A[:,1])\n",
    "B = np.sqrt( (X-X.T)**2 + (Y-Y.T)**2)\n",
    "print(B)"
   ]
  },
  {
   "cell_type": "markdown",
   "id": "b90e0bb2",
   "metadata": {},
   "source": [
    "#### 53. How to convert a float (32 bits) array into an integer (32 bits) in place?"
   ]
  },
  {
   "cell_type": "code",
   "execution_count": 107,
   "id": "db97ea05",
   "metadata": {},
   "outputs": [
    {
     "name": "stdout",
     "output_type": "stream",
     "text": [
      "[67 92 26 38 99 46 28 89 17 33]\n"
     ]
    }
   ],
   "source": [
    "A = (np.random.rand(10)*100).astype(np.float32)\n",
    "B = A.view(np.int32)\n",
    "B[:] = A\n",
    "print(B)"
   ]
  },
  {
   "cell_type": "markdown",
   "id": "0d1b021c",
   "metadata": {},
   "source": [
    "#### 54. How to read the following file? (★★☆)\n",
    "```\n",
    "1, 2, 3, 4, 5\n",
    "6,  ,  , 7, 8\n",
    " ,  , 9,10,11\n",
    "```"
   ]
  },
  {
   "cell_type": "code",
   "execution_count": null,
   "id": "9551928e",
   "metadata": {},
   "outputs": [],
   "source": []
  },
  {
   "cell_type": "markdown",
   "id": "56928772",
   "metadata": {},
   "source": [
    "#### 55. What is the equivalent of enumerate for numpy arrays? (★★☆)"
   ]
  },
  {
   "cell_type": "code",
   "execution_count": 108,
   "id": "327d9b88",
   "metadata": {},
   "outputs": [
    {
     "name": "stdout",
     "output_type": "stream",
     "text": [
      "(0, 0) 0\n",
      "(0, 1) 1\n",
      "(0, 2) 2\n",
      "(1, 0) 3\n",
      "(1, 1) 4\n",
      "(1, 2) 5\n",
      "(2, 0) 6\n",
      "(2, 1) 7\n",
      "(2, 2) 8\n",
      "(0, 0) 0\n",
      "(0, 1) 1\n",
      "(0, 2) 2\n",
      "(1, 0) 3\n",
      "(1, 1) 4\n",
      "(1, 2) 5\n",
      "(2, 0) 6\n",
      "(2, 1) 7\n",
      "(2, 2) 8\n"
     ]
    }
   ],
   "source": [
    "A = np.arange(9).reshape(3,3)\n",
    "for index, value in np.ndenumerate(A):\n",
    "    print(index, value)\n",
    "for index in np.ndindex(A.shape):\n",
    "    print(index, A[index])"
   ]
  },
  {
   "cell_type": "markdown",
   "id": "257e0bac",
   "metadata": {},
   "source": [
    "#### 56. Generate a generic 2D Gaussian-like array (★★☆)"
   ]
  },
  {
   "cell_type": "code",
   "execution_count": 109,
   "id": "1325d664",
   "metadata": {},
   "outputs": [
    {
     "name": "stdout",
     "output_type": "stream",
     "text": [
      "[[0.36787944 0.44822088 0.51979489 0.57375342 0.60279818 0.60279818\n",
      "  0.57375342 0.51979489 0.44822088 0.36787944]\n",
      " [0.44822088 0.54610814 0.63331324 0.69905581 0.73444367 0.73444367\n",
      "  0.69905581 0.63331324 0.54610814 0.44822088]\n",
      " [0.51979489 0.63331324 0.73444367 0.81068432 0.85172308 0.85172308\n",
      "  0.81068432 0.73444367 0.63331324 0.51979489]\n",
      " [0.57375342 0.69905581 0.81068432 0.89483932 0.9401382  0.9401382\n",
      "  0.89483932 0.81068432 0.69905581 0.57375342]\n",
      " [0.60279818 0.73444367 0.85172308 0.9401382  0.98773022 0.98773022\n",
      "  0.9401382  0.85172308 0.73444367 0.60279818]\n",
      " [0.60279818 0.73444367 0.85172308 0.9401382  0.98773022 0.98773022\n",
      "  0.9401382  0.85172308 0.73444367 0.60279818]\n",
      " [0.57375342 0.69905581 0.81068432 0.89483932 0.9401382  0.9401382\n",
      "  0.89483932 0.81068432 0.69905581 0.57375342]\n",
      " [0.51979489 0.63331324 0.73444367 0.81068432 0.85172308 0.85172308\n",
      "  0.81068432 0.73444367 0.63331324 0.51979489]\n",
      " [0.44822088 0.54610814 0.63331324 0.69905581 0.73444367 0.73444367\n",
      "  0.69905581 0.63331324 0.54610814 0.44822088]\n",
      " [0.36787944 0.44822088 0.51979489 0.57375342 0.60279818 0.60279818\n",
      "  0.57375342 0.51979489 0.44822088 0.36787944]]\n"
     ]
    }
   ],
   "source": [
    "X, Y = np.meshgrid(np.linspace(-1,1,10), np.linspace(-1,1,10))\n",
    "A = np.sqrt(X*X+Y*Y)\n",
    "sigma, m = 1.0, 0.0\n",
    "G = np.exp(-( (A - m)**2 / ( 2.0 * sigma**2 ) ) )\n",
    "print(G)"
   ]
  },
  {
   "cell_type": "markdown",
   "id": "441347ee",
   "metadata": {},
   "source": [
    "#### 57. How to randomly place p elements in a 2D array? (★★☆)"
   ]
  },
  {
   "cell_type": "code",
   "execution_count": 110,
   "id": "1e61fce5",
   "metadata": {},
   "outputs": [
    {
     "name": "stdout",
     "output_type": "stream",
     "text": [
      "[[0. 0. 0. 0. 0. 1. 0. 0. 0. 0.]\n",
      " [0. 0. 0. 0. 0. 0. 0. 0. 0. 0.]\n",
      " [0. 0. 0. 0. 0. 0. 0. 0. 0. 0.]\n",
      " [0. 0. 0. 0. 0. 0. 0. 0. 0. 0.]\n",
      " [0. 0. 0. 0. 0. 0. 0. 0. 0. 0.]\n",
      " [0. 0. 0. 0. 0. 0. 0. 0. 0. 0.]\n",
      " [0. 0. 1. 0. 0. 0. 0. 0. 0. 0.]\n",
      " [0. 0. 0. 0. 0. 0. 0. 0. 0. 0.]\n",
      " [0. 0. 0. 0. 0. 0. 0. 0. 0. 0.]\n",
      " [0. 0. 0. 0. 0. 1. 0. 0. 0. 0.]]\n"
     ]
    }
   ],
   "source": [
    "n = 10\n",
    "p = 3\n",
    "A = np.zeros((n,n))\n",
    "np.put(A, np.random.choice(range(n*n), p, replace=False),1)\n",
    "print(A)"
   ]
  },
  {
   "cell_type": "markdown",
   "id": "8a76af52",
   "metadata": {},
   "source": [
    "#### 58. Subtract the mean of each row of a matrix (★★☆)"
   ]
  },
  {
   "cell_type": "code",
   "execution_count": 111,
   "id": "65cf18e9",
   "metadata": {},
   "outputs": [
    {
     "name": "stdout",
     "output_type": "stream",
     "text": [
      "[[ 0.07661209  0.1620391   0.09078893 -0.65058321  0.07269703 -0.07934271\n",
      "   0.01311032  0.02206763  0.14049092  0.1521199 ]\n",
      " [-0.40524182 -0.13988214  0.32937935  0.43044499 -0.23298307 -0.34585967\n",
      "   0.38784909  0.36388675 -0.30129647 -0.08629702]\n",
      " [-0.02166899 -0.16058773  0.34225159 -0.02905394 -0.05130942 -0.04570769\n",
      "   0.0721051  -0.32135652 -0.00486483  0.22019244]\n",
      " [ 0.04373662  0.30108061  0.17349679 -0.55076861 -0.53184875  0.20312106\n",
      "   0.08773964  0.01224739  0.21475857  0.04643669]\n",
      " [ 0.29803527  0.11489561  0.4208907  -0.28525294  0.29812268 -0.02844522\n",
      "  -0.44321576  0.36947476 -0.40254227 -0.34196283]]\n"
     ]
    }
   ],
   "source": [
    "X = np.random.rand(5, 10)\n",
    "Y = X - X.mean(axis=1, keepdims=True)\n",
    "Y = X - X.mean(axis=1).reshape(-1, 1)\n",
    "print(Y)"
   ]
  },
  {
   "cell_type": "markdown",
   "id": "d2dc8b5f",
   "metadata": {},
   "source": [
    "#### 59. How to sort an array by the nth column? (★★☆)"
   ]
  },
  {
   "cell_type": "code",
   "execution_count": 112,
   "id": "83b5eafe",
   "metadata": {},
   "outputs": [
    {
     "name": "stdout",
     "output_type": "stream",
     "text": [
      "[[7 2 3]\n",
      " [0 4 8]\n",
      " [6 6 4]]\n",
      "[[7 2 3]\n",
      " [0 4 8]\n",
      " [6 6 4]]\n"
     ]
    }
   ],
   "source": [
    "A = np.random.randint(0,10,(3,3))\n",
    "print(A)\n",
    "print(A[A[:,1].argsort()])"
   ]
  },
  {
   "cell_type": "markdown",
   "id": "4886f74e",
   "metadata": {},
   "source": [
    "#### 60. How to tell if a given 2D array has null columns? (★★☆)"
   ]
  },
  {
   "cell_type": "code",
   "execution_count": 113,
   "id": "7a066dd9",
   "metadata": {},
   "outputs": [
    {
     "name": "stdout",
     "output_type": "stream",
     "text": [
      "False\n"
     ]
    }
   ],
   "source": [
    "A = np.random.randint(0,3,(3,10))\n",
    "print((~A.any(axis=0)).any())"
   ]
  },
  {
   "cell_type": "markdown",
   "id": "1f5ad2a9",
   "metadata": {},
   "source": [
    "#### 61. Find the nearest value from a given value in an array (★★☆)"
   ]
  },
  {
   "cell_type": "code",
   "execution_count": 114,
   "id": "f53df167",
   "metadata": {},
   "outputs": [
    {
     "name": "stdout",
     "output_type": "stream",
     "text": [
      "0.3636875730689276\n"
     ]
    }
   ],
   "source": [
    "A = np.random.uniform(0,1,10)\n",
    "a = 0.5\n",
    "b = A.flat[np.abs(A - a).argmin()]\n",
    "print(b)"
   ]
  },
  {
   "cell_type": "markdown",
   "id": "aa48f9b2",
   "metadata": {},
   "source": [
    "#### 62. Considering two arrays with shape (1,3) and (3,1), how to compute their sum using an iterator? (★★☆)"
   ]
  },
  {
   "cell_type": "code",
   "execution_count": 115,
   "id": "68987301",
   "metadata": {},
   "outputs": [
    {
     "name": "stdout",
     "output_type": "stream",
     "text": [
      "[[0 1 2]\n",
      " [1 2 3]\n",
      " [2 3 4]]\n"
     ]
    }
   ],
   "source": [
    "A = np.arange(3).reshape(3,1)\n",
    "B = np.arange(3).reshape(1,3)\n",
    "c = np.nditer([A,B,None])\n",
    "for x,y,z in c: z[...] = x + y\n",
    "print(c.operands[2])"
   ]
  },
  {
   "cell_type": "markdown",
   "id": "0bed1516",
   "metadata": {},
   "source": [
    "#### 63. Create an array class that has a name attribute (★★☆)"
   ]
  },
  {
   "cell_type": "code",
   "execution_count": null,
   "id": "fa1d52fc",
   "metadata": {},
   "outputs": [],
   "source": []
  },
  {
   "cell_type": "markdown",
   "id": "463a40bb",
   "metadata": {},
   "source": [
    "#### 64. Consider a given vector, how to add 1 to each element indexed by a second vector (be careful with repeated indices)? (★★★)"
   ]
  },
  {
   "cell_type": "code",
   "execution_count": null,
   "id": "cdb2cad0",
   "metadata": {},
   "outputs": [],
   "source": []
  },
  {
   "cell_type": "markdown",
   "id": "2a2f8219",
   "metadata": {},
   "source": [
    "#### 65. How to accumulate elements of a vector (X) to an array (F) based on an index list (I)? (★★★)"
   ]
  },
  {
   "cell_type": "code",
   "execution_count": null,
   "id": "9cc34a77",
   "metadata": {},
   "outputs": [],
   "source": []
  },
  {
   "cell_type": "markdown",
   "id": "6a6a3c66",
   "metadata": {},
   "source": [
    "#### 66. Considering a (w,h,3) image of (dtype=ubyte), compute the number of unique colors (★★☆)"
   ]
  },
  {
   "cell_type": "code",
   "execution_count": null,
   "id": "c88f5a5e",
   "metadata": {},
   "outputs": [],
   "source": []
  },
  {
   "cell_type": "markdown",
   "id": "4b030baa",
   "metadata": {},
   "source": [
    "#### 67. Considering a four dimensions array, how to get sum over the last two axis at once? (★★★)"
   ]
  },
  {
   "cell_type": "code",
   "execution_count": null,
   "id": "cd2e7c9c",
   "metadata": {},
   "outputs": [],
   "source": []
  },
  {
   "cell_type": "markdown",
   "id": "1fa6053b",
   "metadata": {},
   "source": [
    "#### 68. Considering a one-dimensional vector D, how to compute means of subsets of D using a vector S of same size describing subset  indices? (★★★)"
   ]
  },
  {
   "cell_type": "code",
   "execution_count": null,
   "id": "9b5a070d",
   "metadata": {},
   "outputs": [],
   "source": []
  },
  {
   "cell_type": "markdown",
   "id": "2e7b0395",
   "metadata": {},
   "source": [
    "#### 69. How to get the diagonal of a dot product? (★★★)"
   ]
  },
  {
   "cell_type": "code",
   "execution_count": 116,
   "id": "ae437196",
   "metadata": {},
   "outputs": [
    {
     "data": {
      "text/plain": [
       "array([2.60958668, 2.05852981, 1.56080067, 2.35129414, 2.42973389,\n",
       "       2.66401464, 2.01309565, 2.14272479, 2.85905367])"
      ]
     },
     "execution_count": 116,
     "metadata": {},
     "output_type": "execute_result"
    }
   ],
   "source": [
    "A = np.random.uniform(0,1,(9,9))\n",
    "B = np.random.uniform(0,1,(9,9))\n",
    "np.diag(np.dot(A, B))"
   ]
  },
  {
   "cell_type": "markdown",
   "id": "2bf2f8e4",
   "metadata": {},
   "source": [
    "#### 70. Consider the vector [1, 2, 3, 4, 5], how to build a new vector with 3 consecutive zeros interleaved between each value? (★★★)"
   ]
  },
  {
   "cell_type": "code",
   "execution_count": null,
   "id": "8a427342",
   "metadata": {},
   "outputs": [],
   "source": []
  },
  {
   "cell_type": "markdown",
   "id": "fff802ea",
   "metadata": {},
   "source": [
    "#### 71. Consider an array of dimension (5,5,3), how to mulitply it by an array with dimensions (5,5)? (★★★)"
   ]
  },
  {
   "cell_type": "code",
   "execution_count": null,
   "id": "e83ab7b5",
   "metadata": {},
   "outputs": [],
   "source": []
  },
  {
   "cell_type": "markdown",
   "id": "a0865c04",
   "metadata": {},
   "source": [
    "#### 72. How to swap two rows of an array? (★★★)"
   ]
  },
  {
   "cell_type": "code",
   "execution_count": 117,
   "id": "bb510428",
   "metadata": {},
   "outputs": [
    {
     "name": "stdout",
     "output_type": "stream",
     "text": [
      "[[ 9 10 11 12 13 14 15 16 17]\n",
      " [ 0  1  2  3  4  5  6  7  8]\n",
      " [18 19 20 21 22 23 24 25 26]\n",
      " [27 28 29 30 31 32 33 34 35]\n",
      " [36 37 38 39 40 41 42 43 44]\n",
      " [45 46 47 48 49 50 51 52 53]\n",
      " [54 55 56 57 58 59 60 61 62]\n",
      " [63 64 65 66 67 68 69 70 71]\n",
      " [72 73 74 75 76 77 78 79 80]]\n"
     ]
    }
   ],
   "source": [
    "A = np.arange(81).reshape(9,9)\n",
    "A[[0,1]] = A[[1,0]]\n",
    "print(A)"
   ]
  },
  {
   "cell_type": "markdown",
   "id": "52beda8d",
   "metadata": {},
   "source": [
    "#### 73. Consider a set of 10 triplets describing 10 triangles (with shared vertices), find the set of unique line segments composing all the  triangles (★★★)"
   ]
  },
  {
   "cell_type": "code",
   "execution_count": null,
   "id": "5b9895de",
   "metadata": {},
   "outputs": [],
   "source": []
  },
  {
   "cell_type": "markdown",
   "id": "b1f8e571",
   "metadata": {},
   "source": [
    "#### 74. Given a sorted array C that corresponds to a bincount, how to produce an array A such that np.bincount(A) == C? (★★★)"
   ]
  },
  {
   "cell_type": "code",
   "execution_count": null,
   "id": "ea6d42e9",
   "metadata": {},
   "outputs": [],
   "source": []
  },
  {
   "cell_type": "markdown",
   "id": "db1ed658",
   "metadata": {},
   "source": [
    "#### 75. How to compute averages using a sliding window over an array? (★★★)"
   ]
  },
  {
   "cell_type": "code",
   "execution_count": null,
   "id": "9dc6a98a",
   "metadata": {},
   "outputs": [],
   "source": []
  },
  {
   "cell_type": "markdown",
   "id": "1ca35bda",
   "metadata": {},
   "source": [
    "#### 76. Consider a one-dimensional array Z, build a two-dimensional array whose first row is (Z[0],Z[1],Z[2]) and each subsequent row is  shifted by 1 (last row should be (Z[-3],Z[-2],Z[-1]) (★★★)"
   ]
  },
  {
   "cell_type": "code",
   "execution_count": null,
   "id": "900e8b0a",
   "metadata": {},
   "outputs": [],
   "source": []
  },
  {
   "cell_type": "markdown",
   "id": "18bd6fab",
   "metadata": {},
   "source": [
    "#### 77. How to negate a boolean, or to change the sign of a float inplace? (★★★)"
   ]
  },
  {
   "cell_type": "code",
   "execution_count": null,
   "id": "554c5103",
   "metadata": {},
   "outputs": [],
   "source": []
  },
  {
   "cell_type": "markdown",
   "id": "79a5b412",
   "metadata": {},
   "source": [
    "#### 78. Consider 2 sets of points P0,P1 describing lines (2d) and a point p, how to compute distance from p to each line i (P0[i],P1[i])? (★★★)"
   ]
  },
  {
   "cell_type": "code",
   "execution_count": null,
   "id": "4e4eac2f",
   "metadata": {},
   "outputs": [],
   "source": []
  },
  {
   "cell_type": "markdown",
   "id": "33ffa66d",
   "metadata": {},
   "source": [
    "#### 79. Consider 2 sets of points P0,P1 describing lines (2d) and a set of points P, how to compute distance from each point j (P[j]) to each line i (P0[i],P1[i])? (★★★)"
   ]
  },
  {
   "cell_type": "code",
   "execution_count": null,
   "id": "b56c2510",
   "metadata": {},
   "outputs": [],
   "source": []
  },
  {
   "cell_type": "markdown",
   "id": "a0f23dfa",
   "metadata": {},
   "source": [
    "#### 80. Consider an arbitrary array, write a function that extract a subpart with a fixed shape and centered on a given element (pad with a `fill` value when necessary) (★★★)"
   ]
  },
  {
   "cell_type": "code",
   "execution_count": null,
   "id": "4b7b96fc",
   "metadata": {},
   "outputs": [],
   "source": []
  },
  {
   "cell_type": "markdown",
   "id": "cc27e944",
   "metadata": {},
   "source": [
    "#### 81. Consider an array Z = [1,2,3,4,5,6,7,8,9,10,11,12,13,14], how to generate an array R = [[1,2,3,4], [2,3,4,5], [3,4,5,6], ..., [11,12,13,14]]? (★★★)"
   ]
  },
  {
   "cell_type": "code",
   "execution_count": null,
   "id": "2fdaa26c",
   "metadata": {},
   "outputs": [],
   "source": []
  },
  {
   "cell_type": "markdown",
   "id": "9bc44d6e",
   "metadata": {},
   "source": [
    "#### 82. Compute a matrix rank (★★★)"
   ]
  },
  {
   "cell_type": "code",
   "execution_count": null,
   "id": "3a4c7564",
   "metadata": {},
   "outputs": [],
   "source": []
  },
  {
   "cell_type": "markdown",
   "id": "718a82dd",
   "metadata": {},
   "source": [
    "#### 83. How to find the most frequent value in an array?"
   ]
  },
  {
   "cell_type": "code",
   "execution_count": null,
   "id": "8ffc513c",
   "metadata": {},
   "outputs": [],
   "source": []
  },
  {
   "cell_type": "markdown",
   "id": "754ceeba",
   "metadata": {},
   "source": [
    "#### 84. Extract all the contiguous 3x3 blocks from a random 10x10 matrix (★★★)"
   ]
  },
  {
   "cell_type": "code",
   "execution_count": null,
   "id": "c32bb120",
   "metadata": {},
   "outputs": [],
   "source": []
  },
  {
   "cell_type": "markdown",
   "id": "9fc0b63a",
   "metadata": {},
   "source": [
    "#### 85. Create a 2D array subclass such that Z[i,j] == Z[j,i] (★★★)"
   ]
  },
  {
   "cell_type": "code",
   "execution_count": null,
   "id": "c41d0f9b",
   "metadata": {},
   "outputs": [],
   "source": []
  },
  {
   "cell_type": "markdown",
   "id": "ae909782",
   "metadata": {},
   "source": [
    "#### 86. Consider a set of p matrices wich shape (n,n) and a set of p vectors with shape (n,1). How to compute the sum of of the p matrix products at once? (result has shape (n,1)) (★★★)"
   ]
  },
  {
   "cell_type": "code",
   "execution_count": null,
   "id": "013944b1",
   "metadata": {},
   "outputs": [],
   "source": []
  },
  {
   "cell_type": "markdown",
   "id": "5f134bf4",
   "metadata": {},
   "source": [
    "#### 87. Consider a 16x16 array, how to get the block-sum (block size is 4x4)? (★★★)"
   ]
  },
  {
   "cell_type": "code",
   "execution_count": null,
   "id": "bf480005",
   "metadata": {},
   "outputs": [],
   "source": []
  },
  {
   "cell_type": "markdown",
   "id": "aa91a3be",
   "metadata": {},
   "source": [
    "#### 88. How to implement the Game of Life using numpy arrays? (★★★)"
   ]
  },
  {
   "cell_type": "code",
   "execution_count": null,
   "id": "a20f0e2b",
   "metadata": {},
   "outputs": [],
   "source": []
  },
  {
   "cell_type": "markdown",
   "id": "885023d9",
   "metadata": {},
   "source": [
    "#### 89. How to get the n largest values of an array (★★★)"
   ]
  },
  {
   "cell_type": "code",
   "execution_count": null,
   "id": "996ab585",
   "metadata": {},
   "outputs": [],
   "source": []
  },
  {
   "cell_type": "markdown",
   "id": "d0518aeb",
   "metadata": {},
   "source": [
    "#### 90. Given an arbitrary number of vectors, build the cartesian product (every combinations of every item) (★★★)"
   ]
  },
  {
   "cell_type": "code",
   "execution_count": null,
   "id": "d9ae30ca",
   "metadata": {},
   "outputs": [],
   "source": []
  },
  {
   "cell_type": "markdown",
   "id": "20cc5dc6",
   "metadata": {},
   "source": [
    "#### 91. How to create a record array from a regular array? (★★★)"
   ]
  },
  {
   "cell_type": "code",
   "execution_count": null,
   "id": "a7d05a34",
   "metadata": {},
   "outputs": [],
   "source": []
  },
  {
   "cell_type": "markdown",
   "id": "e59a2c44",
   "metadata": {},
   "source": [
    "#### 92. Consider a large vector Z, compute Z to the power of 3 using 3 different methods (★★★)"
   ]
  },
  {
   "cell_type": "code",
   "execution_count": null,
   "id": "916168ea",
   "metadata": {},
   "outputs": [],
   "source": []
  },
  {
   "cell_type": "markdown",
   "id": "f1fc4b70",
   "metadata": {},
   "source": [
    "#### 93. Consider two arrays A and B of shape (8,3) and (2,2). How to find rows of A that contain elements of each row of B regardless of the order of the elements in B? (★★★)"
   ]
  },
  {
   "cell_type": "code",
   "execution_count": null,
   "id": "d35b4705",
   "metadata": {},
   "outputs": [],
   "source": []
  },
  {
   "cell_type": "markdown",
   "id": "821a6ce8",
   "metadata": {},
   "source": [
    "#### 94. Considering a 10x3 matrix, extract rows with unequal values (e.g. [2,2,3]) (★★★)"
   ]
  },
  {
   "cell_type": "code",
   "execution_count": null,
   "id": "5690c131",
   "metadata": {},
   "outputs": [],
   "source": []
  },
  {
   "cell_type": "markdown",
   "id": "9dc9a61c",
   "metadata": {},
   "source": [
    "#### 95. Convert a vector of ints into a matrix binary representation (★★★)"
   ]
  },
  {
   "cell_type": "code",
   "execution_count": null,
   "id": "c728306f",
   "metadata": {},
   "outputs": [],
   "source": []
  },
  {
   "cell_type": "markdown",
   "id": "cca48e6e",
   "metadata": {},
   "source": [
    "#### 96. Given a two dimensional array, how to extract unique rows? (★★★)"
   ]
  },
  {
   "cell_type": "code",
   "execution_count": null,
   "id": "ae2e6484",
   "metadata": {},
   "outputs": [],
   "source": []
  },
  {
   "cell_type": "markdown",
   "id": "3621d474",
   "metadata": {},
   "source": [
    "#### 97. Considering 2 vectors A & B, write the einsum equivalent of inner, outer, sum, and mul function (★★★)"
   ]
  },
  {
   "cell_type": "code",
   "execution_count": null,
   "id": "09238dfb",
   "metadata": {},
   "outputs": [],
   "source": []
  },
  {
   "cell_type": "markdown",
   "id": "26162fae",
   "metadata": {},
   "source": [
    "#### 98. Considering a path described by two vectors (X,Y), how to sample it using equidistant samples (★★★)?"
   ]
  },
  {
   "cell_type": "code",
   "execution_count": null,
   "id": "283c279f",
   "metadata": {},
   "outputs": [],
   "source": []
  },
  {
   "cell_type": "markdown",
   "id": "44b20c57",
   "metadata": {},
   "source": [
    "#### 99. Given an integer n and a 2D array X, select from X the rows which can be interpreted as draws from a multinomial distribution with n degrees, i.e., the rows which only contain integers and which sum to n. (★★★)"
   ]
  },
  {
   "cell_type": "code",
   "execution_count": null,
   "id": "389b7190",
   "metadata": {},
   "outputs": [],
   "source": []
  },
  {
   "cell_type": "markdown",
   "id": "6fa5ed76",
   "metadata": {},
   "source": [
    "#### 100. Compute bootstrapped 95% confidence intervals for the mean of a 1D array X (i.e., resample the elements of an array with replacement N times, compute the mean of each sample, and then compute percentiles over the means). (★★★)"
   ]
  },
  {
   "cell_type": "code",
   "execution_count": null,
   "id": "4db4cc57",
   "metadata": {},
   "outputs": [],
   "source": []
  }
 ],
 "metadata": {
  "kernelspec": {
   "display_name": "Python 3 (ipykernel)",
   "language": "python",
   "name": "python3"
  },
  "language_info": {
   "codemirror_mode": {
    "name": "ipython",
    "version": 3
   },
   "file_extension": ".py",
   "mimetype": "text/x-python",
   "name": "python",
   "nbconvert_exporter": "python",
   "pygments_lexer": "ipython3",
   "version": "3.9.12"
  }
 },
 "nbformat": 4,
 "nbformat_minor": 5
}

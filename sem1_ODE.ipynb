{
 "cells": [
  {
   "cell_type": "markdown",
   "metadata": {},
   "source": [
    "# Initial value problem for ODEs\n",
    "\n",
    "$\\begin{cases} \\frac{du}{dt}=f(t,u) \\\\\n",
    "u(t=0)=u_0\n",
    "\\end{cases}$\n",
    "\n",
    "Let's introduce a grid \n",
    "$\\begin{cases} t_k=k\\cdot \\tau, k=0,1,2,3...N \\\\ \n",
    "u(t_k)=y_k\\end{cases}$\n",
    "\n",
    "\n",
    "## 1. Euler's schemes\n",
    "\n",
    "1. Explicit Euler's scheme\n",
    "\n",
    "$\\frac{y_{k+1}-y_k}{\\tau}=f(t_k,y_k)$\n",
    "\n",
    "2. Implicit Euler's scheme\n",
    "\n",
    "$\\frac{y_{k+1}-y_k}{\\tau}=f(t_{k+1},y_{k+1})$\n",
    "\n",
    "3. Symmetrical Euler's scheme\n",
    "\n",
    "$\\frac{y_{k+1}-y_k}{\\tau}=\\frac{1}{2}\\left(f(t_{k+1},y_{k+1})+f(t_k,y_k)\\right)$\n",
    "\n",
    "### 1.1. Approximation order\n",
    "\n",
    "Let's define $z_n=y_n-u_n$, then for the Symmetrical Euler's scheme:\n",
    "\n",
    "$$\\frac{z_{k+1}-z_k}{\\tau}=\\left(-\\frac{u_{k+1}-u_{k}}{\\tau}+\\frac{1}{2}\\left(f(t_{k+1},u_{k+1})+f(t_k,u_k)\\right)\\right)+\\frac{1}{2}\\left(f(t_{k+1},u_{k+1}+z_{k+1})+f(t_k,y_k+z_k)-f(t_{k+1},u_{k+1})-f(t_k,y_k)\\right)$$\n",
    "\n",
    "$\\psi_k=\\frac{1}{2}\\left(f(t_{k+1},u_{k+1}+z_{k+1})+f(t_k,u_k+z_k)-f(t_{k+1},u_{k+1})-f(t_k,u_k)\\right)\\sim z\\frac{df}{du}$\n",
    "\n",
    "$$\\phi_k=-\\frac{u_{k+1}-u_{k}}{\\tau}+\\frac{1}{2}\\left(f(t_{k+1},u_{k+1})+f(t_k,u_k)\\right)$$ - residual\n",
    "\n",
    "$\\phi_k=-\\frac{u_k+u_k'\\tau+\\frac{1}{2} u_k''\\tau^2+O(\\tau^3)-u_k}{\\tau}+\\frac{1}{2}\\left(f(t_{k+1},u_{k+1})+f(t_k,u_k)\\right)$\n",
    "\n",
    "$\\phi_k=-u_k'-\\frac{1}{2} u_k''\\tau+O(\\tau^2)+\\frac{1}{2}\\left(f(t_{k+1},u_{k+1})+f(t_k,u_k)\\right)$\n",
    "\n",
    "$f(t_{k+1},u_{k+1})=f(t_k,u_k)+\\frac{df}{dt}\\tau+\\frac{df}{du}u'\\tau=u'_k+u''_k\\tau$\n",
    "\n",
    "$\\rightarrow \\phi_k \\sim O(\\tau^2)$\n",
    "\n",
    "\n",
    "### 1.2. Stability\n",
    "\n",
    "Let's consider model equation:\n",
    "\n",
    "$\\frac{du}{dt}=\\lambda u$ with $\\lambda<0$\n",
    "\n",
    "Solution is $u=u_0 e^{\\lambda t}$\n",
    "\n",
    "We know that for $t_2>t_1$ $|u(t_2)|<u|(t_1)|$ so we need $|y_{k+1}|<|y_k|$ for all $k$.\n",
    "\n",
    "1. Explicit Euler's scheme\n",
    "$y_{k+1}<y_k+\\lambda \\tau y_k \\rightarrow |1+\\lambda \\tau|<1 $\n",
    "\n",
    "1. Implicit Euler's scheme\n",
    "$y_{k+1}<y_k+\\lambda \\tau y_{k+1} \\rightarrow |\\frac{1}{1-\\lambda \\tau}|<1 $"
   ]
  },
  {
   "cell_type": "code",
   "execution_count": null,
   "metadata": {
    "ExecuteTime": {
     "end_time": "2022-09-30T06:34:08.180513Z",
     "start_time": "2022-09-30T06:34:07.139632Z"
    }
   },
   "outputs": [],
   "source": [
    "import numpy as np\n",
    "from datetime import datetime\n",
    "import matplotlib.pyplot as plt\n",
    "from scipy.integrate import RK45\n",
    "from scipy.integrate import solve_ivp\n",
    "from scipy.linalg import solve\n",
    "from scipy.integrate import simps\n",
    "\n",
    "\n",
    "def ExplicitEuler(f, y0, t):\n",
    "    y = np.zeros([len(y0), len(t)])\n",
    "    y[:, 0] = y0\n",
    "    for ind in range(0, len(t)-1):\n",
    "        y[:, ind+1] = y[:, ind]+(t[ind+1]-t[ind])*f(t[ind], y[:, ind])\n",
    "    return y"
   ]
  },
  {
   "cell_type": "markdown",
   "metadata": {},
   "source": [
    "## Consider the system with the hamiltonian $H=\\frac{p^2}{2}+\\frac{k^2 x^2}{2}$\n",
    "\n",
    "Hamiltonian equations:\n",
    "\n",
    "$\\begin{cases}\n",
    "\\frac{dx}{dt}=p \\\\\n",
    "\\frac{dp}{dt}=-k^2x\n",
    "\\end{cases}$\n",
    "\n",
    "or $\\frac{d^2p}{dx^2}+k^2p=0$\n",
    "\n",
    "$\\begin{cases}\n",
    "p=Asin(kt)+Bcos(kt)\\\\\n",
    "x=\\frac{B}{k}sin(kt)-\\frac{A}{k}cos(kt)\n",
    "\\end{cases}$\n",
    "\n",
    "Let's try to solve this system numerically."
   ]
  },
  {
   "cell_type": "code",
   "execution_count": null,
   "metadata": {
    "ExecuteTime": {
     "end_time": "2022-09-30T06:34:16.700378Z",
     "start_time": "2022-09-30T06:34:16.688338Z"
    }
   },
   "outputs": [],
   "source": [
    "def RealSolution(t, x0, k):\n",
    "    A = -x0[0]*k\n",
    "    B = x0[1]\n",
    "    x = -A/k*np.cos(k*t)+B/k*np.sin(k*t)\n",
    "    p = A*np.sin(k*t)+B*np.cos(k*t)\n",
    "    return x, p\n",
    "\n",
    "\n",
    "def EnergySimple(X, k):\n",
    "    H = k**2*X[0]**2/2+X[1]**2/2\n",
    "    return H\n",
    "\n",
    "\n",
    "def HamSimple(t, X, k):\n",
    "    F = np.zeros(2)\n",
    "    F[0] = X[1]\n",
    "    F[1] = -k**2*X[0]\n",
    "    return F\n",
    "\n",
    "\n",
    "t0 = 0\n",
    "tf = 10\n",
    "k = 10\n",
    "x0 = np.array([0, 1])\n",
    "h0 = k*x0[0]**2/2+x0[1]**2/2"
   ]
  },
  {
   "cell_type": "code",
   "execution_count": null,
   "metadata": {
    "ExecuteTime": {
     "end_time": "2022-09-30T06:38:59.768176Z",
     "start_time": "2022-09-30T06:38:55.795472Z"
    }
   },
   "outputs": [],
   "source": [
    "%%timeit\n",
    "N = 4000\n",
    "tE = np.linspace(t0, tf, N)\n",
    "tau = tE[1]-tE[0]\n",
    "XE = ExplicitEuler(lambda t, X: HamSimple(t, X, k), x0, tE)"
   ]
  },
  {
   "cell_type": "code",
   "execution_count": null,
   "metadata": {
    "ExecuteTime": {
     "end_time": "2022-09-30T06:39:17.185807Z",
     "start_time": "2022-09-30T06:39:16.332608Z"
    }
   },
   "outputs": [],
   "source": [
    "fig, ax = plt.subplots(1, 2, figsize=(15, 10), sharex=True)\n",
    "ax[0].plot(tE, XE[0])\n",
    "ax[0].plot(tE, RealSolution(tE, x0, k)[0])\n",
    "ax[0].set_ylabel('$x_{num}$')\n",
    "ax[1].plot(tE, np.abs(XE[0]-RealSolution(tE, x0, k)[0]))\n",
    "ax[1].set_ylabel('$|x_{num}-x_{exact}|$')"
   ]
  },
  {
   "cell_type": "code",
   "execution_count": null,
   "metadata": {
    "ExecuteTime": {
     "end_time": "2022-09-30T06:50:45.503050Z",
     "start_time": "2022-09-30T06:50:44.507349Z"
    }
   },
   "outputs": [],
   "source": [
    "plt.figure(figsize=(10, 10))\n",
    "plt.plot(tE, np.abs(EnergySimple(XE, k)-h0), label='$h-h_0$')\n",
    "plt.plot(tE, np.abs(XE[0]-RealSolution(tE, x0, k)[0]), label='$|x-x_{ex}|$')\n",
    "\n",
    "plt.legend()\n",
    "plt.grid()\n",
    "plt.xscale('log')\n",
    "plt.yscale('log')"
   ]
  },
  {
   "cell_type": "markdown",
   "metadata": {},
   "source": [
    "Implicit\n",
    "$$\\begin{cases}x_{n+1}=x_n+\\tau \\,p_{n+1} \\\\\n",
    "p_{n+1}=p_n-\\tau\\, k^2x_{n+1}\n",
    "\\end{cases}$$"
   ]
  },
  {
   "cell_type": "code",
   "execution_count": null,
   "metadata": {
    "ExecuteTime": {
     "end_time": "2022-09-30T06:53:29.163584Z",
     "start_time": "2022-09-30T06:53:29.152663Z"
    }
   },
   "outputs": [],
   "source": [
    "rsd =  # your id\n",
    "np.random.seed(rsd)\n",
    "kr = float(np.random.uniform(0.5, 10, 1))\n",
    "x0r = np.random.uniform(-5, 5, 2)\n",
    "\n",
    "\n",
    "def ImplicitEuler(t, y0, k):\n",
    "    y = np.zeros([len(y0), len(t)])\n",
    "    y[:, 0] = y0\n",
    "    for ind in range(0, len(t)-1):\n",
    "        # your code\n",
    "    return y\n",
    "\n",
    "\n",
    "XIE = ImplicitEuler(tE, x0r, kr)\n",
    "\n",
    "dX = np.abs(XIE[0]-RealSolution(tE, x0r, kr)[0])\n",
    "fig, ax = plt.subplots(1, 2, figsize=(15, 10), sharex=True)\n",
    "ax[0].plot(tE, XIE[0])\n",
    "ax[0].plot(tE, RealSolution(tE, x0r, kr)[0])\n",
    "ax[0].set_ylabel('$x_{num}$')\n",
    "ax[1].plot(tE, dX)\n",
    "ax[1].set_ylabel('$|x_{num}-x_{real}|$')\n",
    "\n",
    "print(simps(dX, tE))"
   ]
  },
  {
   "cell_type": "markdown",
   "metadata": {},
   "source": [
    "# 2. Runge-Kutta schemes\n",
    "\n",
    "### $\\begin{cases} \\frac{dU}{dt}=F(t,U) \\\\\n",
    "U(t=0)=U_0\n",
    "\\end{cases}$\n",
    "\n",
    "Basic idea - several steps on the new grid $t_{n/2}$.\n",
    "\n",
    "Methods are explicit but allow us to construct $k$-th order approximation.\n",
    "\n",
    "For the second order method:\n",
    "\n",
    "1. Predictor step:\n",
    "\n",
    "$\\frac{U_{n+1/2}-U_n}{h/2}=F(t_n,U_n)$\n",
    "\n",
    "2. Corrector step:\n",
    "\n",
    "$\\frac{U_{n+1}-U_n}{h/2}=F(t_n+\\frac{h}{2},U_{n+1/2})$\n",
    "\n",
    "Residual:\n",
    "\n",
    "$\\phi_n=-\\frac{U_{n+1}-U_{n}}{h}+F(t_n+\\frac{h}{2},U_n+\\frac{h}{2})$\n",
    "\n",
    "$\\phi_n=-U_n'-\\frac{1}{2}U_{n}''h+O(h^2)+\\left(F(t_n,U_n)+\\frac{h}{2}(F'+(\\nabla_U F \\cdot U') )\\right)\\sim O(h^2)$\n",
    "\n",
    "The most common is the R-K scheme of the 4th order:\n",
    "\n",
    "Then:\n",
    "\n",
    "$\\begin{cases}\n",
    "k_1=F(t_n,U_n) \\\\\n",
    "k_2=F(t_n+\\frac{h}{2},U_n+\\frac{h}{2}k_1) \\\\\n",
    "k_3=F(t_n+\\frac{h}{2},U_n+\\frac{h}{2}k_2) \\\\\n",
    "k_4=F(t_n+h,U_n+hk_3)\n",
    "\\end{cases}$\n",
    "\n",
    "$U_{n+1}=U_n+\\frac{h}{6}(k_1+2k_2+k_3+k_4)$"
   ]
  },
  {
   "cell_type": "code",
   "execution_count": null,
   "metadata": {
    "ExecuteTime": {
     "end_time": "2022-09-30T07:13:50.881637Z",
     "start_time": "2022-09-30T07:13:44.553530Z"
    }
   },
   "outputs": [],
   "source": [
    "% % timeit\n",
    "method = 'RK23'\n",
    "\n",
    "\n",
    "X = solve_ivp(fun=lambda t, Y: HamSimple(t, Y, k), t_span=(\n",
    "    t0, tf), y0=x0, method=method, max_step=1e-2)"
   ]
  },
  {
   "cell_type": "code",
   "execution_count": null,
   "metadata": {
    "ExecuteTime": {
     "end_time": "2022-09-30T07:15:01.327362Z",
     "start_time": "2022-09-30T07:14:59.774082Z"
    }
   },
   "outputs": [],
   "source": [
    "% % timeit\n",
    "method = 'RK45'\n",
    "\n",
    "\n",
    "X = solve_ivp(fun=lambda t, Y: HamSimple(t, Y, k), t_span=(\n",
    "    t0, tf), y0=x0, method=method, max_step=1e-2)"
   ]
  },
  {
   "cell_type": "code",
   "execution_count": null,
   "metadata": {
    "ExecuteTime": {
     "end_time": "2022-09-30T07:15:01.327362Z",
     "start_time": "2022-09-30T07:14:59.774082Z"
    }
   },
   "outputs": [],
   "source": [
    "% % timeit\n",
    "method = 'DOP853'\n",
    "\n",
    "\n",
    "X = solve_ivp(fun=lambda t, Y: HamSimple(t, Y, k), t_span=(\n",
    "    t0, tf), y0=x0, method=method, max_step=1e-2)"
   ]
  },
  {
   "cell_type": "code",
   "execution_count": null,
   "metadata": {
    "ExecuteTime": {
     "end_time": "2022-09-30T07:17:11.530474Z",
     "start_time": "2022-09-30T07:17:11.112428Z"
    }
   },
   "outputs": [],
   "source": [
    "x23 = solve_ivp(fun=lambda t, Y: HamSimple(t, Y, k), t_span=(\n",
    "    t0, tf), y0=x0, method='RK23', max_step=1e-2)\n",
    "x45 = solve_ivp(fun=lambda t, Y: HamSimple(t, Y, k), t_span=(\n",
    "    t0, tf), y0=x0, method='RK45', max_step=1e-2)\n",
    "x853 = solve_ivp(fun=lambda t, Y: HamSimple(t, Y, k), t_span=(\n",
    "    t0, tf), y0=x0, method='DOP853', max_step=1e-2)\n",
    "\n",
    "\n",
    "\n",
    "h23 = EnergySimple(x23.y, k)\n",
    "h45 = EnergySimple(x45.y, k)\n",
    "h853 = EnergySimple(x853.y, k)"
   ]
  },
  {
   "cell_type": "code",
   "execution_count": null,
   "metadata": {
    "ExecuteTime": {
     "end_time": "2022-09-30T07:19:31.187585Z",
     "start_time": "2022-09-30T07:19:30.304775Z"
    }
   },
   "outputs": [],
   "source": [
    "fig, ax = plt.subplots(2,3,figsize=(15,10),sharex=True)\n",
    "ax[0,0].plot(x23.t,x23.y[0],label='RK23')\n",
    "ax[0,0].plot(x23.t,RealSolution(x23.t,x0,k)[0])\n",
    "\n",
    "ax[0,1].plot(x45.t,x45.y[0],label='RK45')\n",
    "ax[0,1].plot(x45.t,RealSolution(x45.t,x0,k)[0])\n",
    "\n",
    "ax[0,2].plot(x853.t,x853.y[0],label='DOP853')\n",
    "ax[0,2].plot(x853.t,RealSolution(x853.t,x0,k)[0])\n",
    "\n",
    "ax[0,0].set_ylabel('$x_{num}$')\n",
    "\n",
    "ax[1,0].plot(x23.t,np.abs(x23.y[0]-RealSolution(x23.t,x0,k)[0]))\n",
    "ax[1,1].plot(x45.t,np.abs(x45.y[0]-RealSolution(x45.t,x0,k)[0]))\n",
    "ax[1,2].plot(x853.t,np.abs(x853.y[0]-RealSolution(x853.t,x0,k)[0]))\n",
    "ax[1,0].set_ylabel('$|x_{num}-x_{real}|$')\n",
    "for axis in ax[0,:]:\n",
    "    axis.legend()"
   ]
  },
  {
   "cell_type": "code",
   "execution_count": null,
   "metadata": {
    "ExecuteTime": {
     "end_time": "2022-09-30T07:20:53.467151Z",
     "start_time": "2022-09-30T07:20:52.822048Z"
    }
   },
   "outputs": [],
   "source": [
    "fig, ax = plt.subplots(2,3,figsize=(15,10))\n",
    "ax[0,0].plot(x23.y[0],x23.y[1])\n",
    "ax[0,1].plot(x45.y[0],x45.y[1])\n",
    "ax[0,2].plot(x853.y[0],x853.y[1])\n",
    "\n",
    "ax[1,0].plot(x23.t,np.abs(h23-h0))\n",
    "ax[1,1].plot(x45.t,np.abs(h45-h0))\n",
    "ax[1,2].plot(x853.t,np.abs(h853-h0))"
   ]
  }
 ],
 "metadata": {
  "kernelspec": {
   "display_name": "Python 3",
   "language": "python",
   "name": "python3"
  },
  "language_info": {
   "codemirror_mode": {
    "name": "ipython",
    "version": 3
   },
   "file_extension": ".py",
   "mimetype": "text/x-python",
   "name": "python",
   "nbconvert_exporter": "python",
   "pygments_lexer": "ipython3",
   "version": "3.8.8"
  },
  "latex_envs": {
   "LaTeX_envs_menu_present": true,
   "autoclose": false,
   "autocomplete": true,
   "bibliofile": "biblio.bib",
   "cite_by": "apalike",
   "current_citInitial": 1,
   "eqLabelWithNumbers": true,
   "eqNumInitial": 1,
   "hotkeys": {
    "equation": "Ctrl-E",
    "itemize": "Ctrl-I"
   },
   "labels_anchors": false,
   "latex_user_defs": false,
   "report_style_numbering": false,
   "user_envs_cfg": false
  },
  "toc": {
   "base_numbering": 1,
   "nav_menu": {},
   "number_sections": true,
   "sideBar": true,
   "skip_h1_title": false,
   "title_cell": "Table of Contents",
   "title_sidebar": "Contents",
   "toc_cell": false,
   "toc_position": {},
   "toc_section_display": true,
   "toc_window_display": false
  }
 },
 "nbformat": 4,
 "nbformat_minor": 4
}
